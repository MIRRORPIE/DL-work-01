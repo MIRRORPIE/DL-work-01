{
 "cells": [
  {
   "cell_type": "code",
   "execution_count": 0,
   "metadata": {
    "colab": {},
    "colab_type": "code",
    "id": "n6Tfz5bZUQOg"
   },
   "outputs": [],
   "source": [
    ""
   ]
  },
  {
   "cell_type": "markdown",
   "metadata": {
    "colab_type": "text",
    "id": "Jos7_DEkXW6w"
   },
   "source": [
    "# Basics"
   ]
  },
  {
   "cell_type": "code",
   "execution_count": 0,
   "metadata": {
    "colab": {
     "base_uri": "https://localhost:8080/",
     "height": 50
    },
    "colab_type": "code",
    "id": "7hsOHENBMobb",
    "outputId": "01a10042-1803-43e6-8d83-66b7ee039632"
   },
   "outputs": [
    {
     "name": "stdout",
     "output_type": "stream",
     "text": [
      "['nokia', 'guru1200', 62]\n",
      "['nokia', 'guru1200', 62]\n"
     ]
    }
   ],
   "source": [
    "mp=[\"nokia\",\"guru1200\",62]\n",
    "mdp=mp\n",
    "print(mp)\n",
    "print(mdp)"
   ]
  },
  {
   "cell_type": "code",
   "execution_count": 0,
   "metadata": {
    "colab": {
     "base_uri": "https://localhost:8080/",
     "height": 50
    },
    "colab_type": "code",
    "id": "mQv8aDpKS7Dm",
    "outputId": "885d4ae9-9ceb-4ee9-d134-daa1f3b595a4"
   },
   "outputs": [
    {
     "name": "stdout",
     "output_type": "stream",
     "text": [
      "mp: ['nokia', 'guru1200', 85]\n",
      "mdp: ['nokia', 'guru1200', 85]\n"
     ]
    }
   ],
   "source": [
    "mp[2]=85\n",
    "print(\"mp:\",mp)\n",
    "print(\"mdp:\",mdp)"
   ]
  },
  {
   "cell_type": "code",
   "execution_count": 0,
   "metadata": {
    "colab": {
     "base_uri": "https://localhost:8080/",
     "height": 50
    },
    "colab_type": "code",
    "id": "NAbhFq1yTRsJ",
    "outputId": "18eeb81e-d1e6-487a-f060-a712e4f3f66f"
   },
   "outputs": [
    {
     "name": "stdout",
     "output_type": "stream",
     "text": [
      "mp: ['nokia', 'guru1200', 85]\n",
      "mdp: ['nokia', 'guru1200', 85]\n"
     ]
    }
   ],
   "source": [
    "mdp=mp.copy()\n",
    "print(\"mp:\",mp)\n",
    "print(\"mdp:\",mdp)"
   ]
  },
  {
   "cell_type": "code",
   "execution_count": 0,
   "metadata": {
    "colab": {
     "base_uri": "https://localhost:8080/",
     "height": 50
    },
    "colab_type": "code",
    "id": "kKF_goDOTdAH",
    "outputId": "8ba78877-eead-4982-d561-244cc8f33bf2"
   },
   "outputs": [
    {
     "name": "stdout",
     "output_type": "stream",
     "text": [
      "mp: ['nokia', 'guru1200', 62]\n",
      "mdp: ['nokia', 'guru1200', 85]\n"
     ]
    }
   ],
   "source": [
    "mp[2]=62\n",
    "print(\"mp:\",mp)\n",
    "print(\"mdp:\",mdp)"
   ]
  },
  {
   "cell_type": "code",
   "execution_count": 0,
   "metadata": {
    "colab": {
     "base_uri": "https://localhost:8080/",
     "height": 34
    },
    "colab_type": "code",
    "id": "91uVMm_qToil",
    "outputId": "446400d2-6701-4935-dcd2-edec5604826e"
   },
   "outputs": [
    {
     "name": "stdout",
     "output_type": "stream",
     "text": [
      "[0, 1, 2, 3, 4]\n"
     ]
    }
   ],
   "source": [
    "a=list(range(5))\n",
    "print(a)"
   ]
  },
  {
   "cell_type": "code",
   "execution_count": 0,
   "metadata": {
    "colab": {
     "base_uri": "https://localhost:8080/",
     "height": 34
    },
    "colab_type": "code",
    "id": "F_QqpQZhTvpq",
    "outputId": "cde4bf45-5693-4f72-dfad-178e6490d854"
   },
   "outputs": [
    {
     "name": "stdout",
     "output_type": "stream",
     "text": [
      "[0, 1, 4, 9, 16]\n"
     ]
    }
   ],
   "source": [
    "b=list(map(lambda x: x**2, a))\n",
    "print(b)"
   ]
  },
  {
   "cell_type": "code",
   "execution_count": 0,
   "metadata": {
    "colab": {
     "base_uri": "https://localhost:8080/",
     "height": 34
    },
    "colab_type": "code",
    "id": "kSsqw3lAT5_0",
    "outputId": "fd4bdf99-e709-4c75-96af-46a6a7a5da84"
   },
   "outputs": [
    {
     "name": "stdout",
     "output_type": "stream",
     "text": [
      "[0, 4, 16]\n"
     ]
    }
   ],
   "source": [
    "c=list(filter(lambda x: x%2==0, b))\n",
    "print(c)"
   ]
  },
  {
   "cell_type": "code",
   "execution_count": 0,
   "metadata": {
    "colab": {
     "base_uri": "https://localhost:8080/",
     "height": 34
    },
    "colab_type": "code",
    "id": "ydqAcP4UUDs5",
    "outputId": "ae11162f-edd2-4e7f-fe72-72071f88531b"
   },
   "outputs": [
    {
     "name": "stdout",
     "output_type": "stream",
     "text": [
      "1549213580.3621788\n"
     ]
    }
   ],
   "source": [
    "import time\n",
    "tic=time.time()\n",
    "print(tic)"
   ]
  },
  {
   "cell_type": "code",
   "execution_count": 0,
   "metadata": {
    "colab": {
     "base_uri": "https://localhost:8080/",
     "height": 34
    },
    "colab_type": "code",
    "id": "oJxenCzsUzry",
    "outputId": "f89cca91-f245-4cdf-ff6f-0154b358d666"
   },
   "outputs": [
    {
     "name": "stdout",
     "output_type": "stream",
     "text": [
      "Elapsed time in sec 1.9550323486328125e-05\n"
     ]
    }
   ],
   "source": [
    "tic=time.time()\n",
    "#do something that takes some time that is to be measured\n",
    "toc=time.time()\n",
    "print(\"Elapsed time in sec\",toc-tic)"
   ]
  },
  {
   "cell_type": "code",
   "execution_count": 0,
   "metadata": {
    "colab": {
     "base_uri": "https://localhost:8080/",
     "height": 34
    },
    "colab_type": "code",
    "id": "guNfxpFDVYot",
    "outputId": "446efd57-80b2-46c1-dfc2-803c6e65b8e0"
   },
   "outputs": [
    {
     "name": "stdout",
     "output_type": "stream",
     "text": [
      "Elapsed time in sec 8.749961853027344e-05\n"
     ]
    }
   ],
   "source": [
    "my_list=list(range(1000000))\n",
    "tic=time.time()\n",
    "my_list_squared=(map(lambda x: x**2, my_list))\n",
    "toc=time.time()\n",
    "print(\"Elapsed time in sec\",toc-tic)"
   ]
  },
  {
   "cell_type": "code",
   "execution_count": 0,
   "metadata": {
    "colab": {
     "base_uri": "https://localhost:8080/",
     "height": 34
    },
    "colab_type": "code",
    "id": "jK8cSqgUV5uM",
    "outputId": "41f41560-49c4-4f86-816e-18a28af3d1ac"
   },
   "outputs": [
    {
     "name": "stdout",
     "output_type": "stream",
     "text": [
      "Elapsed time in sec 7.748603820800781e-05\n"
     ]
    }
   ],
   "source": [
    "my_tuple=tuple(range(1000000))\n",
    "tic=time.time()\n",
    "my_tuple_squared=(map(lambda x: x**2, my_list))\n",
    "toc=time.time()\n",
    "print(\"Elapsed time in sec\",toc-tic)"
   ]
  },
  {
   "cell_type": "code",
   "execution_count": 0,
   "metadata": {
    "colab": {},
    "colab_type": "code",
    "id": "6L3TqgDOWUMH"
   },
   "outputs": [],
   "source": [
    "#tuple and sets takes less time"
   ]
  },
  {
   "cell_type": "code",
   "execution_count": 0,
   "metadata": {
    "colab": {},
    "colab_type": "code",
    "id": "K-_fvY7yWdG9"
   },
   "outputs": [],
   "source": [
    ""
   ]
  },
  {
   "cell_type": "markdown",
   "metadata": {
    "colab_type": "text",
    "id": "Q4VfiBTVmpNJ"
   },
   "source": [
    "# Python Packages"
   ]
  },
  {
   "cell_type": "code",
   "execution_count": 0,
   "metadata": {
    "colab": {
     "base_uri": "https://localhost:8080/",
     "height": 50
    },
    "colab_type": "code",
    "id": "tcIszSZbmtUd",
    "outputId": "ba06128d-ef6a-4c59-e850-9d4d02c39bf2"
   },
   "outputs": [
    {
     "name": "stdout",
     "output_type": "stream",
     "text": [
      "Elapsed time in sec by own method is: 0.0013163089752197266\n",
      "Elapsed time in sec by packages mwthod is: 0.00011229515075683594\n"
     ]
    }
   ],
   "source": [
    "#library vs our own code\n",
    "\n",
    "import time\n",
    "import math\n",
    "numbers=list(range(1,101))\n",
    "\n",
    "tic=time.time()\n",
    "for x in numbers:\n",
    "  y=1\n",
    "  for i in range(1,x+1):\n",
    "    y*=i\n",
    "toc=time.time()\n",
    "print(\"Elapsed time in sec by own method is:\",toc-tic)\n",
    "\n",
    "\n",
    "tic=time.time()\n",
    "for x in numbers:\n",
    "  y=math.factorial(x)\n",
    "toc=time.time()\n",
    "print(\"Elapsed time in sec by packages mwthod is:\",toc-tic)"
   ]
  },
  {
   "cell_type": "code",
   "execution_count": 0,
   "metadata": {
    "colab": {},
    "colab_type": "code",
    "id": "WMXq_7zBohPZ"
   },
   "outputs": [],
   "source": [
    "!echo 'def hello():' >my_first_module.py\n",
    "!echo '    print(\"hello, i am living in a different file!!!\")' >>my_first_module.py"
   ]
  },
  {
   "cell_type": "code",
   "execution_count": 0,
   "metadata": {
    "colab": {
     "base_uri": "https://localhost:8080/",
     "height": 50
    },
    "colab_type": "code",
    "id": "NSWH-S3jpP0-",
    "outputId": "9a4c8a99-7dd8-40bd-c9d3-cde25d32f06d"
   },
   "outputs": [
    {
     "name": "stdout",
     "output_type": "stream",
     "text": [
      "def hello():\n",
      "    print(\"hello, i am living in a different file!!!\")\n"
     ]
    }
   ],
   "source": [
    "!cat my_first_module.py"
   ]
  },
  {
   "cell_type": "code",
   "execution_count": 0,
   "metadata": {
    "colab": {
     "base_uri": "https://localhost:8080/",
     "height": 34
    },
    "colab_type": "code",
    "id": "K8bUiarUpzrA",
    "outputId": "baa7c26e-30ff-43fa-8b35-fc4b7344c9a5"
   },
   "outputs": [
    {
     "name": "stdout",
     "output_type": "stream",
     "text": [
      "hello, i am living in a different file!!!\n"
     ]
    }
   ],
   "source": [
    "import my_first_module\n",
    "my_first_module.hello()"
   ]
  },
  {
   "cell_type": "code",
   "execution_count": 0,
   "metadata": {
    "colab": {},
    "colab_type": "code",
    "id": "4yPDaww2qAus"
   },
   "outputs": [],
   "source": [
    ""
   ]
  },
  {
   "cell_type": "markdown",
   "metadata": {
    "colab_type": "text",
    "id": "HC7X5JBcx7Ll"
   },
   "source": [
    "# File handling"
   ]
  },
  {
   "cell_type": "code",
   "execution_count": 0,
   "metadata": {
    "colab": {
     "base_uri": "https://localhost:8080/",
     "height": 205
    },
    "colab_type": "code",
    "id": "yLvEnobIx_BU",
    "outputId": "e942b902-9458-4dfe-ee14-5c398453b0d1"
   },
   "outputs": [
    {
     "name": "stdout",
     "output_type": "stream",
     "text": [
      "--2019-02-03 19:15:09--  https://www.dropbox.com/s/w94odi4aqlk44lf/mobile_claned.csv\n",
      "Resolving www.dropbox.com (www.dropbox.com)... 162.125.9.1, 2620:100:601b:1::a27d:801\n",
      "Connecting to www.dropbox.com (www.dropbox.com)|162.125.9.1|:443... connected.\n",
      "HTTP request sent, awaiting response... 301 Moved Permanently\n",
      "Location: /s/raw/w94odi4aqlk44lf/mobile_claned.csv [following]\n",
      "--2019-02-03 19:15:14--  https://www.dropbox.com/s/raw/w94odi4aqlk44lf/mobile_claned.csv\n",
      "Reusing existing connection to www.dropbox.com:443.\n",
      "HTTP request sent, awaiting response... 404 Not Found\n",
      "2019-02-03 19:15:14 ERROR 404: Not Found.\n",
      "\n"
     ]
    }
   ],
   "source": [
    "!wget https://www.dropbox.com/s/w94odi4aqlk44lf/mobile_claned.csv"
   ]
  },
  {
   "cell_type": "code",
   "execution_count": 0,
   "metadata": {
    "colab": {},
    "colab_type": "code",
    "id": "16eynZ67yTLw"
   },
   "outputs": [],
   "source": [
    ""
   ]
  },
  {
   "cell_type": "markdown",
   "metadata": {
    "colab_type": "text",
    "id": "a1jf2M2M0vdi"
   },
   "source": [
    "# Classes"
   ]
  },
  {
   "cell_type": "code",
   "execution_count": 0,
   "metadata": {
    "colab": {
     "base_uri": "https://localhost:8080/",
     "height": 50
    },
    "colab_type": "code",
    "id": "d7aaxRvi1EBp",
    "outputId": "775d4493-fadd-44b2-ae80-29343fceee1e"
   },
   "outputs": [
    {
     "name": "stdout",
     "output_type": "stream",
     "text": [
      "iphone 5s 4.5 False\n"
     ]
    },
    {
     "data": {
      "text/plain": [
       "__main__.Mobile_phone"
      ]
     },
     "execution_count": 37,
     "metadata": {
      "tags": []
     },
     "output_type": "execute_result"
    }
   ],
   "source": [
    "class Mobile_phone:\n",
    "  def __init__(self,name,is_android,scr_size):\n",
    "    self.name=name\n",
    "    self.is_android=is_android\n",
    "    self.scr_size=scr_size\n",
    "    \n",
    "    \n",
    "new_phone=Mobile_phone(\"iphone 5s\",False,4.5)\n",
    "print(new_phone.name,new_phone.scr_size,new_phone.is_android)\n",
    "type(new_phone)"
   ]
  },
  {
   "cell_type": "code",
   "execution_count": 0,
   "metadata": {
    "colab": {},
    "colab_type": "code",
    "id": "9-A1S04N1oK2"
   },
   "outputs": [],
   "source": [
    ""
   ]
  },
  {
   "cell_type": "markdown",
   "metadata": {
    "colab_type": "text",
    "id": "3dqKxkkS3HDK"
   },
   "source": [
    "# NumPy"
   ]
  },
  {
   "cell_type": "code",
   "execution_count": 0,
   "metadata": {
    "colab": {},
    "colab_type": "code",
    "id": "ia-xuyxz3N_3"
   },
   "outputs": [],
   "source": [
    "import numpy as np"
   ]
  },
  {
   "cell_type": "code",
   "execution_count": 0,
   "metadata": {
    "colab": {
     "base_uri": "https://localhost:8080/",
     "height": 50
    },
    "colab_type": "code",
    "id": "hswJTMW13edI",
    "outputId": "f31130b1-b039-4b8e-b68e-122bc723a402"
   },
   "outputs": [
    {
     "name": "stdout",
     "output_type": "stream",
     "text": [
      "[1 2 3]\n",
      "<class 'numpy.ndarray'>\n"
     ]
    }
   ],
   "source": [
    "x=np.array([1,2,3])\n",
    "print(x)\n",
    "print(type(x))"
   ]
  },
  {
   "cell_type": "code",
   "execution_count": 0,
   "metadata": {
    "colab": {
     "base_uri": "https://localhost:8080/",
     "height": 34
    },
    "colab_type": "code",
    "id": "0UzPeabF3n1D",
    "outputId": "a9ce7eb1-0eb9-4458-bcc4-eb6e89f1ce2d"
   },
   "outputs": [
    {
     "data": {
      "text/plain": [
       "numpy.ndarray"
      ]
     },
     "execution_count": 3,
     "metadata": {
      "tags": []
     },
     "output_type": "execute_result"
    }
   ],
   "source": [
    "l=[4,6,8]\n",
    "y=np.asarray(l)\n",
    "type(y)"
   ]
  },
  {
   "cell_type": "code",
   "execution_count": 0,
   "metadata": {
    "colab": {
     "base_uri": "https://localhost:8080/",
     "height": 34
    },
    "colab_type": "code",
    "id": "T5Ej7o1P38qm",
    "outputId": "60dfa6a1-0692-4936-9c86-55807c575ef6"
   },
   "outputs": [
    {
     "data": {
      "text/plain": [
       "(3,)"
      ]
     },
     "execution_count": 4,
     "metadata": {
      "tags": []
     },
     "output_type": "execute_result"
    }
   ],
   "source": [
    "y.shape"
   ]
  },
  {
   "cell_type": "code",
   "execution_count": 0,
   "metadata": {
    "colab": {
     "base_uri": "https://localhost:8080/",
     "height": 50
    },
    "colab_type": "code",
    "id": "bEPTenId4LOS",
    "outputId": "303f5d7b-3cac-4f05-d450-283c88e498a2"
   },
   "outputs": [
    {
     "name": "stdout",
     "output_type": "stream",
     "text": [
      "[[1 2 3]\n",
      " [4 5 6]]\n"
     ]
    }
   ],
   "source": [
    "x=np.array([[1,2,3],[4,5,6]])\n",
    "print(x)"
   ]
  },
  {
   "cell_type": "code",
   "execution_count": 0,
   "metadata": {
    "colab": {
     "base_uri": "https://localhost:8080/",
     "height": 34
    },
    "colab_type": "code",
    "id": "cJUfM-G8bSLb",
    "outputId": "1092ab79-6f16-4777-cc99-8a8740b8e08e"
   },
   "outputs": [
    {
     "name": "stdout",
     "output_type": "stream",
     "text": [
      "(2, 3)\n"
     ]
    }
   ],
   "source": [
    "print(x.shape)"
   ]
  },
  {
   "cell_type": "code",
   "execution_count": 0,
   "metadata": {
    "colab": {
     "base_uri": "https://localhost:8080/",
     "height": 34
    },
    "colab_type": "code",
    "id": "HZyeyfX2bUT3",
    "outputId": "f0d14a90-fc8e-483b-c0ad-b7a72f1d6922"
   },
   "outputs": [
    {
     "data": {
      "text/plain": [
       "1"
      ]
     },
     "execution_count": 7,
     "metadata": {
      "tags": []
     },
     "output_type": "execute_result"
    }
   ],
   "source": [
    "x[0,0]"
   ]
  },
  {
   "cell_type": "code",
   "execution_count": 0,
   "metadata": {
    "colab": {
     "base_uri": "https://localhost:8080/",
     "height": 34
    },
    "colab_type": "code",
    "id": "UMejht4gbf8_",
    "outputId": "0fd8cd8d-a780-468a-c54c-623043914fad"
   },
   "outputs": [
    {
     "data": {
      "text/plain": [
       "6"
      ]
     },
     "execution_count": 9,
     "metadata": {
      "tags": []
     },
     "output_type": "execute_result"
    }
   ],
   "source": [
    "x[1,2]"
   ]
  },
  {
   "cell_type": "code",
   "execution_count": 0,
   "metadata": {
    "colab": {
     "base_uri": "https://localhost:8080/",
     "height": 34
    },
    "colab_type": "code",
    "id": "1COx-GvxbjEx",
    "outputId": "d2814e20-374c-43c8-ddb1-5468ac83296c"
   },
   "outputs": [
    {
     "data": {
      "text/plain": [
       "array([1, 2])"
      ]
     },
     "execution_count": 10,
     "metadata": {
      "tags": []
     },
     "output_type": "execute_result"
    }
   ],
   "source": [
    "x[0, 0:2]"
   ]
  },
  {
   "cell_type": "code",
   "execution_count": 0,
   "metadata": {
    "colab": {
     "base_uri": "https://localhost:8080/",
     "height": 84
    },
    "colab_type": "code",
    "id": "Wi1pJkX6boLK",
    "outputId": "62d767c6-637c-41f5-f73f-f402c97aec4a"
   },
   "outputs": [
    {
     "name": "stdout",
     "output_type": "stream",
     "text": [
      "[[0. 0. 0. 0. 0.]\n",
      " [0. 0. 0. 0. 0.]\n",
      " [0. 0. 0. 0. 0.]\n",
      " [0. 0. 0. 0. 0.]]\n"
     ]
    }
   ],
   "source": [
    "x=np.zeros((4,5))\n",
    "print(x)"
   ]
  },
  {
   "cell_type": "code",
   "execution_count": 0,
   "metadata": {
    "colab": {
     "base_uri": "https://localhost:8080/",
     "height": 84
    },
    "colab_type": "code",
    "id": "Eqq2oSNCbxK4",
    "outputId": "01fd3489-dea9-4e20-dc3f-132a28410146"
   },
   "outputs": [
    {
     "name": "stdout",
     "output_type": "stream",
     "text": [
      "[[1. 0. 0. 0. 0.]\n",
      " [0. 1. 0. 0. 0.]\n",
      " [0. 0. 1. 0. 0.]\n",
      " [0. 0. 0. 1. 0.]]\n"
     ]
    }
   ],
   "source": [
    "x=np.eye(4,5)\n",
    "9print(x)"
   ]
  },
  {
   "cell_type": "code",
   "execution_count": 0,
   "metadata": {
    "colab": {
     "base_uri": "https://localhost:8080/",
     "height": 84
    },
    "colab_type": "code",
    "id": "vTVJUBKYb4cP",
    "outputId": "cafad043-a1c0-40b7-9e0f-527a738b3928"
   },
   "outputs": [
    {
     "name": "stdout",
     "output_type": "stream",
     "text": [
      "[[1. 0. 0. 0.]\n",
      " [0. 1. 0. 0.]\n",
      " [0. 0. 1. 0.]\n",
      " [0. 0. 0. 1.]]\n"
     ]
    }
   ],
   "source": [
    "x=np.eye(4,4)\n",
    "print(x)"
   ]
  },
  {
   "cell_type": "code",
   "execution_count": 0,
   "metadata": {
    "colab": {
     "base_uri": "https://localhost:8080/",
     "height": 212
    },
    "colab_type": "code",
    "id": "o1SXcewBb-xE",
    "outputId": "6fa5eea9-5120-45b5-ac46-ca5817d3c87f"
   },
   "outputs": [
    {
     "ename": "TypeError",
     "evalue": "ignored",
     "output_type": "error",
     "traceback": [
      "\u001b[0;31m---------------------------------------------------------------------------\u001b[0m",
      "\u001b[0;31mTypeError\u001b[0m                                 Traceback (most recent call last)",
      "\u001b[0;32m<ipython-input-14-2d5d4f72a5cb>\u001b[0m in \u001b[0;36m<module>\u001b[0;34m()\u001b[0m\n\u001b[0;32m----> 1\u001b[0;31m \u001b[0mx\u001b[0m\u001b[0;34m=\u001b[0m\u001b[0mnp\u001b[0m\u001b[0;34m.\u001b[0m\u001b[0mrandom\u001b[0m\u001b[0;34m.\u001b[0m\u001b[0mrandom\u001b[0m\u001b[0;34m(\u001b[0m\u001b[0;36m4\u001b[0m\u001b[0;34m,\u001b[0m\u001b[0;36m5\u001b[0m\u001b[0;34m)\u001b[0m\u001b[0;34m\u001b[0m\u001b[0;34m\u001b[0m\u001b[0m\n\u001b[0m\u001b[1;32m      2\u001b[0m \u001b[0mprint\u001b[0m\u001b[0;34m(\u001b[0m\u001b[0mx\u001b[0m\u001b[0;34m)\u001b[0m\u001b[0;34m\u001b[0m\u001b[0;34m\u001b[0m\u001b[0m\n",
      "\u001b[0;32mmtrand.pyx\u001b[0m in \u001b[0;36mmtrand.RandomState.random_sample\u001b[0;34m()\u001b[0m\n",
      "\u001b[0;31mTypeError\u001b[0m: random_sample() takes at most 1 positional argument (2 given)"
     ]
    }
   ],
   "source": [
    "x=np.random.random(4,5)\n",
    "print(x)"
   ]
  },
  {
   "cell_type": "code",
   "execution_count": 0,
   "metadata": {
    "colab": {
     "base_uri": "https://localhost:8080/",
     "height": 84
    },
    "colab_type": "code",
    "id": "UCkPrmLRcGN_",
    "outputId": "eb9bf155-b4e5-4881-aab5-0a5acee646ff"
   },
   "outputs": [
    {
     "name": "stdout",
     "output_type": "stream",
     "text": [
      "[[0.19347713 0.95831817 0.50492842 0.54338593 0.68340198]\n",
      " [0.49911305 0.06551115 0.64904324 0.79886497 0.26686929]\n",
      " [0.74706641 0.39541274 0.16258141 0.22463239 0.04935355]\n",
      " [0.79189336 0.99069394 0.00617922 0.60898714 0.35462381]]\n"
     ]
    }
   ],
   "source": [
    "x=np.random.random((4,5))\n",
    "print(x)"
   ]
  },
  {
   "cell_type": "code",
   "execution_count": 0,
   "metadata": {
    "colab": {
     "base_uri": "https://localhost:8080/",
     "height": 101
    },
    "colab_type": "code",
    "id": "ntz_3jCccLXP",
    "outputId": "ab841d65-23df-4b1f-9b44-1c2ffc6d158d"
   },
   "outputs": [
    {
     "name": "stdout",
     "output_type": "stream",
     "text": [
      "[[0.19347713 0.49911305 0.74706641 0.79189336]\n",
      " [0.95831817 0.06551115 0.39541274 0.99069394]\n",
      " [0.50492842 0.64904324 0.16258141 0.00617922]\n",
      " [0.54338593 0.79886497 0.22463239 0.60898714]\n",
      " [0.68340198 0.26686929 0.04935355 0.35462381]]\n"
     ]
    }
   ],
   "source": [
    "z=x.T    #transpose\n",
    "print(z)"
   ]
  },
  {
   "cell_type": "code",
   "execution_count": 0,
   "metadata": {
    "colab": {
     "base_uri": "https://localhost:8080/",
     "height": 353
    },
    "colab_type": "code",
    "id": "AnTuREt6dFJf",
    "outputId": "43daa857-8ad9-41e1-b923-f13411bf5cc0"
   },
   "outputs": [
    {
     "name": "stdout",
     "output_type": "stream",
     "text": [
      "[[0.19347713]\n",
      " [0.95831817]\n",
      " [0.50492842]\n",
      " [0.54338593]\n",
      " [0.68340198]\n",
      " [0.49911305]\n",
      " [0.06551115]\n",
      " [0.64904324]\n",
      " [0.79886497]\n",
      " [0.26686929]\n",
      " [0.74706641]\n",
      " [0.39541274]\n",
      " [0.16258141]\n",
      " [0.22463239]\n",
      " [0.04935355]\n",
      " [0.79189336]\n",
      " [0.99069394]\n",
      " [0.00617922]\n",
      " [0.60898714]\n",
      " [0.35462381]]\n"
     ]
    }
   ],
   "source": [
    "y=x.reshape(20,1)\n",
    "print(y)"
   ]
  },
  {
   "cell_type": "code",
   "execution_count": 0,
   "metadata": {
    "colab": {
     "base_uri": "https://localhost:8080/",
     "height": 34
    },
    "colab_type": "code",
    "id": "3lXzRLG9dS_p",
    "outputId": "693e2447-59d5-4625-8e10-6b10615f296c"
   },
   "outputs": [
    {
     "name": "stdout",
     "output_type": "stream",
     "text": [
      "[0 1 2 3 4]\n"
     ]
    }
   ],
   "source": [
    "a=np.arange(5)\n",
    "print(a)"
   ]
  },
  {
   "cell_type": "code",
   "execution_count": 0,
   "metadata": {
    "colab": {
     "base_uri": "https://localhost:8080/",
     "height": 34
    },
    "colab_type": "code",
    "id": "Ctb1uFFmdizI",
    "outputId": "599a6d69-933e-48a1-f7fa-e457e9b8a4c7"
   },
   "outputs": [
    {
     "name": "stdout",
     "output_type": "stream",
     "text": [
      "[0 1 2 3 4] [0 1 2 3 4] [0 2 4 6 8] [0 0 0 0 0] [ 0  1  4  9 16]\n"
     ]
    }
   ],
   "source": [
    "b=np.arange(5)\n",
    "c=a+b\n",
    "d=a-b\n",
    "e=a*b\n",
    "print(a,b,c,d,e)"
   ]
  },
  {
   "cell_type": "code",
   "execution_count": 0,
   "metadata": {
    "colab": {
     "base_uri": "https://localhost:8080/",
     "height": 34
    },
    "colab_type": "code",
    "id": "JuuvrqMHdywn",
    "outputId": "ea2b5e49-1084-4613-ce27-488413cc4411"
   },
   "outputs": [
    {
     "name": "stdout",
     "output_type": "stream",
     "text": [
      "[0 1 2 3 4] [1 2 3 4 5]\n"
     ]
    }
   ],
   "source": [
    "print(a,a+1)"
   ]
  },
  {
   "cell_type": "code",
   "execution_count": 0,
   "metadata": {
    "colab": {
     "base_uri": "https://localhost:8080/",
     "height": 84
    },
    "colab_type": "code",
    "id": "BoAckGJKd33A",
    "outputId": "3f832ba7-1b57-44d9-e549-0574c515c063"
   },
   "outputs": [
    {
     "name": "stdout",
     "output_type": "stream",
     "text": [
      "[[0.92096572 0.21011604 0.95601716]\n",
      " [0.7127269  0.29746971 0.58082083]]\n",
      "[[1.92096572 1.21011604 1.95601716]\n",
      " [1.7127269  1.29746971 1.58082083]]\n"
     ]
    }
   ],
   "source": [
    "a=np.random.random((2,3))\n",
    "print(a)\n",
    "print(a+1)"
   ]
  },
  {
   "cell_type": "code",
   "execution_count": 0,
   "metadata": {
    "colab": {
     "base_uri": "https://localhost:8080/",
     "height": 50
    },
    "colab_type": "code",
    "id": "mXGWBvn9eCHy",
    "outputId": "68619ab7-a8c6-4dc1-c5a7-e9bbc834c5b9"
   },
   "outputs": [
    {
     "name": "stdout",
     "output_type": "stream",
     "text": [
      "[[5. 9. 5.]\n",
      " [2. 6. 1.]]\n"
     ]
    }
   ],
   "source": [
    "a=np.floor(np.random.random((2,3))*10)\n",
    "print(a)"
   ]
  },
  {
   "cell_type": "code",
   "execution_count": 0,
   "metadata": {
    "colab": {
     "base_uri": "https://localhost:8080/",
     "height": 84
    },
    "colab_type": "code",
    "id": "SgcH_p21eLjw",
    "outputId": "3f228055-f450-4275-a4f3-0f07cf471fd5"
   },
   "outputs": [
    {
     "name": "stdout",
     "output_type": "stream",
     "text": [
      "inner product: 2\n",
      "outer product: [[-1  0  1]\n",
      " [-2  0  2]\n",
      " [-3  0  3]]\n"
     ]
    }
   ],
   "source": [
    "u=[1,2,3]\n",
    "v=[-1,0,1]\n",
    "p1=np.inner(u,v)\n",
    "print(\"inner product:\",p1)\n",
    "\n",
    "p2=np.outer(u,v)\n",
    "print(\"outer product:\",p2)\n"
   ]
  },
  {
   "cell_type": "code",
   "execution_count": 0,
   "metadata": {
    "colab": {
     "base_uri": "https://localhost:8080/",
     "height": 134
    },
    "colab_type": "code",
    "id": "SSPxqzXHeYsY",
    "outputId": "a6b42aa6-d922-4a19-e493-186b78e55a12"
   },
   "outputs": [
    {
     "name": "stdout",
     "output_type": "stream",
     "text": [
      "[[1. 1. 1.]\n",
      " [1. 1. 1.]]\n",
      "[[1. 1.]\n",
      " [1. 1.]\n",
      " [1. 1.]]\n"
     ]
    },
    {
     "data": {
      "text/plain": [
       "array([[3., 3.],\n",
       "       [3., 3.]])"
      ]
     },
     "execution_count": 29,
     "metadata": {
      "tags": []
     },
     "output_type": "execute_result"
    }
   ],
   "source": [
    "#dot product\n",
    "a=np.ones((2,3))\n",
    "print(a)\n",
    "b=np.ones((3,2))\n",
    "print(b)\n",
    "np.dot(a,b)"
   ]
  },
  {
   "cell_type": "code",
   "execution_count": 0,
   "metadata": {
    "colab": {
     "base_uri": "https://localhost:8080/",
     "height": 50
    },
    "colab_type": "code",
    "id": "p0FnU0tWe9t1",
    "outputId": "44b7ce7e-4bc7-4733-e7bd-27f7274c6bb1"
   },
   "outputs": [
    {
     "data": {
      "text/plain": [
       "array([[3., 3.],\n",
       "       [3., 3.]])"
      ]
     },
     "execution_count": 30,
     "metadata": {
      "tags": []
     },
     "output_type": "execute_result"
    }
   ],
   "source": [
    "np.dot(b.T, a.T)"
   ]
  },
  {
   "cell_type": "code",
   "execution_count": 0,
   "metadata": {
    "colab": {
     "base_uri": "https://localhost:8080/",
     "height": 34
    },
    "colab_type": "code",
    "id": "iMxH10yYfEdB",
    "outputId": "44078522-ab4c-4a71-cfba-2aa0981fb871"
   },
   "outputs": [
    {
     "data": {
      "text/plain": [
       "6.0"
      ]
     },
     "execution_count": 31,
     "metadata": {
      "tags": []
     },
     "output_type": "execute_result"
    }
   ],
   "source": [
    "a.sum()"
   ]
  },
  {
   "cell_type": "code",
   "execution_count": 0,
   "metadata": {
    "colab": {
     "base_uri": "https://localhost:8080/",
     "height": 34
    },
    "colab_type": "code",
    "id": "srCCaxzlfGvx",
    "outputId": "7039f587-825d-4baf-9e6a-d9456fd1633d"
   },
   "outputs": [
    {
     "data": {
      "text/plain": [
       "array([2., 2., 2.])"
      ]
     },
     "execution_count": 32,
     "metadata": {
      "tags": []
     },
     "output_type": "execute_result"
    }
   ],
   "source": [
    "a.sum(axis=0)"
   ]
  },
  {
   "cell_type": "code",
   "execution_count": 0,
   "metadata": {
    "colab": {
     "base_uri": "https://localhost:8080/",
     "height": 34
    },
    "colab_type": "code",
    "id": "QrXia7ZPfiYQ",
    "outputId": "1897a557-b8f7-4123-b4ff-330d60ff1761"
   },
   "outputs": [
    {
     "data": {
      "text/plain": [
       "array([3., 3.])"
      ]
     },
     "execution_count": 33,
     "metadata": {
      "tags": []
     },
     "output_type": "execute_result"
    }
   ],
   "source": [
    "a.sum(axis=1)"
   ]
  },
  {
   "cell_type": "code",
   "execution_count": 0,
   "metadata": {
    "colab": {},
    "colab_type": "code",
    "id": "Uct2TljRfmvp"
   },
   "outputs": [],
   "source": [
    ""
   ]
  },
  {
   "cell_type": "markdown",
   "metadata": {
    "colab_type": "text",
    "id": "eleWWZFef7bs"
   },
   "source": [
    "# Plotting"
   ]
  },
  {
   "cell_type": "code",
   "execution_count": 0,
   "metadata": {
    "colab": {},
    "colab_type": "code",
    "id": "RKIc6-Gmf9bk"
   },
   "outputs": [],
   "source": [
    "import matplotlib.pyplot as plt\n",
    "import numpy as np"
   ]
  },
  {
   "cell_type": "code",
   "execution_count": 0,
   "metadata": {
    "colab": {
     "base_uri": "https://localhost:8080/",
     "height": 185
    },
    "colab_type": "code",
    "id": "dGxy9rppgHk0",
    "outputId": "e28c8864-ca8c-4bd7-9e4a-b2b8a223e11b"
   },
   "outputs": [
    {
     "name": "stdout",
     "output_type": "stream",
     "text": [
      "[[0.51409242]\n",
      " [0.78639765]\n",
      " [0.66784401]\n",
      " [0.18933397]\n",
      " [0.80715984]\n",
      " [0.51829085]\n",
      " [0.15979594]\n",
      " [0.59004703]\n",
      " [0.9235148 ]\n",
      " [0.99347423]]\n"
     ]
    }
   ],
   "source": [
    "x=np.random.random((10,1))\n",
    "print(x)"
   ]
  },
  {
   "cell_type": "code",
   "execution_count": 0,
   "metadata": {
    "colab": {
     "base_uri": "https://localhost:8080/",
     "height": 269
    },
    "colab_type": "code",
    "id": "udYlXaDxgOQP",
    "outputId": "db42ff0f-f32b-4038-d0a9-404066fd33b3"
   },
   "outputs": [
    {
     "data": {
      "image/png": "[encoded data removed]",
      "text/plain": [
       "<Figure size 432x288 with 1 Axes>"
      ]
     },
     "metadata": {
      "tags": []
     },
     "output_type": "display_data"
    }
   ],
   "source": [
    "plt.plot(x,\"ro-\")\n",
    "plt.show()"
   ]
  },
  {
   "cell_type": "code",
   "execution_count": 0,
   "metadata": {
    "colab": {
     "base_uri": "https://localhost:8080/",
     "height": 423
    },
    "colab_type": "code",
    "id": "8goHxzF2hpmv",
    "outputId": "42d78375-db24-407c-d857-ad6208a88442"
   },
   "outputs": [
    {
     "name": "stdout",
     "output_type": "stream",
     "text": [
      "x is: [ 0.          0.52631579  1.05263158  1.57894737  2.10526316  2.63157895\n",
      "  3.15789474  3.68421053  4.21052632  4.73684211  5.26315789  5.78947368\n",
      "  6.31578947  6.84210526  7.36842105  7.89473684  8.42105263  8.94736842\n",
      "  9.47368421 10.        ]\n",
      "y is: [  0.           0.27700831   1.10803324   2.49307479   4.43213296\n",
      "   6.92520776   9.97229917  13.5734072   17.72853186  22.43767313\n",
      "  27.70083102  33.51800554  39.88919668  46.81440443  54.29362881\n",
      "  62.32686981  70.91412742  80.05540166  89.75069252 100.        ]\n"
     ]
    },
    {
     "data": {
      "image/png": "[encoded data removed]",
      "text/plain": [
       "<Figure size 432x288 with 1 Axes>"
      ]
     },
     "metadata": {
      "tags": []
     },
     "output_type": "display_data"
    }
   ],
   "source": [
    "x=np.linspace(0,10,20)\n",
    "print(\"x is:\",x)\n",
    "y=np.power(x, 2)\n",
    "print(\"y is:\",y)\n",
    "plt.plot(x,y,\"*-\")\n",
    "plt.show()"
   ]
  },
  {
   "cell_type": "code",
   "execution_count": 0,
   "metadata": {
    "colab": {
     "base_uri": "https://localhost:8080/",
     "height": 591
    },
    "colab_type": "code",
    "id": "x0B3BNfigTFJ",
    "outputId": "5cc9c17f-a3a3-4153-9688-36bd4dcb2a7e"
   },
   "outputs": [
    {
     "name": "stdout",
     "output_type": "stream",
     "text": [
      "x is: [ 0.          0.20408163  0.40816327  0.6122449   0.81632653  1.02040816\n",
      "  1.2244898   1.42857143  1.63265306  1.83673469  2.04081633  2.24489796\n",
      "  2.44897959  2.65306122  2.85714286  3.06122449  3.26530612  3.46938776\n",
      "  3.67346939  3.87755102  4.08163265  4.28571429  4.48979592  4.69387755\n",
      "  4.89795918  5.10204082  5.30612245  5.51020408  5.71428571  5.91836735\n",
      "  6.12244898  6.32653061  6.53061224  6.73469388  6.93877551  7.14285714\n",
      "  7.34693878  7.55102041  7.75510204  7.95918367  8.16326531  8.36734694\n",
      "  8.57142857  8.7755102   8.97959184  9.18367347  9.3877551   9.59183673\n",
      "  9.79591837 10.        ]\n",
      "y is: [0.         0.45175395 0.63887656 0.7824608  0.9035079  1.01015254\n",
      " 1.10656667 1.19522861 1.27775313 1.35526185 1.42857143 1.49829835\n",
      " 1.56492159 1.62882204 1.69030851 1.74963553 1.80701581 1.86262926\n",
      " 1.91662969 1.96914982 2.02030509 2.07019668 2.11891385 2.16653584\n",
      " 2.21313334 2.25876976 2.30350221 2.34738239 2.39045722 2.43276948\n",
      " 2.4743583  2.51525955 2.55550626 2.59512887 2.63415556 2.67261242\n",
      " 2.71052371 2.74791201 2.78479838 2.82120252 2.85714286 2.89263668\n",
      " 2.92770022 2.96234876 2.99659671 3.03045763 3.06394437 3.09706906\n",
      " 3.12984319 3.16227766]\n"
     ]
    },
    {
     "data": {
      "image/png": "[encoded data removed]",
      "text/plain": [
       "<Figure size 432x288 with 1 Axes>"
      ]
     },
     "metadata": {
      "tags": []
     },
     "output_type": "display_data"
    }
   ],
   "source": [
    "x=np.linspace(0,10,50)\n",
    "print(\"x is:\",x)\n",
    "y=np.power(x, 0.5)\n",
    "print(\"y is:\",y)\n",
    "plt.plot(x,y,\"r*-\")\n",
    "plt.show()"
   ]
  },
  {
   "cell_type": "code",
   "execution_count": 0,
   "metadata": {
    "colab": {
     "base_uri": "https://localhost:8080/",
     "height": 1297
    },
    "colab_type": "code",
    "id": "4lRRJm9Tg15Q",
    "outputId": "e2c770eb-ddec-49d2-a2c8-edf53c7a0713"
   },
   "outputs": [
    {
     "name": "stdout",
     "output_type": "stream",
     "text": [
      "Help on function linspace in module numpy.core.function_base:\n",
      "\n",
      "linspace(start, stop, num=50, endpoint=True, retstep=False, dtype=None)\n",
      "    Return evenly spaced numbers over a specified interval.\n",
      "    \n",
      "    Returns `num` evenly spaced samples, calculated over the\n",
      "    interval [`start`, `stop`].\n",
      "    \n",
      "    The endpoint of the interval can optionally be excluded.\n",
      "    \n",
      "    Parameters\n",
      "    ----------\n",
      "    start : scalar\n",
      "        The starting value of the sequence.\n",
      "    stop : scalar\n",
      "        The end value of the sequence, unless `endpoint` is set to False.\n",
      "        In that case, the sequence consists of all but the last of ``num + 1``\n",
      "        evenly spaced samples, so that `stop` is excluded.  Note that the step\n",
      "        size changes when `endpoint` is False.\n",
      "    num : int, optional\n",
      "        Number of samples to generate. Default is 50. Must be non-negative.\n",
      "    endpoint : bool, optional\n",
      "        If True, `stop` is the last sample. Otherwise, it is not included.\n",
      "        Default is True.\n",
      "    retstep : bool, optional\n",
      "        If True, return (`samples`, `step`), where `step` is the spacing\n",
      "        between samples.\n",
      "    dtype : dtype, optional\n",
      "        The type of the output array.  If `dtype` is not given, infer the data\n",
      "        type from the other input arguments.\n",
      "    \n",
      "        .. versionadded:: 1.9.0\n",
      "    \n",
      "    Returns\n",
      "    -------\n",
      "    samples : ndarray\n",
      "        There are `num` equally spaced samples in the closed interval\n",
      "        ``[start, stop]`` or the half-open interval ``[start, stop)``\n",
      "        (depending on whether `endpoint` is True or False).\n",
      "    step : float, optional\n",
      "        Only returned if `retstep` is True\n",
      "    \n",
      "        Size of spacing between samples.\n",
      "    \n",
      "    \n",
      "    See Also\n",
      "    --------\n",
      "    arange : Similar to `linspace`, but uses a step size (instead of the\n",
      "             number of samples).\n",
      "    logspace : Samples uniformly distributed in log space.\n",
      "    \n",
      "    Examples\n",
      "    --------\n",
      "    >>> np.linspace(2.0, 3.0, num=5)\n",
      "    array([ 2.  ,  2.25,  2.5 ,  2.75,  3.  ])\n",
      "    >>> np.linspace(2.0, 3.0, num=5, endpoint=False)\n",
      "    array([ 2. ,  2.2,  2.4,  2.6,  2.8])\n",
      "    >>> np.linspace(2.0, 3.0, num=5, retstep=True)\n",
      "    (array([ 2.  ,  2.25,  2.5 ,  2.75,  3.  ]), 0.25)\n",
      "    \n",
      "    Graphical illustration:\n",
      "    \n",
      "    >>> import matplotlib.pyplot as plt\n",
      "    >>> N = 8\n",
      "    >>> y = np.zeros(N)\n",
      "    >>> x1 = np.linspace(0, 10, N, endpoint=True)\n",
      "    >>> x2 = np.linspace(0, 10, N, endpoint=False)\n",
      "    >>> plt.plot(x1, y, 'o')\n",
      "    [<matplotlib.lines.Line2D object at 0x...>]\n",
      "    >>> plt.plot(x2, y + 0.5, 'o')\n",
      "    [<matplotlib.lines.Line2D object at 0x...>]\n",
      "    >>> plt.ylim([-0.5, 1])\n",
      "    (-0.5, 1)\n",
      "    >>> plt.show()\n",
      "\n"
     ]
    }
   ],
   "source": [
    "help(np.linspace)"
   ]
  },
  {
   "cell_type": "code",
   "execution_count": 0,
   "metadata": {
    "colab": {},
    "colab_type": "code",
    "id": "33CwHLfChQkf"
   },
   "outputs": [],
   "source": [
    "import seaborn as sns"
   ]
  },
  {
   "cell_type": "code",
   "execution_count": 0,
   "metadata": {
    "colab": {},
    "colab_type": "code",
    "id": "h4q7yhrti0QW"
   },
   "outputs": [],
   "source": [
    "sns.set()"
   ]
  },
  {
   "cell_type": "code",
   "execution_count": 0,
   "metadata": {
    "colab": {
     "base_uri": "https://localhost:8080/",
     "height": 274
    },
    "colab_type": "code",
    "id": "fHZc5bMVjEDo",
    "outputId": "24fab6b3-50ab-49e6-9bc3-5405be37fdbd"
   },
   "outputs": [
    {
     "data": {
      "image/png": "[encoded data removed]",
      "text/plain": [
       "<Figure size 432x288 with 1 Axes>"
      ]
     },
     "metadata": {
      "tags": []
     },
     "output_type": "display_data"
    }
   ],
   "source": [
    "sns.lineplot(x,y)\n",
    "plt.show()"
   ]
  },
  {
   "cell_type": "code",
   "execution_count": 0,
   "metadata": {
    "colab": {
     "base_uri": "https://localhost:8080/",
     "height": 441
    },
    "colab_type": "code",
    "id": "wSTvQXuwjKos",
    "outputId": "e28a5777-c9a9-4cea-8c8d-cc1b6d6a880d"
   },
   "outputs": [
    {
     "name": "stdout",
     "output_type": "stream",
     "text": [
      "Collecting seaborn==0.9.0\n",
      "\u001b[?25l  Downloading https://files.pythonhosted.org/packages/a8/76/220ba4420459d9c4c9c9587c6ce607bf56c25b3d3d2de62056efe482dadc/seaborn-0.9.0-py3-none-any.whl (208kB)\n",
      "\u001b[K    100% |████████████████████████████████| 215kB 27.2MB/s \n",
      "\u001b[?25hRequirement already satisfied: scipy>=0.14.0 in /usr/local/lib/python3.6/dist-packages (from seaborn==0.9.0) (1.1.0)\n",
      "Requirement already satisfied: pandas>=0.15.2 in /usr/local/lib/python3.6/dist-packages (from seaborn==0.9.0) (0.22.0)\n",
      "Requirement already satisfied: matplotlib>=1.4.3 in /usr/local/lib/python3.6/dist-packages (from seaborn==0.9.0) (3.0.2)\n",
      "Requirement already satisfied: numpy>=1.9.3 in /usr/local/lib/python3.6/dist-packages (from seaborn==0.9.0) (1.14.6)\n",
      "Requirement already satisfied: pytz>=2011k in /usr/local/lib/python3.6/dist-packages (from pandas>=0.15.2->seaborn==0.9.0) (2018.9)\n",
      "Requirement already satisfied: python-dateutil>=2 in /usr/local/lib/python3.6/dist-packages (from pandas>=0.15.2->seaborn==0.9.0) (2.5.3)\n",
      "Requirement already satisfied: kiwisolver>=1.0.1 in /usr/local/lib/python3.6/dist-packages (from matplotlib>=1.4.3->seaborn==0.9.0) (1.0.1)\n",
      "Requirement already satisfied: pyparsing!=2.0.4,!=2.1.2,!=2.1.6,>=2.0.1 in /usr/local/lib/python3.6/dist-packages (from matplotlib>=1.4.3->seaborn==0.9.0) (2.3.1)\n",
      "Requirement already satisfied: cycler>=0.10 in /usr/local/lib/python3.6/dist-packages (from matplotlib>=1.4.3->seaborn==0.9.0) (0.10.0)\n",
      "Requirement already satisfied: six>=1.5 in /usr/local/lib/python3.6/dist-packages (from python-dateutil>=2->pandas>=0.15.2->seaborn==0.9.0) (1.11.0)\n",
      "Requirement already satisfied: setuptools in /usr/local/lib/python3.6/dist-packages (from kiwisolver>=1.0.1->matplotlib>=1.4.3->seaborn==0.9.0) (40.7.1)\n",
      "Installing collected packages: seaborn\n",
      "  Found existing installation: seaborn 0.7.1\n",
      "    Uninstalling seaborn-0.7.1:\n",
      "      Successfully uninstalled seaborn-0.7.1\n",
      "Successfully installed seaborn-0.9.0\n"
     ]
    },
    {
     "data": {
      "application/vnd.colab-display-data+json": {
       "pip_warning": {
        "packages": [
         "seaborn"
        ]
       }
      }
     },
     "metadata": {
      "tags": []
     },
     "output_type": "display_data"
    }
   ],
   "source": [
    "!pip install seaborn==0.9.0"
   ]
  },
  {
   "cell_type": "code",
   "execution_count": 0,
   "metadata": {
    "colab": {
     "base_uri": "https://localhost:8080/",
     "height": 205
    },
    "colab_type": "code",
    "id": "rWpyI5vqjO6M",
    "outputId": "ffa599cf-6ec8-49c0-d399-04d5c972d5f2"
   },
   "outputs": [
    {
     "name": "stdout",
     "output_type": "stream",
     "text": [
      "--2019-02-04 17:32:51--  https://www.dropbox.com/s/w94odi4aq1k441f/mobile_cleaned.csv\n",
      "Resolving www.dropbox.com (www.dropbox.com)... 162.125.1.1, 2620:100:601b:1::a27d:801\n",
      "Connecting to www.dropbox.com (www.dropbox.com)|162.125.1.1|:443... connected.\n",
      "HTTP request sent, awaiting response... 301 Moved Permanently\n",
      "Location: /s/raw/w94odi4aq1k441f/mobile_cleaned.csv [following]\n",
      "--2019-02-04 17:32:51--  https://www.dropbox.com/s/raw/w94odi4aq1k441f/mobile_cleaned.csv\n",
      "Reusing existing connection to www.dropbox.com:443.\n",
      "HTTP request sent, awaiting response... 404 Not Found\n",
      "2019-02-04 17:32:51 ERROR 404: Not Found.\n",
      "\n"
     ]
    }
   ],
   "source": [
    "!wget https://www.dropbox.com/s/w94odi4aq1k441f/mobile_cleaned.csv"
   ]
  },
  {
   "cell_type": "code",
   "execution_count": 0,
   "metadata": {
    "colab": {
     "base_uri": "https://localhost:8080/",
     "height": 34
    },
    "colab_type": "code",
    "id": "Kqu33ROqkMU0",
    "outputId": "b54568ff-1694-4d7e-f2fa-c00b9c99ea8e"
   },
   "outputs": [
    {
     "name": "stdout",
     "output_type": "stream",
     "text": [
      "mobile_cleaned-1549119762886.csv  sample_data\n"
     ]
    }
   ],
   "source": [
    "!ls"
   ]
  },
  {
   "cell_type": "code",
   "execution_count": 0,
   "metadata": {
    "colab": {
     "base_uri": "https://localhost:8080/",
     "height": 244
    },
    "colab_type": "code",
    "id": "cVDJ5s21k9zh",
    "outputId": "e7b67a26-a6fa-4200-a3a4-b838968af2eb"
   },
   "outputs": [
    {
     "data": {
      "text/html": [
       "<div>\n",
       "<style scoped>\n",
       "    .dataframe tbody tr th:only-of-type {\n",
       "        vertical-align: middle;\n",
       "    }\n",
       "\n",
       "    .dataframe tbody tr th {\n",
       "        vertical-align: top;\n",
       "    }\n",
       "\n",
       "    .dataframe thead th {\n",
       "        text-align: right;\n",
       "    }\n",
       "</style>\n",
       "<table border=\"1\" class=\"dataframe\">\n",
       "  <thead>\n",
       "    <tr style=\"text-align: right;\">\n",
       "      <th></th>\n",
       "      <th>sim_type</th>\n",
       "      <th>aperture</th>\n",
       "      <th>gpu_rank</th>\n",
       "      <th>weight</th>\n",
       "      <th>stand_by_time</th>\n",
       "      <th>processor_frequency</th>\n",
       "      <th>thickness</th>\n",
       "      <th>flash_type</th>\n",
       "      <th>front_camera_resolution</th>\n",
       "      <th>auto_focus</th>\n",
       "      <th>...</th>\n",
       "      <th>micro_sd_slot</th>\n",
       "      <th>screen_pixel_density</th>\n",
       "      <th>water_proof_rate</th>\n",
       "      <th>phone_width</th>\n",
       "      <th>expandable_memory</th>\n",
       "      <th>version</th>\n",
       "      <th>usb_type</th>\n",
       "      <th>battery_capacity</th>\n",
       "      <th>processor_rank</th>\n",
       "      <th>is_liked</th>\n",
       "    </tr>\n",
       "  </thead>\n",
       "  <tbody>\n",
       "    <tr>\n",
       "      <th>0</th>\n",
       "      <td>0</td>\n",
       "      <td>12</td>\n",
       "      <td>55</td>\n",
       "      <td>155.0</td>\n",
       "      <td>250</td>\n",
       "      <td>1.3</td>\n",
       "      <td>10.5</td>\n",
       "      <td>5</td>\n",
       "      <td>2.00</td>\n",
       "      <td>0</td>\n",
       "      <td>...</td>\n",
       "      <td>4</td>\n",
       "      <td>2</td>\n",
       "      <td>3</td>\n",
       "      <td>67.8</td>\n",
       "      <td>64.0</td>\n",
       "      <td>5</td>\n",
       "      <td>3</td>\n",
       "      <td>2000</td>\n",
       "      <td>125</td>\n",
       "      <td>1</td>\n",
       "    </tr>\n",
       "    <tr>\n",
       "      <th>1</th>\n",
       "      <td>0</td>\n",
       "      <td>1</td>\n",
       "      <td>55</td>\n",
       "      <td>132.0</td>\n",
       "      <td>300</td>\n",
       "      <td>1.3</td>\n",
       "      <td>10.6</td>\n",
       "      <td>5</td>\n",
       "      <td>0.30</td>\n",
       "      <td>1</td>\n",
       "      <td>...</td>\n",
       "      <td>4</td>\n",
       "      <td>4</td>\n",
       "      <td>6</td>\n",
       "      <td>64.0</td>\n",
       "      <td>32.0</td>\n",
       "      <td>5</td>\n",
       "      <td>3</td>\n",
       "      <td>2000</td>\n",
       "      <td>165</td>\n",
       "      <td>1</td>\n",
       "    </tr>\n",
       "    <tr>\n",
       "      <th>2</th>\n",
       "      <td>0</td>\n",
       "      <td>9</td>\n",
       "      <td>55</td>\n",
       "      <td>142.0</td>\n",
       "      <td>329</td>\n",
       "      <td>1.5</td>\n",
       "      <td>8.5</td>\n",
       "      <td>5</td>\n",
       "      <td>2.00</td>\n",
       "      <td>3</td>\n",
       "      <td>...</td>\n",
       "      <td>4</td>\n",
       "      <td>9</td>\n",
       "      <td>6</td>\n",
       "      <td>72.0</td>\n",
       "      <td>32.0</td>\n",
       "      <td>6</td>\n",
       "      <td>3</td>\n",
       "      <td>2500</td>\n",
       "      <td>164</td>\n",
       "      <td>0</td>\n",
       "    </tr>\n",
       "    <tr>\n",
       "      <th>3</th>\n",
       "      <td>0</td>\n",
       "      <td>8</td>\n",
       "      <td>55</td>\n",
       "      <td>152.0</td>\n",
       "      <td>385</td>\n",
       "      <td>1.3</td>\n",
       "      <td>8.0</td>\n",
       "      <td>5</td>\n",
       "      <td>2.00</td>\n",
       "      <td>3</td>\n",
       "      <td>...</td>\n",
       "      <td>4</td>\n",
       "      <td>1</td>\n",
       "      <td>3</td>\n",
       "      <td>75.1</td>\n",
       "      <td>32.0</td>\n",
       "      <td>6</td>\n",
       "      <td>3</td>\n",
       "      <td>3000</td>\n",
       "      <td>165</td>\n",
       "      <td>1</td>\n",
       "    </tr>\n",
       "    <tr>\n",
       "      <th>4</th>\n",
       "      <td>1</td>\n",
       "      <td>1</td>\n",
       "      <td>55</td>\n",
       "      <td>234.0</td>\n",
       "      <td>385</td>\n",
       "      <td>1.3</td>\n",
       "      <td>7.9</td>\n",
       "      <td>5</td>\n",
       "      <td>1.92</td>\n",
       "      <td>3</td>\n",
       "      <td>...</td>\n",
       "      <td>4</td>\n",
       "      <td>1</td>\n",
       "      <td>6</td>\n",
       "      <td>91.0</td>\n",
       "      <td>32.0</td>\n",
       "      <td>6</td>\n",
       "      <td>3</td>\n",
       "      <td>3000</td>\n",
       "      <td>165</td>\n",
       "      <td>0</td>\n",
       "    </tr>\n",
       "  </tbody>\n",
       "</table>\n",
       "<p>5 rows × 40 columns</p>\n",
       "</div>"
      ],
      "text/plain": [
       "   sim_type  aperture  gpu_rank  weight  stand_by_time  processor_frequency  \\\n",
       "0         0        12        55   155.0            250                  1.3   \n",
       "1         0         1        55   132.0            300                  1.3   \n",
       "2         0         9        55   142.0            329                  1.5   \n",
       "3         0         8        55   152.0            385                  1.3   \n",
       "4         1         1        55   234.0            385                  1.3   \n",
       "\n",
       "   thickness  flash_type  front_camera_resolution  auto_focus    ...     \\\n",
       "0       10.5           5                     2.00           0    ...      \n",
       "1       10.6           5                     0.30           1    ...      \n",
       "2        8.5           5                     2.00           3    ...      \n",
       "3        8.0           5                     2.00           3    ...      \n",
       "4        7.9           5                     1.92           3    ...      \n",
       "\n",
       "   micro_sd_slot  screen_pixel_density  water_proof_rate  phone_width  \\\n",
       "0              4                     2                 3         67.8   \n",
       "1              4                     4                 6         64.0   \n",
       "2              4                     9                 6         72.0   \n",
       "3              4                     1                 3         75.1   \n",
       "4              4                     1                 6         91.0   \n",
       "\n",
       "   expandable_memory  version  usb_type  battery_capacity  processor_rank  \\\n",
       "0               64.0        5         3              2000             125   \n",
       "1               32.0        5         3              2000             165   \n",
       "2               32.0        6         3              2500             164   \n",
       "3               32.0        6         3              3000             165   \n",
       "4               32.0        6         3              3000             165   \n",
       "\n",
       "   is_liked  \n",
       "0         1  \n",
       "1         1  \n",
       "2         0  \n",
       "3         1  \n",
       "4         0  \n",
       "\n",
       "[5 rows x 40 columns]"
      ]
     },
     "execution_count": 15,
     "metadata": {
      "tags": []
     },
     "output_type": "execute_result"
    }
   ],
   "source": [
    "import pandas as pd\n",
    "data=pd.read_csv(\"mobile_cleaned-1549119762886.csv\")\n",
    "data.head()"
   ]
  },
  {
   "cell_type": "code",
   "execution_count": 0,
   "metadata": {
    "colab": {
     "base_uri": "https://localhost:8080/",
     "height": 291
    },
    "colab_type": "code",
    "id": "Z7EFRbePm9m4",
    "outputId": "d745b571-6bb4-4d5b-8ea9-3f63c9c895f6"
   },
   "outputs": [
    {
     "data": {
      "image/png": "[encoded data removed]",
      "text/plain": [
       "<Figure size 432x288 with 1 Axes>"
      ]
     },
     "metadata": {
      "tags": []
     },
     "output_type": "display_data"
    }
   ],
   "source": [
    "ax=sns.scatterplot(x=\"stand_by_time\", y=\"battery_capacity\",data=data)"
   ]
  },
  {
   "cell_type": "code",
   "execution_count": 0,
   "metadata": {
    "colab": {
     "base_uri": "https://localhost:8080/",
     "height": 291
    },
    "colab_type": "code",
    "id": "PtJ55lYQnZYi",
    "outputId": "9017af1f-5640-467c-e77a-9d9e5000d3ec"
   },
   "outputs": [
    {
     "data": {
      "image/png": "[encoded data removed]",
      "text/plain": [
       "<Figure size 432x288 with 1 Axes>"
      ]
     },
     "metadata": {
      "tags": []
     },
     "output_type": "display_data"
    }
   ],
   "source": [
    "ax=sns.scatterplot(x=\"stand_by_time\", y=\"battery_capacity\",hue=\"thickness\",data=data)"
   ]
  },
  {
   "cell_type": "code",
   "execution_count": 0,
   "metadata": {
    "colab": {
     "base_uri": "https://localhost:8080/",
     "height": 291
    },
    "colab_type": "code",
    "id": "JKy7024hoQqn",
    "outputId": "3885d0cd-a4cc-47a4-a3c8-0fb748ba7e39"
   },
   "outputs": [
    {
     "data": {
      "image/png": "[encoded data removed]",
      "text/plain": [
       "<Figure size 432x288 with 1 Axes>"
      ]
     },
     "metadata": {
      "tags": []
     },
     "output_type": "display_data"
    }
   ],
   "source": [
    "ax = sns.distplot(data[\"stand_by_time\"])"
   ]
  },
  {
   "cell_type": "code",
   "execution_count": 0,
   "metadata": {
    "colab": {
     "base_uri": "https://localhost:8080/",
     "height": 291
    },
    "colab_type": "code",
    "id": "ROrSopb4oeCm",
    "outputId": "164cabdd-5a83-4d5d-9c10-3a0108d252ca"
   },
   "outputs": [
    {
     "data": {
      "image/png": "[encoded data removed]",
      "text/plain": [
       "<Figure size 432x288 with 1 Axes>"
      ]
     },
     "metadata": {
      "tags": []
     },
     "output_type": "display_data"
    }
   ],
   "source": [
    "ax = sns.distplot(data[\"stand_by_time\"],kde=False,rug=True,bins=20)"
   ]
  },
  {
   "cell_type": "code",
   "execution_count": 0,
   "metadata": {
    "colab": {
     "base_uri": "https://localhost:8080/",
     "height": 291
    },
    "colab_type": "code",
    "id": "ATuLHtjToqLo",
    "outputId": "3f5f7c33-1989-4f7a-ccfe-4adf4c1e8e8f"
   },
   "outputs": [
    {
     "data": {
      "image/png": "[encoded data removed]",
      "text/plain": [
       "<Figure size 432x288 with 1 Axes>"
      ]
     },
     "metadata": {
      "tags": []
     },
     "output_type": "display_data"
    }
   ],
   "source": [
    "ax = sns.boxplot(x=\"is_liked\",y=\"battery_capacity\",data=data)"
   ]
  },
  {
   "cell_type": "code",
   "execution_count": 0,
   "metadata": {
    "colab": {
     "base_uri": "https://localhost:8080/",
     "height": 291
    },
    "colab_type": "code",
    "id": "S3L7Lq4fo7kf",
    "outputId": "ced3bbcf-f15b-4f2d-e95a-33c476a3f2b5"
   },
   "outputs": [
    {
     "data": {
      "image/png": "[encoded data removed]",
      "text/plain": [
       "<Figure size 432x288 with 1 Axes>"
      ]
     },
     "metadata": {
      "tags": []
     },
     "output_type": "display_data"
    }
   ],
   "source": [
    "ax = sns.boxplot(x=\"expandable_memory\",y=\"price\",data=data)"
   ]
  },
  {
   "cell_type": "code",
   "execution_count": 0,
   "metadata": {
    "colab": {
     "base_uri": "https://localhost:8080/",
     "height": 353
    },
    "colab_type": "code",
    "id": "z4XZEvbTpLzH",
    "outputId": "64f7a7fb-73ff-4e20-91e9-cbb695d7d3e3"
   },
   "outputs": [
    {
     "name": "stdout",
     "output_type": "stream",
     "text": [
      "[[0.73316332 0.12446179 0.18646604 0.01583833 0.99848689 0.47607747\n",
      "  0.05411266 0.75862818 0.32374658 0.6787839  0.37908145 0.71159291]\n",
      " [0.09114477 0.69822126 0.52088269 0.22272686 0.08365415 0.16928486\n",
      "  0.29910717 0.07386714 0.74400145 0.57413291 0.6841319  0.38193993]\n",
      " [0.05165501 0.6648226  0.71616737 0.5225389  0.56382419 0.70137494\n",
      "  0.48660088 0.83083316 0.40390909 0.81770689 0.13526635 0.77898205]\n",
      " [0.73049797 0.7759727  0.1523072  0.07616264 0.78545813 0.76776799\n",
      "  0.12936129 0.50944155 0.90110995 0.00993105 0.19420738 0.43459983]\n",
      " [0.11807531 0.53563421 0.41515288 0.92620739 0.87427858 0.69349427\n",
      "  0.95023008 0.21011847 0.94467655 0.43436709 0.67835928 0.97620979]\n",
      " [0.23703078 0.69036806 0.41493872 0.01707348 0.57202754 0.0979693\n",
      "  0.85098867 0.7973016  0.95519228 0.33204727 0.40283414 0.47197234]\n",
      " [0.84202365 0.47786406 0.70494768 0.47603219 0.68499467 0.39296726\n",
      "  0.58982383 0.04567772 0.44115168 0.27492494 0.95316584 0.88280221]\n",
      " [0.48766896 0.00281473 0.03300692 0.89451087 0.33079731 0.74327911\n",
      "  0.73213431 0.15893492 0.68340922 0.86896571 0.24879111 0.06182501]\n",
      " [0.3672596  0.51924593 0.16327564 0.28765677 0.57860035 0.13143172\n",
      "  0.04220625 0.11860334 0.10204668 0.43860707 0.10071097 0.40606182]\n",
      " [0.97551655 0.70966665 0.81618589 0.63472714 0.30179729 0.74336215\n",
      "  0.78727949 0.98602269 0.17176863 0.02798006 0.2580346  0.69957478]]\n"
     ]
    }
   ],
   "source": [
    "uniform_data=np.random.random((10,12))\n",
    "print(uniform_data)"
   ]
  },
  {
   "cell_type": "code",
   "execution_count": 0,
   "metadata": {
    "colab": {
     "base_uri": "https://localhost:8080/",
     "height": 353
    },
    "colab_type": "code",
    "id": "dPjuU8q1pehX",
    "outputId": "c005834d-43af-4954-fd84-6ffceff41cf0"
   },
   "outputs": [
    {
     "name": "stdout",
     "output_type": "stream",
     "text": [
      "[[0.64819029 0.76939795 0.8575954  0.19804317 0.33227638 0.0559262\n",
      "  0.16257555 0.04090095 0.23419409 0.10147216 0.986165   0.79227732]\n",
      " [0.97326607 0.31831727 0.08157974 0.37859881 0.10724284 0.16787471\n",
      "  0.93131859 0.99169007 0.49844246 0.43599073 0.83691236 0.81577362]\n",
      " [0.71828797 0.60996555 0.06606452 0.4079986  0.51897572 0.26352212\n",
      "  0.72505447 0.42046855 0.02921981 0.35093503 0.42663184 0.12643486]\n",
      " [0.25642895 0.32520905 0.70978587 0.10163977 0.47689674 0.73816215\n",
      "  0.77124271 0.26179306 0.3546794  0.97702922 0.7103987  0.09560473]\n",
      " [0.49111748 0.98685162 0.42076961 0.5390018  0.85197873 0.81065839\n",
      "  0.80405747 0.38523347 0.28574795 0.14631244 0.8582305  0.50282825]\n",
      " [0.21448544 0.72683045 0.65431602 0.70772567 0.54507804 0.48499764\n",
      "  0.31726793 0.77420374 0.24600116 0.76653468 0.20042673 0.7236116 ]\n",
      " [0.87211981 0.76757509 0.62289667 0.36771068 0.33717597 0.984185\n",
      "  0.10456233 0.20731968 0.13619205 0.82012481 0.04595183 0.97916959]\n",
      " [0.40052122 0.2090676  0.56445624 0.68945082 0.03474249 0.37046446\n",
      "  0.85081087 0.87034351 0.0779516  0.32930952 0.3693977  0.87309866]\n",
      " [0.11203276 0.03528706 0.85950723 0.54549472 0.86826619 0.27396612\n",
      "  0.05056596 0.96341866 0.22659909 0.03353489 0.24366977 0.13119494]\n",
      " [0.7232851  0.54110956 0.86036976 0.7264047  0.97683745 0.37274913\n",
      "  0.45653034 0.85804346 0.51591039 0.54110985 0.53331857 0.82756897]]\n"
     ]
    }
   ],
   "source": [
    "uniform_data=np.random.rand(10,12)    #check the difference\n",
    "print(uniform_data)"
   ]
  },
  {
   "cell_type": "code",
   "execution_count": 0,
   "metadata": {
    "colab": {
     "base_uri": "https://localhost:8080/",
     "height": 274
    },
    "colab_type": "code",
    "id": "gNhW34d6puiq",
    "outputId": "635f957c-0cb7-4a77-f391-f9bb86cfd50a"
   },
   "outputs": [
    {
     "data": {
      "image/png": "[encoded data removed]",
      "text/plain": [
       "<Figure size 432x288 with 2 Axes>"
      ]
     },
     "metadata": {
      "tags": []
     },
     "output_type": "display_data"
    }
   ],
   "source": [
    "ax=sns.heatmap(uniform_data)"
   ]
  },
  {
   "cell_type": "code",
   "execution_count": 0,
   "metadata": {
    "colab": {
     "base_uri": "https://localhost:8080/",
     "height": 274
    },
    "colab_type": "code",
    "id": "sS8iL9n6p4Gs",
    "outputId": "afd4a1a8-60cd-4b5d-967d-77aeb0ccb5f1"
   },
   "outputs": [
    {
     "data": {
      "image/png": "[encoded data removed]",
      "text/plain": [
       "<Figure size 432x288 with 2 Axes>"
      ]
     },
     "metadata": {
      "tags": []
     },
     "output_type": "display_data"
    }
   ],
   "source": [
    "ax=sns.heatmap(uniform_data,cmap=\"YlGnBu\")"
   ]
  },
  {
   "cell_type": "code",
   "execution_count": 0,
   "metadata": {
    "colab": {
     "base_uri": "https://localhost:8080/",
     "height": 289
    },
    "colab_type": "code",
    "id": "bv_je5LrqHaq",
    "outputId": "c97d9b4e-2b44-4e84-de6b-4844f354428c"
   },
   "outputs": [
    {
     "name": "stdout",
     "output_type": "stream",
     "text": [
      "--2019-02-04 17:59:20--  https://www.google.com/imgres?imgurl=https%3A%2F%2Fs3.amazonaws.com%2Fthinkific-import%2F153034%2F3f9yaVLKTyUGmlBPcSOA_logo_long.png\n",
      "Resolving www.google.com (www.google.com)... 173.194.202.105, 173.194.202.106, 173.194.202.103, ...\n",
      "Connecting to www.google.com (www.google.com)|173.194.202.105|:443... connected.\n",
      "HTTP request sent, awaiting response... 301 Moved Permanently\n",
      "Location: https://www.google.com/imghp [following]\n",
      "--2019-02-04 17:59:20--  https://www.google.com/imghp\n",
      "Reusing existing connection to www.google.com:443.\n",
      "HTTP request sent, awaiting response... 200 OK\n",
      "Length: unspecified [text/html]\n",
      "Saving to: ‘imgres?imgurl=https:%2F%2Fs3.amazonaws.com%2Fthinkific-import%2F153034%2F3f9yaVLKTyUGmlBPcSOA_logo_long.png’\n",
      "\n",
      "\r          imgres?im     [<=>                 ]       0  --.-KB/s               \rimgres?imgurl=https     [ <=>                ]  11.88K  --.-KB/s    in 0s      \n",
      "\n",
      "2019-02-04 17:59:20 (49.7 MB/s) - ‘imgres?imgurl=https:%2F%2Fs3.amazonaws.com%2Fthinkific-import%2F153034%2F3f9yaVLKTyUGmlBPcSOA_logo_long.png’ saved [12168]\n",
      "\n"
     ]
    }
   ],
   "source": [
    "!wget https://www.google.com/imgres?imgurl=https%3A%2F%2Fs3.amazonaws.com%2Fthinkific-import%2F153034%2F3f9yaVLKTyUGmlBPcSOA_logo_long.png&imgrefurl=https%3A%2F%2Fpadhai.onefourthlabs.in%2F&docid=I1M6TQXsTANR8M&tbnid=6h4oOeJm1tD3kM%3A&vet=10ahUKEwjMqPLs06LgAhUNEnIKHcRQDToQMwhJKAkwCQ..i&w=475&h=120&bih=695&biw=767&q=one%20fourth%20lab&ved=0ahUKEwjMqPLs06LgAhUNEnIKHcRQDToQMwhJKAkwCQ&iact=mrc&uact=8"
   ]
  },
  {
   "cell_type": "code",
   "execution_count": 0,
   "metadata": {
    "colab": {
     "base_uri": "https://localhost:8080/",
     "height": 87
    },
    "colab_type": "code",
    "id": "NwHwEqaKqjSF",
    "outputId": "12100f99-c356-4d47-a63c-20aae77e1bbd"
   },
   "outputs": [
    {
     "name": "stdout",
     "output_type": "stream",
     "text": [
      "'imgres?imgurl=https:%2F%2Fs3.amazonaws.com%2Fthinkific-import%2F153034%2F3f9yaVLKTyUGmlBPcSOA_logo_long.png'\n",
      " mobile_cleaned-1549119762886.csv\n",
      " sample_data\n"
     ]
    }
   ],
   "source": [
    "!ls"
   ]
  },
  {
   "cell_type": "code",
   "execution_count": 0,
   "metadata": {
    "colab": {},
    "colab_type": "code",
    "id": "89pV6b-ZqpyS"
   },
   "outputs": [],
   "source": [
    "!mv imgres?imgurl=https:%2F%2Fs3.amazonaws.com%2Fthinkific-import%2F153034%2F3f9yaVLKTyUGmlBPcSOA_logo_long.png onefourthlabs.png"
   ]
  },
  {
   "cell_type": "code",
   "execution_count": 0,
   "metadata": {
    "colab": {},
    "colab_type": "code",
    "id": "F-IZtGX2qz0b"
   },
   "outputs": [],
   "source": [
    "import matplotlib.image as mpimg"
   ]
  },
  {
   "cell_type": "code",
   "execution_count": 0,
   "metadata": {
    "colab": {
     "base_uri": "https://localhost:8080/",
     "height": 299
    },
    "colab_type": "code",
    "id": "wIMu1bndrKxV",
    "outputId": "5d15adb8-284a-4cc6-ab41-6b8e58ece671"
   },
   "outputs": [
    {
     "ename": "ValueError",
     "evalue": "ignored",
     "output_type": "error",
     "traceback": [
      "\u001b[0;31m---------------------------------------------------------------------------\u001b[0m",
      "\u001b[0;31mValueError\u001b[0m                                Traceback (most recent call last)",
      "\u001b[0;32m<ipython-input-35-9104dd4615bd>\u001b[0m in \u001b[0;36m<module>\u001b[0;34m()\u001b[0m\n\u001b[0;32m----> 1\u001b[0;31m \u001b[0mimg\u001b[0m\u001b[0;34m=\u001b[0m\u001b[0mmpimg\u001b[0m\u001b[0;34m.\u001b[0m\u001b[0mimread\u001b[0m\u001b[0;34m(\u001b[0m\u001b[0;34m\"onefourthlabs.png\"\u001b[0m\u001b[0;34m,\u001b[0m\u001b[0;34m\"png\"\u001b[0m\u001b[0;34m)\u001b[0m\u001b[0;34m\u001b[0m\u001b[0;34m\u001b[0m\u001b[0m\n\u001b[0m",
      "\u001b[0;32m/usr/local/lib/python3.6/dist-packages/matplotlib/image.py\u001b[0m in \u001b[0;36mimread\u001b[0;34m(fname, format)\u001b[0m\n\u001b[1;32m   1373\u001b[0m         \u001b[0;32melse\u001b[0m\u001b[0;34m:\u001b[0m\u001b[0;34m\u001b[0m\u001b[0;34m\u001b[0m\u001b[0m\n\u001b[1;32m   1374\u001b[0m             \u001b[0;32mwith\u001b[0m \u001b[0mopen\u001b[0m\u001b[0;34m(\u001b[0m\u001b[0mfname\u001b[0m\u001b[0;34m,\u001b[0m \u001b[0;34m'rb'\u001b[0m\u001b[0;34m)\u001b[0m \u001b[0;32mas\u001b[0m \u001b[0mfd\u001b[0m\u001b[0;34m:\u001b[0m\u001b[0;34m\u001b[0m\u001b[0;34m\u001b[0m\u001b[0m\n\u001b[0;32m-> 1375\u001b[0;31m                 \u001b[0;32mreturn\u001b[0m \u001b[0mhandler\u001b[0m\u001b[0;34m(\u001b[0m\u001b[0mfd\u001b[0m\u001b[0;34m)\u001b[0m\u001b[0;34m\u001b[0m\u001b[0;34m\u001b[0m\u001b[0m\n\u001b[0m\u001b[1;32m   1376\u001b[0m     \u001b[0;32melse\u001b[0m\u001b[0;34m:\u001b[0m\u001b[0;34m\u001b[0m\u001b[0;34m\u001b[0m\u001b[0m\n\u001b[1;32m   1377\u001b[0m         \u001b[0;32mreturn\u001b[0m \u001b[0mhandler\u001b[0m\u001b[0;34m(\u001b[0m\u001b[0mfname\u001b[0m\u001b[0;34m)\u001b[0m\u001b[0;34m\u001b[0m\u001b[0;34m\u001b[0m\u001b[0m\n",
      "\u001b[0;31mValueError\u001b[0m: invalid PNG header"
     ]
    }
   ],
   "source": [
    "img=mpimg.imread(\"onefourthlabs.png\")"
   ]
  },
  {
   "cell_type": "code",
   "execution_count": 0,
   "metadata": {
    "colab": {
     "base_uri": "https://localhost:8080/",
     "height": 434
    },
    "colab_type": "code",
    "id": "LMQ6rZEQrTfJ",
    "outputId": "8b37ed4e-d208-4637-8565-9a13e3d1f79e"
   },
   "outputs": [
    {
     "ename": "ValueError",
     "evalue": "ignored",
     "output_type": "error",
     "traceback": [
      "\u001b[0;31m---------------------------------------------------------------------------\u001b[0m",
      "\u001b[0;31mValueError\u001b[0m                                Traceback (most recent call last)",
      "\u001b[0;32m<ipython-input-36-ed816984dee7>\u001b[0m in \u001b[0;36m<module>\u001b[0;34m()\u001b[0m\n\u001b[0;32m----> 1\u001b[0;31m \u001b[0mimg\u001b[0m\u001b[0;34m=\u001b[0m\u001b[0mplt\u001b[0m\u001b[0;34m.\u001b[0m\u001b[0mimread\u001b[0m\u001b[0;34m(\u001b[0m\u001b[0;34m\"onefourthlabs.png\"\u001b[0m\u001b[0;34m)\u001b[0m\u001b[0;34m\u001b[0m\u001b[0;34m\u001b[0m\u001b[0m\n\u001b[0m\u001b[1;32m      2\u001b[0m \u001b[0mprint\u001b[0m\u001b[0;34m(\u001b[0m\u001b[0mimg\u001b[0m\u001b[0;34m)\u001b[0m\u001b[0;34m\u001b[0m\u001b[0;34m\u001b[0m\u001b[0m\n",
      "\u001b[0;32m/usr/local/lib/python3.6/dist-packages/matplotlib/pyplot.py\u001b[0m in \u001b[0;36mimread\u001b[0;34m(fname, format)\u001b[0m\n\u001b[1;32m   2150\u001b[0m \u001b[0;34m@\u001b[0m\u001b[0mdocstring\u001b[0m\u001b[0;34m.\u001b[0m\u001b[0mcopy_dedent\u001b[0m\u001b[0;34m(\u001b[0m\u001b[0mmatplotlib\u001b[0m\u001b[0;34m.\u001b[0m\u001b[0mimage\u001b[0m\u001b[0;34m.\u001b[0m\u001b[0mimread\u001b[0m\u001b[0;34m)\u001b[0m\u001b[0;34m\u001b[0m\u001b[0;34m\u001b[0m\u001b[0m\n\u001b[1;32m   2151\u001b[0m \u001b[0;32mdef\u001b[0m \u001b[0mimread\u001b[0m\u001b[0;34m(\u001b[0m\u001b[0mfname\u001b[0m\u001b[0;34m,\u001b[0m \u001b[0mformat\u001b[0m\u001b[0;34m=\u001b[0m\u001b[0;32mNone\u001b[0m\u001b[0;34m)\u001b[0m\u001b[0;34m:\u001b[0m\u001b[0;34m\u001b[0m\u001b[0;34m\u001b[0m\u001b[0m\n\u001b[0;32m-> 2152\u001b[0;31m     \u001b[0;32mreturn\u001b[0m \u001b[0mmatplotlib\u001b[0m\u001b[0;34m.\u001b[0m\u001b[0mimage\u001b[0m\u001b[0;34m.\u001b[0m\u001b[0mimread\u001b[0m\u001b[0;34m(\u001b[0m\u001b[0mfname\u001b[0m\u001b[0;34m,\u001b[0m \u001b[0mformat\u001b[0m\u001b[0;34m)\u001b[0m\u001b[0;34m\u001b[0m\u001b[0;34m\u001b[0m\u001b[0m\n\u001b[0m\u001b[1;32m   2153\u001b[0m \u001b[0;34m\u001b[0m\u001b[0m\n\u001b[1;32m   2154\u001b[0m \u001b[0;34m\u001b[0m\u001b[0m\n",
      "\u001b[0;32m/usr/local/lib/python3.6/dist-packages/matplotlib/image.py\u001b[0m in \u001b[0;36mimread\u001b[0;34m(fname, format)\u001b[0m\n\u001b[1;32m   1373\u001b[0m         \u001b[0;32melse\u001b[0m\u001b[0;34m:\u001b[0m\u001b[0;34m\u001b[0m\u001b[0;34m\u001b[0m\u001b[0m\n\u001b[1;32m   1374\u001b[0m             \u001b[0;32mwith\u001b[0m \u001b[0mopen\u001b[0m\u001b[0;34m(\u001b[0m\u001b[0mfname\u001b[0m\u001b[0;34m,\u001b[0m \u001b[0;34m'rb'\u001b[0m\u001b[0;34m)\u001b[0m \u001b[0;32mas\u001b[0m \u001b[0mfd\u001b[0m\u001b[0;34m:\u001b[0m\u001b[0;34m\u001b[0m\u001b[0;34m\u001b[0m\u001b[0m\n\u001b[0;32m-> 1375\u001b[0;31m                 \u001b[0;32mreturn\u001b[0m \u001b[0mhandler\u001b[0m\u001b[0;34m(\u001b[0m\u001b[0mfd\u001b[0m\u001b[0;34m)\u001b[0m\u001b[0;34m\u001b[0m\u001b[0;34m\u001b[0m\u001b[0m\n\u001b[0m\u001b[1;32m   1376\u001b[0m     \u001b[0;32melse\u001b[0m\u001b[0;34m:\u001b[0m\u001b[0;34m\u001b[0m\u001b[0;34m\u001b[0m\u001b[0m\n\u001b[1;32m   1377\u001b[0m         \u001b[0;32mreturn\u001b[0m \u001b[0mhandler\u001b[0m\u001b[0;34m(\u001b[0m\u001b[0mfname\u001b[0m\u001b[0;34m)\u001b[0m\u001b[0;34m\u001b[0m\u001b[0;34m\u001b[0m\u001b[0m\n",
      "\u001b[0;31mValueError\u001b[0m: invalid PNG header"
     ]
    }
   ],
   "source": [
    "img=plt.imread(\"onefourthlabs.png\")\n",
    "print(img)"
   ]
  },
  {
   "cell_type": "code",
   "execution_count": 0,
   "metadata": {
    "colab": {},
    "colab_type": "code",
    "id": "rBAbmL_hsKfJ"
   },
   "outputs": [],
   "source": [
    ""
   ]
  }
 ],
 "metadata": {
  "colab": {
   "collapsed_sections": [
    "Jos7_DEkXW6w"
   ],
   "name": "Python_Basics.ipynb",
   "provenance": [],
   "version": "0.3.2"
  },
  "kernelspec": {
   "display_name": "Python 3",
   "name": "python3"
  }
 },
 "nbformat": 4,
 "nbformat_minor": 0
}

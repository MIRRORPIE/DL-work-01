{
 "cells": [
  {
   "cell_type": "markdown",
   "metadata": {
    "colab_type": "text",
    "id": "d1QtwZTHiwYa"
   },
   "source": [
    "## Loading Data"
   ]
  },
  {
   "cell_type": "code",
   "execution_count": 0,
   "metadata": {
    "colab": {},
    "colab_type": "code",
    "id": "DsqRTJIltf3V"
   },
   "outputs": [],
   "source": [
    "import sklearn.datasets\n",
    "import numpy as np"
   ]
  },
  {
   "cell_type": "code",
   "execution_count": 0,
   "metadata": {
    "colab": {},
    "colab_type": "code",
    "id": "8dMp4IF-tnbZ"
   },
   "outputs": [],
   "source": [
    "breast_cancer = sklearn.datasets.load_breast_cancer()"
   ]
  },
  {
   "cell_type": "code",
   "execution_count": 0,
   "metadata": {
    "colab": {},
    "colab_type": "code",
    "id": "YCQ3p2h9umS4"
   },
   "outputs": [],
   "source": [
    "X = breast_cancer.data\n",
    "Y = breast_cancer.target"
   ]
  },
  {
   "cell_type": "code",
   "execution_count": 125,
   "metadata": {
    "colab": {
     "base_uri": "https://localhost:8080/",
     "height": 403
    },
    "colab_type": "code",
    "id": "oRYNsqaVu4CV",
    "outputId": "664cde5b-05a0-4030-d780-e3595168bb88"
   },
   "outputs": [
    {
     "name": "stdout",
     "output_type": "stream",
     "text": [
      "[[1.799e+01 1.038e+01 1.228e+02 ... 2.654e-01 4.601e-01 1.189e-01]\n",
      " [2.057e+01 1.777e+01 1.329e+02 ... 1.860e-01 2.750e-01 8.902e-02]\n",
      " [1.969e+01 2.125e+01 1.300e+02 ... 2.430e-01 3.613e-01 8.758e-02]\n",
      " ...\n",
      " [1.660e+01 2.808e+01 1.083e+02 ... 1.418e-01 2.218e-01 7.820e-02]\n",
      " [2.060e+01 2.933e+01 1.401e+02 ... 2.650e-01 4.087e-01 1.240e-01]\n",
      " [7.760e+00 2.454e+01 4.792e+01 ... 0.000e+00 2.871e-01 7.039e-02]]\n",
      "[0 0 0 0 0 0 0 0 0 0 0 0 0 0 0 0 0 0 0 1 1 1 0 0 0 0 0 0 0 0 0 0 0 0 0 0 0\n",
      " 1 0 0 0 0 0 0 0 0 1 0 1 1 1 1 1 0 0 1 0 0 1 1 1 1 0 1 0 0 1 1 1 1 0 1 0 0\n",
      " 1 0 1 0 0 1 1 1 0 0 1 0 0 0 1 1 1 0 1 1 0 0 1 1 1 0 0 1 1 1 1 0 1 1 0 1 1\n",
      " 1 1 1 1 1 1 0 0 0 1 0 0 1 1 1 0 0 1 0 1 0 0 1 0 0 1 1 0 1 1 0 1 1 1 1 0 1\n",
      " 1 1 1 1 1 1 1 1 0 1 1 1 1 0 0 1 0 1 1 0 0 1 1 0 0 1 1 1 1 0 1 1 0 0 0 1 0\n",
      " 1 0 1 1 1 0 1 1 0 0 1 0 0 0 0 1 0 0 0 1 0 1 0 1 1 0 1 0 0 0 0 1 1 0 0 1 1\n",
      " 1 0 1 1 1 1 1 0 0 1 1 0 1 1 0 0 1 0 1 1 1 1 0 1 1 1 1 1 0 1 0 0 0 0 0 0 0\n",
      " 0 0 0 0 0 0 0 1 1 1 1 1 1 0 1 0 1 1 0 1 1 0 1 0 0 1 1 1 1 1 1 1 1 1 1 1 1\n",
      " 1 0 1 1 0 1 0 1 1 1 1 1 1 1 1 1 1 1 1 1 1 0 1 1 1 0 1 0 1 1 1 1 0 0 0 1 1\n",
      " 1 1 0 1 0 1 0 1 1 1 0 1 1 1 1 1 1 1 0 0 0 1 1 1 1 1 1 1 1 1 1 1 0 0 1 0 0\n",
      " 0 1 0 0 1 1 1 1 1 0 1 1 1 1 1 0 1 1 1 0 1 1 0 0 1 1 1 1 1 1 0 1 1 1 1 1 1\n",
      " 1 0 1 1 1 1 1 0 1 1 0 1 1 1 1 1 1 1 1 1 1 1 1 0 1 0 0 1 0 1 1 1 1 1 0 1 1\n",
      " 0 1 0 1 1 0 1 0 1 1 1 1 1 1 1 1 0 0 1 1 1 1 1 1 0 1 1 1 1 1 1 1 1 1 1 0 1\n",
      " 1 1 1 1 1 1 0 1 0 1 1 0 1 1 1 1 1 0 0 1 0 1 0 1 1 1 1 1 0 1 1 0 1 0 1 0 0\n",
      " 1 1 1 0 1 1 1 1 1 1 1 1 1 1 1 0 1 0 0 1 1 1 1 1 1 1 1 1 1 1 1 1 1 1 1 1 1\n",
      " 1 1 1 1 1 1 1 0 0 0 0 0 0 1]\n"
     ]
    }
   ],
   "source": [
    "print(X)\n",
    "print(Y)"
   ]
  },
  {
   "cell_type": "code",
   "execution_count": 126,
   "metadata": {
    "colab": {
     "base_uri": "https://localhost:8080/",
     "height": 34
    },
    "colab_type": "code",
    "id": "4bH5yvb3vDhX",
    "outputId": "d879fe87-9849-4639-b366-8ec80eeef376"
   },
   "outputs": [
    {
     "name": "stdout",
     "output_type": "stream",
     "text": [
      "(569, 30) (569,)\n"
     ]
    }
   ],
   "source": [
    "print(X.shape, Y.shape)"
   ]
  },
  {
   "cell_type": "code",
   "execution_count": 0,
   "metadata": {
    "colab": {},
    "colab_type": "code",
    "id": "aCzEYuhEc5Pp"
   },
   "outputs": [],
   "source": [
    "import pandas as pd"
   ]
  },
  {
   "cell_type": "code",
   "execution_count": 0,
   "metadata": {
    "colab": {},
    "colab_type": "code",
    "id": "jvPMeEy7dF3j"
   },
   "outputs": [],
   "source": [
    "data = pd.DataFrame(breast_cancer.data, columns=breast_cancer.feature_names)"
   ]
  },
  {
   "cell_type": "code",
   "execution_count": 129,
   "metadata": {
    "colab": {
     "base_uri": "https://localhost:8080/",
     "height": 278
    },
    "colab_type": "code",
    "id": "JmPHaRlvefC-",
    "outputId": "b3151cd1-b9cd-4e03-8560-d59639dde44d"
   },
   "outputs": [
    {
     "data": {
      "text/html": [
       "<div>\n",
       "<style scoped>\n",
       "    .dataframe tbody tr th:only-of-type {\n",
       "        vertical-align: middle;\n",
       "    }\n",
       "\n",
       "    .dataframe tbody tr th {\n",
       "        vertical-align: top;\n",
       "    }\n",
       "\n",
       "    .dataframe thead th {\n",
       "        text-align: right;\n",
       "    }\n",
       "</style>\n",
       "<table border=\"1\" class=\"dataframe\">\n",
       "  <thead>\n",
       "    <tr style=\"text-align: right;\">\n",
       "      <th></th>\n",
       "      <th>mean radius</th>\n",
       "      <th>mean texture</th>\n",
       "      <th>mean perimeter</th>\n",
       "      <th>mean area</th>\n",
       "      <th>mean smoothness</th>\n",
       "      <th>mean compactness</th>\n",
       "      <th>mean concavity</th>\n",
       "      <th>mean concave points</th>\n",
       "      <th>mean symmetry</th>\n",
       "      <th>mean fractal dimension</th>\n",
       "      <th>...</th>\n",
       "      <th>worst radius</th>\n",
       "      <th>worst texture</th>\n",
       "      <th>worst perimeter</th>\n",
       "      <th>worst area</th>\n",
       "      <th>worst smoothness</th>\n",
       "      <th>worst compactness</th>\n",
       "      <th>worst concavity</th>\n",
       "      <th>worst concave points</th>\n",
       "      <th>worst symmetry</th>\n",
       "      <th>worst fractal dimension</th>\n",
       "    </tr>\n",
       "  </thead>\n",
       "  <tbody>\n",
       "    <tr>\n",
       "      <th>0</th>\n",
       "      <td>17.99</td>\n",
       "      <td>10.38</td>\n",
       "      <td>122.80</td>\n",
       "      <td>1001.0</td>\n",
       "      <td>0.11840</td>\n",
       "      <td>0.27760</td>\n",
       "      <td>0.3001</td>\n",
       "      <td>0.14710</td>\n",
       "      <td>0.2419</td>\n",
       "      <td>0.07871</td>\n",
       "      <td>...</td>\n",
       "      <td>25.38</td>\n",
       "      <td>17.33</td>\n",
       "      <td>184.60</td>\n",
       "      <td>2019.0</td>\n",
       "      <td>0.1622</td>\n",
       "      <td>0.6656</td>\n",
       "      <td>0.7119</td>\n",
       "      <td>0.2654</td>\n",
       "      <td>0.4601</td>\n",
       "      <td>0.11890</td>\n",
       "    </tr>\n",
       "    <tr>\n",
       "      <th>1</th>\n",
       "      <td>20.57</td>\n",
       "      <td>17.77</td>\n",
       "      <td>132.90</td>\n",
       "      <td>1326.0</td>\n",
       "      <td>0.08474</td>\n",
       "      <td>0.07864</td>\n",
       "      <td>0.0869</td>\n",
       "      <td>0.07017</td>\n",
       "      <td>0.1812</td>\n",
       "      <td>0.05667</td>\n",
       "      <td>...</td>\n",
       "      <td>24.99</td>\n",
       "      <td>23.41</td>\n",
       "      <td>158.80</td>\n",
       "      <td>1956.0</td>\n",
       "      <td>0.1238</td>\n",
       "      <td>0.1866</td>\n",
       "      <td>0.2416</td>\n",
       "      <td>0.1860</td>\n",
       "      <td>0.2750</td>\n",
       "      <td>0.08902</td>\n",
       "    </tr>\n",
       "    <tr>\n",
       "      <th>2</th>\n",
       "      <td>19.69</td>\n",
       "      <td>21.25</td>\n",
       "      <td>130.00</td>\n",
       "      <td>1203.0</td>\n",
       "      <td>0.10960</td>\n",
       "      <td>0.15990</td>\n",
       "      <td>0.1974</td>\n",
       "      <td>0.12790</td>\n",
       "      <td>0.2069</td>\n",
       "      <td>0.05999</td>\n",
       "      <td>...</td>\n",
       "      <td>23.57</td>\n",
       "      <td>25.53</td>\n",
       "      <td>152.50</td>\n",
       "      <td>1709.0</td>\n",
       "      <td>0.1444</td>\n",
       "      <td>0.4245</td>\n",
       "      <td>0.4504</td>\n",
       "      <td>0.2430</td>\n",
       "      <td>0.3613</td>\n",
       "      <td>0.08758</td>\n",
       "    </tr>\n",
       "    <tr>\n",
       "      <th>3</th>\n",
       "      <td>11.42</td>\n",
       "      <td>20.38</td>\n",
       "      <td>77.58</td>\n",
       "      <td>386.1</td>\n",
       "      <td>0.14250</td>\n",
       "      <td>0.28390</td>\n",
       "      <td>0.2414</td>\n",
       "      <td>0.10520</td>\n",
       "      <td>0.2597</td>\n",
       "      <td>0.09744</td>\n",
       "      <td>...</td>\n",
       "      <td>14.91</td>\n",
       "      <td>26.50</td>\n",
       "      <td>98.87</td>\n",
       "      <td>567.7</td>\n",
       "      <td>0.2098</td>\n",
       "      <td>0.8663</td>\n",
       "      <td>0.6869</td>\n",
       "      <td>0.2575</td>\n",
       "      <td>0.6638</td>\n",
       "      <td>0.17300</td>\n",
       "    </tr>\n",
       "    <tr>\n",
       "      <th>4</th>\n",
       "      <td>20.29</td>\n",
       "      <td>14.34</td>\n",
       "      <td>135.10</td>\n",
       "      <td>1297.0</td>\n",
       "      <td>0.10030</td>\n",
       "      <td>0.13280</td>\n",
       "      <td>0.1980</td>\n",
       "      <td>0.10430</td>\n",
       "      <td>0.1809</td>\n",
       "      <td>0.05883</td>\n",
       "      <td>...</td>\n",
       "      <td>22.54</td>\n",
       "      <td>16.67</td>\n",
       "      <td>152.20</td>\n",
       "      <td>1575.0</td>\n",
       "      <td>0.1374</td>\n",
       "      <td>0.2050</td>\n",
       "      <td>0.4000</td>\n",
       "      <td>0.1625</td>\n",
       "      <td>0.2364</td>\n",
       "      <td>0.07678</td>\n",
       "    </tr>\n",
       "  </tbody>\n",
       "</table>\n",
       "<p>5 rows × 30 columns</p>\n",
       "</div>"
      ],
      "text/plain": [
       "   mean radius  mean texture  mean perimeter  mean area  mean smoothness  \\\n",
       "0        17.99         10.38          122.80     1001.0          0.11840   \n",
       "1        20.57         17.77          132.90     1326.0          0.08474   \n",
       "2        19.69         21.25          130.00     1203.0          0.10960   \n",
       "3        11.42         20.38           77.58      386.1          0.14250   \n",
       "4        20.29         14.34          135.10     1297.0          0.10030   \n",
       "\n",
       "   mean compactness  mean concavity  mean concave points  mean symmetry  \\\n",
       "0           0.27760          0.3001              0.14710         0.2419   \n",
       "1           0.07864          0.0869              0.07017         0.1812   \n",
       "2           0.15990          0.1974              0.12790         0.2069   \n",
       "3           0.28390          0.2414              0.10520         0.2597   \n",
       "4           0.13280          0.1980              0.10430         0.1809   \n",
       "\n",
       "   mean fractal dimension           ...             worst radius  \\\n",
       "0                 0.07871           ...                    25.38   \n",
       "1                 0.05667           ...                    24.99   \n",
       "2                 0.05999           ...                    23.57   \n",
       "3                 0.09744           ...                    14.91   \n",
       "4                 0.05883           ...                    22.54   \n",
       "\n",
       "   worst texture  worst perimeter  worst area  worst smoothness  \\\n",
       "0          17.33           184.60      2019.0            0.1622   \n",
       "1          23.41           158.80      1956.0            0.1238   \n",
       "2          25.53           152.50      1709.0            0.1444   \n",
       "3          26.50            98.87       567.7            0.2098   \n",
       "4          16.67           152.20      1575.0            0.1374   \n",
       "\n",
       "   worst compactness  worst concavity  worst concave points  worst symmetry  \\\n",
       "0             0.6656           0.7119                0.2654          0.4601   \n",
       "1             0.1866           0.2416                0.1860          0.2750   \n",
       "2             0.4245           0.4504                0.2430          0.3613   \n",
       "3             0.8663           0.6869                0.2575          0.6638   \n",
       "4             0.2050           0.4000                0.1625          0.2364   \n",
       "\n",
       "   worst fractal dimension  \n",
       "0                  0.11890  \n",
       "1                  0.08902  \n",
       "2                  0.08758  \n",
       "3                  0.17300  \n",
       "4                  0.07678  \n",
       "\n",
       "[5 rows x 30 columns]"
      ]
     },
     "execution_count": 129,
     "metadata": {
      "tags": []
     },
     "output_type": "execute_result"
    }
   ],
   "source": [
    "data.head()"
   ]
  },
  {
   "cell_type": "code",
   "execution_count": 130,
   "metadata": {
    "colab": {
     "base_uri": "https://localhost:8080/",
     "height": 278
    },
    "colab_type": "code",
    "id": "hy0tVhbYdf3f",
    "outputId": "afcc5c9a-0090-4851-b5a6-706621692014"
   },
   "outputs": [
    {
     "data": {
      "text/html": [
       "<div>\n",
       "<style scoped>\n",
       "    .dataframe tbody tr th:only-of-type {\n",
       "        vertical-align: middle;\n",
       "    }\n",
       "\n",
       "    .dataframe tbody tr th {\n",
       "        vertical-align: top;\n",
       "    }\n",
       "\n",
       "    .dataframe thead th {\n",
       "        text-align: right;\n",
       "    }\n",
       "</style>\n",
       "<table border=\"1\" class=\"dataframe\">\n",
       "  <thead>\n",
       "    <tr style=\"text-align: right;\">\n",
       "      <th></th>\n",
       "      <th>mean radius</th>\n",
       "      <th>mean texture</th>\n",
       "      <th>mean perimeter</th>\n",
       "      <th>mean area</th>\n",
       "      <th>mean smoothness</th>\n",
       "      <th>mean compactness</th>\n",
       "      <th>mean concavity</th>\n",
       "      <th>mean concave points</th>\n",
       "      <th>mean symmetry</th>\n",
       "      <th>mean fractal dimension</th>\n",
       "      <th>...</th>\n",
       "      <th>worst texture</th>\n",
       "      <th>worst perimeter</th>\n",
       "      <th>worst area</th>\n",
       "      <th>worst smoothness</th>\n",
       "      <th>worst compactness</th>\n",
       "      <th>worst concavity</th>\n",
       "      <th>worst concave points</th>\n",
       "      <th>worst symmetry</th>\n",
       "      <th>worst fractal dimension</th>\n",
       "      <th>class</th>\n",
       "    </tr>\n",
       "  </thead>\n",
       "  <tbody>\n",
       "    <tr>\n",
       "      <th>0</th>\n",
       "      <td>17.99</td>\n",
       "      <td>10.38</td>\n",
       "      <td>122.80</td>\n",
       "      <td>1001.0</td>\n",
       "      <td>0.11840</td>\n",
       "      <td>0.27760</td>\n",
       "      <td>0.3001</td>\n",
       "      <td>0.14710</td>\n",
       "      <td>0.2419</td>\n",
       "      <td>0.07871</td>\n",
       "      <td>...</td>\n",
       "      <td>17.33</td>\n",
       "      <td>184.60</td>\n",
       "      <td>2019.0</td>\n",
       "      <td>0.1622</td>\n",
       "      <td>0.6656</td>\n",
       "      <td>0.7119</td>\n",
       "      <td>0.2654</td>\n",
       "      <td>0.4601</td>\n",
       "      <td>0.11890</td>\n",
       "      <td>0</td>\n",
       "    </tr>\n",
       "    <tr>\n",
       "      <th>1</th>\n",
       "      <td>20.57</td>\n",
       "      <td>17.77</td>\n",
       "      <td>132.90</td>\n",
       "      <td>1326.0</td>\n",
       "      <td>0.08474</td>\n",
       "      <td>0.07864</td>\n",
       "      <td>0.0869</td>\n",
       "      <td>0.07017</td>\n",
       "      <td>0.1812</td>\n",
       "      <td>0.05667</td>\n",
       "      <td>...</td>\n",
       "      <td>23.41</td>\n",
       "      <td>158.80</td>\n",
       "      <td>1956.0</td>\n",
       "      <td>0.1238</td>\n",
       "      <td>0.1866</td>\n",
       "      <td>0.2416</td>\n",
       "      <td>0.1860</td>\n",
       "      <td>0.2750</td>\n",
       "      <td>0.08902</td>\n",
       "      <td>0</td>\n",
       "    </tr>\n",
       "    <tr>\n",
       "      <th>2</th>\n",
       "      <td>19.69</td>\n",
       "      <td>21.25</td>\n",
       "      <td>130.00</td>\n",
       "      <td>1203.0</td>\n",
       "      <td>0.10960</td>\n",
       "      <td>0.15990</td>\n",
       "      <td>0.1974</td>\n",
       "      <td>0.12790</td>\n",
       "      <td>0.2069</td>\n",
       "      <td>0.05999</td>\n",
       "      <td>...</td>\n",
       "      <td>25.53</td>\n",
       "      <td>152.50</td>\n",
       "      <td>1709.0</td>\n",
       "      <td>0.1444</td>\n",
       "      <td>0.4245</td>\n",
       "      <td>0.4504</td>\n",
       "      <td>0.2430</td>\n",
       "      <td>0.3613</td>\n",
       "      <td>0.08758</td>\n",
       "      <td>0</td>\n",
       "    </tr>\n",
       "    <tr>\n",
       "      <th>3</th>\n",
       "      <td>11.42</td>\n",
       "      <td>20.38</td>\n",
       "      <td>77.58</td>\n",
       "      <td>386.1</td>\n",
       "      <td>0.14250</td>\n",
       "      <td>0.28390</td>\n",
       "      <td>0.2414</td>\n",
       "      <td>0.10520</td>\n",
       "      <td>0.2597</td>\n",
       "      <td>0.09744</td>\n",
       "      <td>...</td>\n",
       "      <td>26.50</td>\n",
       "      <td>98.87</td>\n",
       "      <td>567.7</td>\n",
       "      <td>0.2098</td>\n",
       "      <td>0.8663</td>\n",
       "      <td>0.6869</td>\n",
       "      <td>0.2575</td>\n",
       "      <td>0.6638</td>\n",
       "      <td>0.17300</td>\n",
       "      <td>0</td>\n",
       "    </tr>\n",
       "    <tr>\n",
       "      <th>4</th>\n",
       "      <td>20.29</td>\n",
       "      <td>14.34</td>\n",
       "      <td>135.10</td>\n",
       "      <td>1297.0</td>\n",
       "      <td>0.10030</td>\n",
       "      <td>0.13280</td>\n",
       "      <td>0.1980</td>\n",
       "      <td>0.10430</td>\n",
       "      <td>0.1809</td>\n",
       "      <td>0.05883</td>\n",
       "      <td>...</td>\n",
       "      <td>16.67</td>\n",
       "      <td>152.20</td>\n",
       "      <td>1575.0</td>\n",
       "      <td>0.1374</td>\n",
       "      <td>0.2050</td>\n",
       "      <td>0.4000</td>\n",
       "      <td>0.1625</td>\n",
       "      <td>0.2364</td>\n",
       "      <td>0.07678</td>\n",
       "      <td>0</td>\n",
       "    </tr>\n",
       "  </tbody>\n",
       "</table>\n",
       "<p>5 rows × 31 columns</p>\n",
       "</div>"
      ],
      "text/plain": [
       "   mean radius  mean texture  mean perimeter  mean area  mean smoothness  \\\n",
       "0        17.99         10.38          122.80     1001.0          0.11840   \n",
       "1        20.57         17.77          132.90     1326.0          0.08474   \n",
       "2        19.69         21.25          130.00     1203.0          0.10960   \n",
       "3        11.42         20.38           77.58      386.1          0.14250   \n",
       "4        20.29         14.34          135.10     1297.0          0.10030   \n",
       "\n",
       "   mean compactness  mean concavity  mean concave points  mean symmetry  \\\n",
       "0           0.27760          0.3001              0.14710         0.2419   \n",
       "1           0.07864          0.0869              0.07017         0.1812   \n",
       "2           0.15990          0.1974              0.12790         0.2069   \n",
       "3           0.28390          0.2414              0.10520         0.2597   \n",
       "4           0.13280          0.1980              0.10430         0.1809   \n",
       "\n",
       "   mean fractal dimension  ...    worst texture  worst perimeter  worst area  \\\n",
       "0                 0.07871  ...            17.33           184.60      2019.0   \n",
       "1                 0.05667  ...            23.41           158.80      1956.0   \n",
       "2                 0.05999  ...            25.53           152.50      1709.0   \n",
       "3                 0.09744  ...            26.50            98.87       567.7   \n",
       "4                 0.05883  ...            16.67           152.20      1575.0   \n",
       "\n",
       "   worst smoothness  worst compactness  worst concavity  worst concave points  \\\n",
       "0            0.1622             0.6656           0.7119                0.2654   \n",
       "1            0.1238             0.1866           0.2416                0.1860   \n",
       "2            0.1444             0.4245           0.4504                0.2430   \n",
       "3            0.2098             0.8663           0.6869                0.2575   \n",
       "4            0.1374             0.2050           0.4000                0.1625   \n",
       "\n",
       "   worst symmetry  worst fractal dimension  class  \n",
       "0          0.4601                  0.11890      0  \n",
       "1          0.2750                  0.08902      0  \n",
       "2          0.3613                  0.08758      0  \n",
       "3          0.6638                  0.17300      0  \n",
       "4          0.2364                  0.07678      0  \n",
       "\n",
       "[5 rows x 31 columns]"
      ]
     },
     "execution_count": 130,
     "metadata": {
      "tags": []
     },
     "output_type": "execute_result"
    }
   ],
   "source": [
    "#add a column to the data \"class\" to the data\n",
    "data[\"class\"] = breast_cancer.target\n",
    "data.head()"
   ]
  },
  {
   "cell_type": "code",
   "execution_count": 131,
   "metadata": {
    "colab": {
     "base_uri": "https://localhost:8080/",
     "height": 278
    },
    "colab_type": "code",
    "id": "duFL3Wrhdt4c",
    "outputId": "ea12f9e6-ae97-4a0d-e3f4-36d25faabe1b"
   },
   "outputs": [
    {
     "data": {
      "text/html": [
       "<div>\n",
       "<style scoped>\n",
       "    .dataframe tbody tr th:only-of-type {\n",
       "        vertical-align: middle;\n",
       "    }\n",
       "\n",
       "    .dataframe tbody tr th {\n",
       "        vertical-align: top;\n",
       "    }\n",
       "\n",
       "    .dataframe thead th {\n",
       "        text-align: right;\n",
       "    }\n",
       "</style>\n",
       "<table border=\"1\" class=\"dataframe\">\n",
       "  <thead>\n",
       "    <tr style=\"text-align: right;\">\n",
       "      <th></th>\n",
       "      <th>mean radius</th>\n",
       "      <th>mean texture</th>\n",
       "      <th>mean perimeter</th>\n",
       "      <th>mean area</th>\n",
       "      <th>mean smoothness</th>\n",
       "      <th>mean compactness</th>\n",
       "      <th>mean concavity</th>\n",
       "      <th>mean concave points</th>\n",
       "      <th>mean symmetry</th>\n",
       "      <th>mean fractal dimension</th>\n",
       "      <th>...</th>\n",
       "      <th>worst texture</th>\n",
       "      <th>worst perimeter</th>\n",
       "      <th>worst area</th>\n",
       "      <th>worst smoothness</th>\n",
       "      <th>worst compactness</th>\n",
       "      <th>worst concavity</th>\n",
       "      <th>worst concave points</th>\n",
       "      <th>worst symmetry</th>\n",
       "      <th>worst fractal dimension</th>\n",
       "      <th>class</th>\n",
       "    </tr>\n",
       "  </thead>\n",
       "  <tbody>\n",
       "    <tr>\n",
       "      <th>564</th>\n",
       "      <td>21.56</td>\n",
       "      <td>22.39</td>\n",
       "      <td>142.00</td>\n",
       "      <td>1479.0</td>\n",
       "      <td>0.11100</td>\n",
       "      <td>0.11590</td>\n",
       "      <td>0.24390</td>\n",
       "      <td>0.13890</td>\n",
       "      <td>0.1726</td>\n",
       "      <td>0.05623</td>\n",
       "      <td>...</td>\n",
       "      <td>26.40</td>\n",
       "      <td>166.10</td>\n",
       "      <td>2027.0</td>\n",
       "      <td>0.14100</td>\n",
       "      <td>0.21130</td>\n",
       "      <td>0.4107</td>\n",
       "      <td>0.2216</td>\n",
       "      <td>0.2060</td>\n",
       "      <td>0.07115</td>\n",
       "      <td>0</td>\n",
       "    </tr>\n",
       "    <tr>\n",
       "      <th>565</th>\n",
       "      <td>20.13</td>\n",
       "      <td>28.25</td>\n",
       "      <td>131.20</td>\n",
       "      <td>1261.0</td>\n",
       "      <td>0.09780</td>\n",
       "      <td>0.10340</td>\n",
       "      <td>0.14400</td>\n",
       "      <td>0.09791</td>\n",
       "      <td>0.1752</td>\n",
       "      <td>0.05533</td>\n",
       "      <td>...</td>\n",
       "      <td>38.25</td>\n",
       "      <td>155.00</td>\n",
       "      <td>1731.0</td>\n",
       "      <td>0.11660</td>\n",
       "      <td>0.19220</td>\n",
       "      <td>0.3215</td>\n",
       "      <td>0.1628</td>\n",
       "      <td>0.2572</td>\n",
       "      <td>0.06637</td>\n",
       "      <td>0</td>\n",
       "    </tr>\n",
       "    <tr>\n",
       "      <th>566</th>\n",
       "      <td>16.60</td>\n",
       "      <td>28.08</td>\n",
       "      <td>108.30</td>\n",
       "      <td>858.1</td>\n",
       "      <td>0.08455</td>\n",
       "      <td>0.10230</td>\n",
       "      <td>0.09251</td>\n",
       "      <td>0.05302</td>\n",
       "      <td>0.1590</td>\n",
       "      <td>0.05648</td>\n",
       "      <td>...</td>\n",
       "      <td>34.12</td>\n",
       "      <td>126.70</td>\n",
       "      <td>1124.0</td>\n",
       "      <td>0.11390</td>\n",
       "      <td>0.30940</td>\n",
       "      <td>0.3403</td>\n",
       "      <td>0.1418</td>\n",
       "      <td>0.2218</td>\n",
       "      <td>0.07820</td>\n",
       "      <td>0</td>\n",
       "    </tr>\n",
       "    <tr>\n",
       "      <th>567</th>\n",
       "      <td>20.60</td>\n",
       "      <td>29.33</td>\n",
       "      <td>140.10</td>\n",
       "      <td>1265.0</td>\n",
       "      <td>0.11780</td>\n",
       "      <td>0.27700</td>\n",
       "      <td>0.35140</td>\n",
       "      <td>0.15200</td>\n",
       "      <td>0.2397</td>\n",
       "      <td>0.07016</td>\n",
       "      <td>...</td>\n",
       "      <td>39.42</td>\n",
       "      <td>184.60</td>\n",
       "      <td>1821.0</td>\n",
       "      <td>0.16500</td>\n",
       "      <td>0.86810</td>\n",
       "      <td>0.9387</td>\n",
       "      <td>0.2650</td>\n",
       "      <td>0.4087</td>\n",
       "      <td>0.12400</td>\n",
       "      <td>0</td>\n",
       "    </tr>\n",
       "    <tr>\n",
       "      <th>568</th>\n",
       "      <td>7.76</td>\n",
       "      <td>24.54</td>\n",
       "      <td>47.92</td>\n",
       "      <td>181.0</td>\n",
       "      <td>0.05263</td>\n",
       "      <td>0.04362</td>\n",
       "      <td>0.00000</td>\n",
       "      <td>0.00000</td>\n",
       "      <td>0.1587</td>\n",
       "      <td>0.05884</td>\n",
       "      <td>...</td>\n",
       "      <td>30.37</td>\n",
       "      <td>59.16</td>\n",
       "      <td>268.6</td>\n",
       "      <td>0.08996</td>\n",
       "      <td>0.06444</td>\n",
       "      <td>0.0000</td>\n",
       "      <td>0.0000</td>\n",
       "      <td>0.2871</td>\n",
       "      <td>0.07039</td>\n",
       "      <td>1</td>\n",
       "    </tr>\n",
       "  </tbody>\n",
       "</table>\n",
       "<p>5 rows × 31 columns</p>\n",
       "</div>"
      ],
      "text/plain": [
       "     mean radius  mean texture  mean perimeter  mean area  mean smoothness  \\\n",
       "564        21.56         22.39          142.00     1479.0          0.11100   \n",
       "565        20.13         28.25          131.20     1261.0          0.09780   \n",
       "566        16.60         28.08          108.30      858.1          0.08455   \n",
       "567        20.60         29.33          140.10     1265.0          0.11780   \n",
       "568         7.76         24.54           47.92      181.0          0.05263   \n",
       "\n",
       "     mean compactness  mean concavity  mean concave points  mean symmetry  \\\n",
       "564           0.11590         0.24390              0.13890         0.1726   \n",
       "565           0.10340         0.14400              0.09791         0.1752   \n",
       "566           0.10230         0.09251              0.05302         0.1590   \n",
       "567           0.27700         0.35140              0.15200         0.2397   \n",
       "568           0.04362         0.00000              0.00000         0.1587   \n",
       "\n",
       "     mean fractal dimension  ...    worst texture  worst perimeter  \\\n",
       "564                 0.05623  ...            26.40           166.10   \n",
       "565                 0.05533  ...            38.25           155.00   \n",
       "566                 0.05648  ...            34.12           126.70   \n",
       "567                 0.07016  ...            39.42           184.60   \n",
       "568                 0.05884  ...            30.37            59.16   \n",
       "\n",
       "     worst area  worst smoothness  worst compactness  worst concavity  \\\n",
       "564      2027.0           0.14100            0.21130           0.4107   \n",
       "565      1731.0           0.11660            0.19220           0.3215   \n",
       "566      1124.0           0.11390            0.30940           0.3403   \n",
       "567      1821.0           0.16500            0.86810           0.9387   \n",
       "568       268.6           0.08996            0.06444           0.0000   \n",
       "\n",
       "     worst concave points  worst symmetry  worst fractal dimension  class  \n",
       "564                0.2216          0.2060                  0.07115      0  \n",
       "565                0.1628          0.2572                  0.06637      0  \n",
       "566                0.1418          0.2218                  0.07820      0  \n",
       "567                0.2650          0.4087                  0.12400      0  \n",
       "568                0.0000          0.2871                  0.07039      1  \n",
       "\n",
       "[5 rows x 31 columns]"
      ]
     },
     "execution_count": 131,
     "metadata": {
      "tags": []
     },
     "output_type": "execute_result"
    }
   ],
   "source": [
    "data.tail()"
   ]
  },
  {
   "cell_type": "code",
   "execution_count": 132,
   "metadata": {
    "colab": {
     "base_uri": "https://localhost:8080/",
     "height": 366
    },
    "colab_type": "code",
    "id": "mm-QXAOweENl",
    "outputId": "288130a4-69cd-4afc-bcfe-6ae7e6856894"
   },
   "outputs": [
    {
     "data": {
      "text/html": [
       "<div>\n",
       "<style scoped>\n",
       "    .dataframe tbody tr th:only-of-type {\n",
       "        vertical-align: middle;\n",
       "    }\n",
       "\n",
       "    .dataframe tbody tr th {\n",
       "        vertical-align: top;\n",
       "    }\n",
       "\n",
       "    .dataframe thead th {\n",
       "        text-align: right;\n",
       "    }\n",
       "</style>\n",
       "<table border=\"1\" class=\"dataframe\">\n",
       "  <thead>\n",
       "    <tr style=\"text-align: right;\">\n",
       "      <th></th>\n",
       "      <th>mean radius</th>\n",
       "      <th>mean texture</th>\n",
       "      <th>mean perimeter</th>\n",
       "      <th>mean area</th>\n",
       "      <th>mean smoothness</th>\n",
       "      <th>mean compactness</th>\n",
       "      <th>mean concavity</th>\n",
       "      <th>mean concave points</th>\n",
       "      <th>mean symmetry</th>\n",
       "      <th>mean fractal dimension</th>\n",
       "      <th>...</th>\n",
       "      <th>worst texture</th>\n",
       "      <th>worst perimeter</th>\n",
       "      <th>worst area</th>\n",
       "      <th>worst smoothness</th>\n",
       "      <th>worst compactness</th>\n",
       "      <th>worst concavity</th>\n",
       "      <th>worst concave points</th>\n",
       "      <th>worst symmetry</th>\n",
       "      <th>worst fractal dimension</th>\n",
       "      <th>class</th>\n",
       "    </tr>\n",
       "  </thead>\n",
       "  <tbody>\n",
       "    <tr>\n",
       "      <th>count</th>\n",
       "      <td>569.000000</td>\n",
       "      <td>569.000000</td>\n",
       "      <td>569.000000</td>\n",
       "      <td>569.000000</td>\n",
       "      <td>569.000000</td>\n",
       "      <td>569.000000</td>\n",
       "      <td>569.000000</td>\n",
       "      <td>569.000000</td>\n",
       "      <td>569.000000</td>\n",
       "      <td>569.000000</td>\n",
       "      <td>...</td>\n",
       "      <td>569.000000</td>\n",
       "      <td>569.000000</td>\n",
       "      <td>569.000000</td>\n",
       "      <td>569.000000</td>\n",
       "      <td>569.000000</td>\n",
       "      <td>569.000000</td>\n",
       "      <td>569.000000</td>\n",
       "      <td>569.000000</td>\n",
       "      <td>569.000000</td>\n",
       "      <td>569.000000</td>\n",
       "    </tr>\n",
       "    <tr>\n",
       "      <th>mean</th>\n",
       "      <td>14.127292</td>\n",
       "      <td>19.289649</td>\n",
       "      <td>91.969033</td>\n",
       "      <td>654.889104</td>\n",
       "      <td>0.096360</td>\n",
       "      <td>0.104341</td>\n",
       "      <td>0.088799</td>\n",
       "      <td>0.048919</td>\n",
       "      <td>0.181162</td>\n",
       "      <td>0.062798</td>\n",
       "      <td>...</td>\n",
       "      <td>25.677223</td>\n",
       "      <td>107.261213</td>\n",
       "      <td>880.583128</td>\n",
       "      <td>0.132369</td>\n",
       "      <td>0.254265</td>\n",
       "      <td>0.272188</td>\n",
       "      <td>0.114606</td>\n",
       "      <td>0.290076</td>\n",
       "      <td>0.083946</td>\n",
       "      <td>0.627417</td>\n",
       "    </tr>\n",
       "    <tr>\n",
       "      <th>std</th>\n",
       "      <td>3.524049</td>\n",
       "      <td>4.301036</td>\n",
       "      <td>24.298981</td>\n",
       "      <td>351.914129</td>\n",
       "      <td>0.014064</td>\n",
       "      <td>0.052813</td>\n",
       "      <td>0.079720</td>\n",
       "      <td>0.038803</td>\n",
       "      <td>0.027414</td>\n",
       "      <td>0.007060</td>\n",
       "      <td>...</td>\n",
       "      <td>6.146258</td>\n",
       "      <td>33.602542</td>\n",
       "      <td>569.356993</td>\n",
       "      <td>0.022832</td>\n",
       "      <td>0.157336</td>\n",
       "      <td>0.208624</td>\n",
       "      <td>0.065732</td>\n",
       "      <td>0.061867</td>\n",
       "      <td>0.018061</td>\n",
       "      <td>0.483918</td>\n",
       "    </tr>\n",
       "    <tr>\n",
       "      <th>min</th>\n",
       "      <td>6.981000</td>\n",
       "      <td>9.710000</td>\n",
       "      <td>43.790000</td>\n",
       "      <td>143.500000</td>\n",
       "      <td>0.052630</td>\n",
       "      <td>0.019380</td>\n",
       "      <td>0.000000</td>\n",
       "      <td>0.000000</td>\n",
       "      <td>0.106000</td>\n",
       "      <td>0.049960</td>\n",
       "      <td>...</td>\n",
       "      <td>12.020000</td>\n",
       "      <td>50.410000</td>\n",
       "      <td>185.200000</td>\n",
       "      <td>0.071170</td>\n",
       "      <td>0.027290</td>\n",
       "      <td>0.000000</td>\n",
       "      <td>0.000000</td>\n",
       "      <td>0.156500</td>\n",
       "      <td>0.055040</td>\n",
       "      <td>0.000000</td>\n",
       "    </tr>\n",
       "    <tr>\n",
       "      <th>25%</th>\n",
       "      <td>11.700000</td>\n",
       "      <td>16.170000</td>\n",
       "      <td>75.170000</td>\n",
       "      <td>420.300000</td>\n",
       "      <td>0.086370</td>\n",
       "      <td>0.064920</td>\n",
       "      <td>0.029560</td>\n",
       "      <td>0.020310</td>\n",
       "      <td>0.161900</td>\n",
       "      <td>0.057700</td>\n",
       "      <td>...</td>\n",
       "      <td>21.080000</td>\n",
       "      <td>84.110000</td>\n",
       "      <td>515.300000</td>\n",
       "      <td>0.116600</td>\n",
       "      <td>0.147200</td>\n",
       "      <td>0.114500</td>\n",
       "      <td>0.064930</td>\n",
       "      <td>0.250400</td>\n",
       "      <td>0.071460</td>\n",
       "      <td>0.000000</td>\n",
       "    </tr>\n",
       "    <tr>\n",
       "      <th>50%</th>\n",
       "      <td>13.370000</td>\n",
       "      <td>18.840000</td>\n",
       "      <td>86.240000</td>\n",
       "      <td>551.100000</td>\n",
       "      <td>0.095870</td>\n",
       "      <td>0.092630</td>\n",
       "      <td>0.061540</td>\n",
       "      <td>0.033500</td>\n",
       "      <td>0.179200</td>\n",
       "      <td>0.061540</td>\n",
       "      <td>...</td>\n",
       "      <td>25.410000</td>\n",
       "      <td>97.660000</td>\n",
       "      <td>686.500000</td>\n",
       "      <td>0.131300</td>\n",
       "      <td>0.211900</td>\n",
       "      <td>0.226700</td>\n",
       "      <td>0.099930</td>\n",
       "      <td>0.282200</td>\n",
       "      <td>0.080040</td>\n",
       "      <td>1.000000</td>\n",
       "    </tr>\n",
       "    <tr>\n",
       "      <th>75%</th>\n",
       "      <td>15.780000</td>\n",
       "      <td>21.800000</td>\n",
       "      <td>104.100000</td>\n",
       "      <td>782.700000</td>\n",
       "      <td>0.105300</td>\n",
       "      <td>0.130400</td>\n",
       "      <td>0.130700</td>\n",
       "      <td>0.074000</td>\n",
       "      <td>0.195700</td>\n",
       "      <td>0.066120</td>\n",
       "      <td>...</td>\n",
       "      <td>29.720000</td>\n",
       "      <td>125.400000</td>\n",
       "      <td>1084.000000</td>\n",
       "      <td>0.146000</td>\n",
       "      <td>0.339100</td>\n",
       "      <td>0.382900</td>\n",
       "      <td>0.161400</td>\n",
       "      <td>0.317900</td>\n",
       "      <td>0.092080</td>\n",
       "      <td>1.000000</td>\n",
       "    </tr>\n",
       "    <tr>\n",
       "      <th>max</th>\n",
       "      <td>28.110000</td>\n",
       "      <td>39.280000</td>\n",
       "      <td>188.500000</td>\n",
       "      <td>2501.000000</td>\n",
       "      <td>0.163400</td>\n",
       "      <td>0.345400</td>\n",
       "      <td>0.426800</td>\n",
       "      <td>0.201200</td>\n",
       "      <td>0.304000</td>\n",
       "      <td>0.097440</td>\n",
       "      <td>...</td>\n",
       "      <td>49.540000</td>\n",
       "      <td>251.200000</td>\n",
       "      <td>4254.000000</td>\n",
       "      <td>0.222600</td>\n",
       "      <td>1.058000</td>\n",
       "      <td>1.252000</td>\n",
       "      <td>0.291000</td>\n",
       "      <td>0.663800</td>\n",
       "      <td>0.207500</td>\n",
       "      <td>1.000000</td>\n",
       "    </tr>\n",
       "  </tbody>\n",
       "</table>\n",
       "<p>8 rows × 31 columns</p>\n",
       "</div>"
      ],
      "text/plain": [
       "       mean radius  mean texture  mean perimeter    mean area  \\\n",
       "count   569.000000    569.000000      569.000000   569.000000   \n",
       "mean     14.127292     19.289649       91.969033   654.889104   \n",
       "std       3.524049      4.301036       24.298981   351.914129   \n",
       "min       6.981000      9.710000       43.790000   143.500000   \n",
       "25%      11.700000     16.170000       75.170000   420.300000   \n",
       "50%      13.370000     18.840000       86.240000   551.100000   \n",
       "75%      15.780000     21.800000      104.100000   782.700000   \n",
       "max      28.110000     39.280000      188.500000  2501.000000   \n",
       "\n",
       "       mean smoothness  mean compactness  mean concavity  mean concave points  \\\n",
       "count       569.000000        569.000000      569.000000           569.000000   \n",
       "mean          0.096360          0.104341        0.088799             0.048919   \n",
       "std           0.014064          0.052813        0.079720             0.038803   \n",
       "min           0.052630          0.019380        0.000000             0.000000   \n",
       "25%           0.086370          0.064920        0.029560             0.020310   \n",
       "50%           0.095870          0.092630        0.061540             0.033500   \n",
       "75%           0.105300          0.130400        0.130700             0.074000   \n",
       "max           0.163400          0.345400        0.426800             0.201200   \n",
       "\n",
       "       mean symmetry  mean fractal dimension     ...      worst texture  \\\n",
       "count     569.000000              569.000000     ...         569.000000   \n",
       "mean        0.181162                0.062798     ...          25.677223   \n",
       "std         0.027414                0.007060     ...           6.146258   \n",
       "min         0.106000                0.049960     ...          12.020000   \n",
       "25%         0.161900                0.057700     ...          21.080000   \n",
       "50%         0.179200                0.061540     ...          25.410000   \n",
       "75%         0.195700                0.066120     ...          29.720000   \n",
       "max         0.304000                0.097440     ...          49.540000   \n",
       "\n",
       "       worst perimeter   worst area  worst smoothness  worst compactness  \\\n",
       "count       569.000000   569.000000        569.000000         569.000000   \n",
       "mean        107.261213   880.583128          0.132369           0.254265   \n",
       "std          33.602542   569.356993          0.022832           0.157336   \n",
       "min          50.410000   185.200000          0.071170           0.027290   \n",
       "25%          84.110000   515.300000          0.116600           0.147200   \n",
       "50%          97.660000   686.500000          0.131300           0.211900   \n",
       "75%         125.400000  1084.000000          0.146000           0.339100   \n",
       "max         251.200000  4254.000000          0.222600           1.058000   \n",
       "\n",
       "       worst concavity  worst concave points  worst symmetry  \\\n",
       "count       569.000000            569.000000      569.000000   \n",
       "mean          0.272188              0.114606        0.290076   \n",
       "std           0.208624              0.065732        0.061867   \n",
       "min           0.000000              0.000000        0.156500   \n",
       "25%           0.114500              0.064930        0.250400   \n",
       "50%           0.226700              0.099930        0.282200   \n",
       "75%           0.382900              0.161400        0.317900   \n",
       "max           1.252000              0.291000        0.663800   \n",
       "\n",
       "       worst fractal dimension       class  \n",
       "count               569.000000  569.000000  \n",
       "mean                  0.083946    0.627417  \n",
       "std                   0.018061    0.483918  \n",
       "min                   0.055040    0.000000  \n",
       "25%                   0.071460    0.000000  \n",
       "50%                   0.080040    1.000000  \n",
       "75%                   0.092080    1.000000  \n",
       "max                   0.207500    1.000000  \n",
       "\n",
       "[8 rows x 31 columns]"
      ]
     },
     "execution_count": 132,
     "metadata": {
      "tags": []
     },
     "output_type": "execute_result"
    }
   ],
   "source": [
    "data.describe()"
   ]
  },
  {
   "cell_type": "code",
   "execution_count": 133,
   "metadata": {
    "colab": {
     "base_uri": "https://localhost:8080/",
     "height": 67
    },
    "colab_type": "code",
    "id": "izWenK-wfGYo",
    "outputId": "8229cfce-033a-45b4-d76b-98d1ab567d39"
   },
   "outputs": [
    {
     "name": "stdout",
     "output_type": "stream",
     "text": [
      "1    357\n",
      "0    212\n",
      "Name: class, dtype: int64\n"
     ]
    }
   ],
   "source": [
    "# count the different values in the \"class\"\n",
    "print(data[\"class\"].value_counts())"
   ]
  },
  {
   "cell_type": "code",
   "execution_count": 134,
   "metadata": {
    "colab": {
     "base_uri": "https://localhost:8080/",
     "height": 218
    },
    "colab_type": "code",
    "id": "vpsQvrIegZgr",
    "outputId": "f9c9c6d9-36ff-40ee-f0e3-9f0973129575"
   },
   "outputs": [
    {
     "name": "stdout",
     "output_type": "stream",
     "text": [
      "<class 'pandas.core.frame.DataFrame'>\n",
      "Index(['mean radius', 'mean texture', 'mean perimeter', 'mean area',\n",
      "       'mean smoothness', 'mean compactness', 'mean concavity',\n",
      "       'mean concave points', 'mean symmetry', 'mean fractal dimension',\n",
      "       'radius error', 'texture error', 'perimeter error', 'area error',\n",
      "       'smoothness error', 'compactness error', 'concavity error',\n",
      "       'concave points error', 'symmetry error', 'fractal dimension error',\n",
      "       'worst radius', 'worst texture', 'worst perimeter', 'worst area',\n",
      "       'worst smoothness', 'worst compactness', 'worst concavity',\n",
      "       'worst concave points', 'worst symmetry', 'worst fractal dimension',\n",
      "       'class'],\n",
      "      dtype='object')\n"
     ]
    }
   ],
   "source": [
    "print(type(data))\n",
    "print(data.columns)"
   ]
  },
  {
   "cell_type": "code",
   "execution_count": 135,
   "metadata": {
    "colab": {
     "base_uri": "https://localhost:8080/",
     "height": 34
    },
    "colab_type": "code",
    "id": "B5sb0XmKfvZH",
    "outputId": "817b0015-d96f-4ee7-b87f-443feeb3c3b0"
   },
   "outputs": [
    {
     "data": {
      "text/plain": [
       "456"
      ]
     },
     "execution_count": 135,
     "metadata": {
      "tags": []
     },
     "output_type": "execute_result"
    }
   ],
   "source": [
    "len(data[\"mean radius\"].value_counts())"
   ]
  },
  {
   "cell_type": "code",
   "execution_count": 136,
   "metadata": {
    "colab": {
     "base_uri": "https://localhost:8080/",
     "height": 34
    },
    "colab_type": "code",
    "id": "2T4YH7IkgKnc",
    "outputId": "b1c614b7-97a4-4d75-b5f0-c338bd81c58a"
   },
   "outputs": [
    {
     "name": "stdout",
     "output_type": "stream",
     "text": [
      "['malignant' 'benign']\n"
     ]
    }
   ],
   "source": [
    "print(breast_cancer.target_names)"
   ]
  },
  {
   "cell_type": "code",
   "execution_count": 137,
   "metadata": {
    "colab": {
     "base_uri": "https://localhost:8080/",
     "height": 218
    },
    "colab_type": "code",
    "id": "BJr4H09sh6zP",
    "outputId": "58b38a92-0e11-4af2-918c-a6ff627a0ddf"
   },
   "outputs": [
    {
     "data": {
      "text/html": [
       "<div>\n",
       "<style scoped>\n",
       "    .dataframe tbody tr th:only-of-type {\n",
       "        vertical-align: middle;\n",
       "    }\n",
       "\n",
       "    .dataframe tbody tr th {\n",
       "        vertical-align: top;\n",
       "    }\n",
       "\n",
       "    .dataframe thead th {\n",
       "        text-align: right;\n",
       "    }\n",
       "</style>\n",
       "<table border=\"1\" class=\"dataframe\">\n",
       "  <thead>\n",
       "    <tr style=\"text-align: right;\">\n",
       "      <th></th>\n",
       "      <th>mean radius</th>\n",
       "      <th>mean texture</th>\n",
       "      <th>mean perimeter</th>\n",
       "      <th>mean area</th>\n",
       "      <th>mean smoothness</th>\n",
       "      <th>mean compactness</th>\n",
       "      <th>mean concavity</th>\n",
       "      <th>mean concave points</th>\n",
       "      <th>mean symmetry</th>\n",
       "      <th>mean fractal dimension</th>\n",
       "      <th>...</th>\n",
       "      <th>worst radius</th>\n",
       "      <th>worst texture</th>\n",
       "      <th>worst perimeter</th>\n",
       "      <th>worst area</th>\n",
       "      <th>worst smoothness</th>\n",
       "      <th>worst compactness</th>\n",
       "      <th>worst concavity</th>\n",
       "      <th>worst concave points</th>\n",
       "      <th>worst symmetry</th>\n",
       "      <th>worst fractal dimension</th>\n",
       "    </tr>\n",
       "    <tr>\n",
       "      <th>class</th>\n",
       "      <th></th>\n",
       "      <th></th>\n",
       "      <th></th>\n",
       "      <th></th>\n",
       "      <th></th>\n",
       "      <th></th>\n",
       "      <th></th>\n",
       "      <th></th>\n",
       "      <th></th>\n",
       "      <th></th>\n",
       "      <th></th>\n",
       "      <th></th>\n",
       "      <th></th>\n",
       "      <th></th>\n",
       "      <th></th>\n",
       "      <th></th>\n",
       "      <th></th>\n",
       "      <th></th>\n",
       "      <th></th>\n",
       "      <th></th>\n",
       "      <th></th>\n",
       "    </tr>\n",
       "  </thead>\n",
       "  <tbody>\n",
       "    <tr>\n",
       "      <th>0</th>\n",
       "      <td>17.462830</td>\n",
       "      <td>21.604906</td>\n",
       "      <td>115.365377</td>\n",
       "      <td>978.376415</td>\n",
       "      <td>0.102898</td>\n",
       "      <td>0.145188</td>\n",
       "      <td>0.160775</td>\n",
       "      <td>0.087990</td>\n",
       "      <td>0.192909</td>\n",
       "      <td>0.062680</td>\n",
       "      <td>...</td>\n",
       "      <td>21.134811</td>\n",
       "      <td>29.318208</td>\n",
       "      <td>141.370330</td>\n",
       "      <td>1422.286321</td>\n",
       "      <td>0.144845</td>\n",
       "      <td>0.374824</td>\n",
       "      <td>0.450606</td>\n",
       "      <td>0.182237</td>\n",
       "      <td>0.323468</td>\n",
       "      <td>0.091530</td>\n",
       "    </tr>\n",
       "    <tr>\n",
       "      <th>1</th>\n",
       "      <td>12.146524</td>\n",
       "      <td>17.914762</td>\n",
       "      <td>78.075406</td>\n",
       "      <td>462.790196</td>\n",
       "      <td>0.092478</td>\n",
       "      <td>0.080085</td>\n",
       "      <td>0.046058</td>\n",
       "      <td>0.025717</td>\n",
       "      <td>0.174186</td>\n",
       "      <td>0.062867</td>\n",
       "      <td>...</td>\n",
       "      <td>13.379801</td>\n",
       "      <td>23.515070</td>\n",
       "      <td>87.005938</td>\n",
       "      <td>558.899440</td>\n",
       "      <td>0.124959</td>\n",
       "      <td>0.182673</td>\n",
       "      <td>0.166238</td>\n",
       "      <td>0.074444</td>\n",
       "      <td>0.270246</td>\n",
       "      <td>0.079442</td>\n",
       "    </tr>\n",
       "  </tbody>\n",
       "</table>\n",
       "<p>2 rows × 30 columns</p>\n",
       "</div>"
      ],
      "text/plain": [
       "       mean radius  mean texture  mean perimeter   mean area  mean smoothness  \\\n",
       "class                                                                           \n",
       "0        17.462830     21.604906      115.365377  978.376415         0.102898   \n",
       "1        12.146524     17.914762       78.075406  462.790196         0.092478   \n",
       "\n",
       "       mean compactness  mean concavity  mean concave points  mean symmetry  \\\n",
       "class                                                                         \n",
       "0              0.145188        0.160775             0.087990       0.192909   \n",
       "1              0.080085        0.046058             0.025717       0.174186   \n",
       "\n",
       "       mean fractal dimension           ...             worst radius  \\\n",
       "class                                   ...                            \n",
       "0                    0.062680           ...                21.134811   \n",
       "1                    0.062867           ...                13.379801   \n",
       "\n",
       "       worst texture  worst perimeter   worst area  worst smoothness  \\\n",
       "class                                                                  \n",
       "0          29.318208       141.370330  1422.286321          0.144845   \n",
       "1          23.515070        87.005938   558.899440          0.124959   \n",
       "\n",
       "       worst compactness  worst concavity  worst concave points  \\\n",
       "class                                                             \n",
       "0               0.374824         0.450606              0.182237   \n",
       "1               0.182673         0.166238              0.074444   \n",
       "\n",
       "       worst symmetry  worst fractal dimension  \n",
       "class                                           \n",
       "0            0.323468                 0.091530  \n",
       "1            0.270246                 0.079442  \n",
       "\n",
       "[2 rows x 30 columns]"
      ]
     },
     "execution_count": 137,
     "metadata": {
      "tags": []
     },
     "output_type": "execute_result"
    }
   ],
   "source": [
    "data.groupby(\"class\").mean()"
   ]
  },
  {
   "cell_type": "code",
   "execution_count": 138,
   "metadata": {
    "colab": {
     "base_uri": "https://localhost:8080/",
     "height": 231
    },
    "colab_type": "code",
    "id": "j3K6uy4DiC_O",
    "outputId": "b3d9bd0c-6736-4e44-f6e5-464230eecfc2"
   },
   "outputs": [
    {
     "data": {
      "text/html": [
       "<div>\n",
       "<style scoped>\n",
       "    .dataframe tbody tr th:only-of-type {\n",
       "        vertical-align: middle;\n",
       "    }\n",
       "\n",
       "    .dataframe tbody tr th {\n",
       "        vertical-align: top;\n",
       "    }\n",
       "\n",
       "    .dataframe thead tr th {\n",
       "        text-align: left;\n",
       "    }\n",
       "\n",
       "    .dataframe thead tr:last-of-type th {\n",
       "        text-align: right;\n",
       "    }\n",
       "</style>\n",
       "<table border=\"1\" class=\"dataframe\">\n",
       "  <thead>\n",
       "    <tr>\n",
       "      <th></th>\n",
       "      <th colspan=\"8\" halign=\"left\">area error</th>\n",
       "      <th colspan=\"2\" halign=\"left\">compactness error</th>\n",
       "      <th>...</th>\n",
       "      <th colspan=\"2\" halign=\"left\">worst symmetry</th>\n",
       "      <th colspan=\"8\" halign=\"left\">worst texture</th>\n",
       "    </tr>\n",
       "    <tr>\n",
       "      <th></th>\n",
       "      <th>count</th>\n",
       "      <th>mean</th>\n",
       "      <th>std</th>\n",
       "      <th>min</th>\n",
       "      <th>25%</th>\n",
       "      <th>50%</th>\n",
       "      <th>75%</th>\n",
       "      <th>max</th>\n",
       "      <th>count</th>\n",
       "      <th>mean</th>\n",
       "      <th>...</th>\n",
       "      <th>75%</th>\n",
       "      <th>max</th>\n",
       "      <th>count</th>\n",
       "      <th>mean</th>\n",
       "      <th>std</th>\n",
       "      <th>min</th>\n",
       "      <th>25%</th>\n",
       "      <th>50%</th>\n",
       "      <th>75%</th>\n",
       "      <th>max</th>\n",
       "    </tr>\n",
       "    <tr>\n",
       "      <th>class</th>\n",
       "      <th></th>\n",
       "      <th></th>\n",
       "      <th></th>\n",
       "      <th></th>\n",
       "      <th></th>\n",
       "      <th></th>\n",
       "      <th></th>\n",
       "      <th></th>\n",
       "      <th></th>\n",
       "      <th></th>\n",
       "      <th></th>\n",
       "      <th></th>\n",
       "      <th></th>\n",
       "      <th></th>\n",
       "      <th></th>\n",
       "      <th></th>\n",
       "      <th></th>\n",
       "      <th></th>\n",
       "      <th></th>\n",
       "      <th></th>\n",
       "      <th></th>\n",
       "    </tr>\n",
       "  </thead>\n",
       "  <tbody>\n",
       "    <tr>\n",
       "      <th>0</th>\n",
       "      <td>212.0</td>\n",
       "      <td>72.672406</td>\n",
       "      <td>61.355268</td>\n",
       "      <td>13.990</td>\n",
       "      <td>35.7625</td>\n",
       "      <td>58.455</td>\n",
       "      <td>94.00</td>\n",
       "      <td>542.20</td>\n",
       "      <td>212.0</td>\n",
       "      <td>0.032281</td>\n",
       "      <td>...</td>\n",
       "      <td>0.359225</td>\n",
       "      <td>0.6638</td>\n",
       "      <td>212.0</td>\n",
       "      <td>29.318208</td>\n",
       "      <td>5.434804</td>\n",
       "      <td>16.67</td>\n",
       "      <td>25.7825</td>\n",
       "      <td>28.945</td>\n",
       "      <td>32.69</td>\n",
       "      <td>49.54</td>\n",
       "    </tr>\n",
       "    <tr>\n",
       "      <th>1</th>\n",
       "      <td>357.0</td>\n",
       "      <td>21.135148</td>\n",
       "      <td>8.843472</td>\n",
       "      <td>6.802</td>\n",
       "      <td>15.2600</td>\n",
       "      <td>19.630</td>\n",
       "      <td>25.03</td>\n",
       "      <td>77.11</td>\n",
       "      <td>357.0</td>\n",
       "      <td>0.021438</td>\n",
       "      <td>...</td>\n",
       "      <td>0.298300</td>\n",
       "      <td>0.4228</td>\n",
       "      <td>357.0</td>\n",
       "      <td>23.515070</td>\n",
       "      <td>5.493955</td>\n",
       "      <td>12.02</td>\n",
       "      <td>19.5800</td>\n",
       "      <td>22.820</td>\n",
       "      <td>26.51</td>\n",
       "      <td>41.78</td>\n",
       "    </tr>\n",
       "  </tbody>\n",
       "</table>\n",
       "<p>2 rows × 240 columns</p>\n",
       "</div>"
      ],
      "text/plain": [
       "      area error                                                        \\\n",
       "           count       mean        std     min      25%     50%    75%   \n",
       "class                                                                    \n",
       "0          212.0  72.672406  61.355268  13.990  35.7625  58.455  94.00   \n",
       "1          357.0  21.135148   8.843472   6.802  15.2600  19.630  25.03   \n",
       "\n",
       "              compactness error            ...   worst symmetry          \\\n",
       "          max             count      mean  ...              75%     max   \n",
       "class                                      ...                            \n",
       "0      542.20             212.0  0.032281  ...         0.359225  0.6638   \n",
       "1       77.11             357.0  0.021438  ...         0.298300  0.4228   \n",
       "\n",
       "      worst texture                                                             \n",
       "              count       mean       std    min      25%     50%    75%    max  \n",
       "class                                                                           \n",
       "0             212.0  29.318208  5.434804  16.67  25.7825  28.945  32.69  49.54  \n",
       "1             357.0  23.515070  5.493955  12.02  19.5800  22.820  26.51  41.78  \n",
       "\n",
       "[2 rows x 240 columns]"
      ]
     },
     "execution_count": 138,
     "metadata": {
      "tags": []
     },
     "output_type": "execute_result"
    }
   ],
   "source": [
    "data.groupby(\"class\").describe()"
   ]
  },
  {
   "cell_type": "code",
   "execution_count": 0,
   "metadata": {
    "colab": {},
    "colab_type": "code",
    "id": "pyeQJJXjiRbH"
   },
   "outputs": [],
   "source": []
  },
  {
   "cell_type": "code",
   "execution_count": 0,
   "metadata": {
    "colab": {},
    "colab_type": "code",
    "id": "HPnsnoMji5WA"
   },
   "outputs": [],
   "source": []
  },
  {
   "cell_type": "code",
   "execution_count": 0,
   "metadata": {
    "colab": {},
    "colab_type": "code",
    "id": "kLAlE52ci5Eo"
   },
   "outputs": [],
   "source": []
  },
  {
   "cell_type": "markdown",
   "metadata": {
    "colab_type": "text",
    "id": "bw1X-kC7i6en"
   },
   "source": [
    "## Train-Test Split"
   ]
  },
  {
   "cell_type": "code",
   "execution_count": 0,
   "metadata": {
    "colab": {},
    "colab_type": "code",
    "id": "WdBj8CtgjC_7"
   },
   "outputs": [],
   "source": [
    "from sklearn.model_selection import train_test_split"
   ]
  },
  {
   "cell_type": "code",
   "execution_count": 140,
   "metadata": {
    "colab": {
     "base_uri": "https://localhost:8080/",
     "height": 34
    },
    "colab_type": "code",
    "id": "OxDnWhE-jyeN",
    "outputId": "f20e35f0-0a2c-42fc-870e-76c9f464759b"
   },
   "outputs": [
    {
     "data": {
      "text/plain": [
       "(569, 31)"
      ]
     },
     "execution_count": 140,
     "metadata": {
      "tags": []
     },
     "output_type": "execute_result"
    }
   ],
   "source": [
    "data.shape"
   ]
  },
  {
   "cell_type": "code",
   "execution_count": 0,
   "metadata": {
    "colab": {},
    "colab_type": "code",
    "id": "1gBky3adjjPP"
   },
   "outputs": [],
   "source": [
    "# drop the class column from the data\n",
    "# column--->axis=1,     row--->axis=0\n",
    "X = data.drop(\"class\", axis=1)\n",
    "Y = data[\"class\"]"
   ]
  },
  {
   "cell_type": "code",
   "execution_count": 142,
   "metadata": {
    "colab": {
     "base_uri": "https://localhost:8080/",
     "height": 67
    },
    "colab_type": "code",
    "id": "kUC518Q4kCb9",
    "outputId": "c22b07f0-489b-47cc-84db-90eb5c1ae915"
   },
   "outputs": [
    {
     "name": "stdout",
     "output_type": "stream",
     "text": [
      "data shape is: (569, 31)\n",
      "X shape is: (569, 30)\n",
      "Y shape is: (569,)\n"
     ]
    }
   ],
   "source": [
    "print(\"data shape is:\", data.shape)\n",
    "print(\"X shape is:\", X.shape)\n",
    "print(\"Y shape is:\", Y.shape)"
   ]
  },
  {
   "cell_type": "code",
   "execution_count": 143,
   "metadata": {
    "colab": {
     "base_uri": "https://localhost:8080/",
     "height": 34
    },
    "colab_type": "code",
    "id": "QrYSKY1ykGWp",
    "outputId": "30ac7669-2c7f-4905-873f-f3ce85694b23"
   },
   "outputs": [
    {
     "data": {
      "text/plain": [
       "False"
      ]
     },
     "execution_count": 143,
     "metadata": {
      "tags": []
     },
     "output_type": "execute_result"
    }
   ],
   "source": [
    "Y is breast_cancer.target"
   ]
  },
  {
   "cell_type": "code",
   "execution_count": 0,
   "metadata": {
    "colab": {},
    "colab_type": "code",
    "id": "N5uPeCuJklVt"
   },
   "outputs": [],
   "source": [
    "Y == breast_cancer.target"
   ]
  },
  {
   "cell_type": "code",
   "execution_count": 145,
   "metadata": {
    "colab": {
     "base_uri": "https://localhost:8080/",
     "height": 34
    },
    "colab_type": "code",
    "id": "xL4bRbWLksVG",
    "outputId": "0bbef850-544a-4ed7-80b2-3423e48aa8d3"
   },
   "outputs": [
    {
     "data": {
      "text/plain": [
       "(pandas.core.frame.DataFrame, pandas.core.series.Series)"
      ]
     },
     "execution_count": 145,
     "metadata": {
      "tags": []
     },
     "output_type": "execute_result"
    }
   ],
   "source": [
    "type(X),type(Y)"
   ]
  },
  {
   "cell_type": "code",
   "execution_count": 0,
   "metadata": {
    "colab": {},
    "colab_type": "code",
    "id": "pPPSITaElEJj"
   },
   "outputs": [],
   "source": [
    "# split the data of X and Y in test and train data\n",
    "X_train, X_test, Y_train, Y_test = train_test_split(X, Y)\n",
    "# it will be nearly in 80:20 ratio"
   ]
  },
  {
   "cell_type": "code",
   "execution_count": 147,
   "metadata": {
    "colab": {
     "base_uri": "https://localhost:8080/",
     "height": 34
    },
    "colab_type": "code",
    "id": "eHPNzD0JlhvP",
    "outputId": "3c5f2321-9fdd-463a-cf93-d02753abb695"
   },
   "outputs": [
    {
     "name": "stdout",
     "output_type": "stream",
     "text": [
      "shape of X is (569, 30) ,X_train is (426, 30), X_test is (143, 30)\n"
     ]
    }
   ],
   "source": [
    "print(\"shape of X is {} ,X_train is {}, X_test is {}\".format(X.shape, X_train.shape,X_test.shape))"
   ]
  },
  {
   "cell_type": "code",
   "execution_count": 148,
   "metadata": {
    "colab": {
     "base_uri": "https://localhost:8080/",
     "height": 34
    },
    "colab_type": "code",
    "id": "K_GdEIzkl2jH",
    "outputId": "095c2b89-8f65-492c-88a5-e3c2443a0181"
   },
   "outputs": [
    {
     "name": "stdout",
     "output_type": "stream",
     "text": [
      "shape of X is (569, 30) ,X_train is (512, 30), X_test is (57, 30)\n"
     ]
    }
   ],
   "source": [
    "# split the data of X and Y in test and train data in 90:10 ratio\n",
    "X_train, X_test, Y_train, Y_test = train_test_split(X, Y, test_size=0.1)\n",
    "print(\"shape of X is {} ,X_train is {}, X_test is {}\".format(X.shape, X_train.shape,X_test.shape))"
   ]
  },
  {
   "cell_type": "code",
   "execution_count": 149,
   "metadata": {
    "colab": {
     "base_uri": "https://localhost:8080/",
     "height": 34
    },
    "colab_type": "code",
    "id": "VYHMrYL7mrKW",
    "outputId": "cce6bb8c-1c47-432a-b593-c954c3bb3a05"
   },
   "outputs": [
    {
     "name": "stdout",
     "output_type": "stream",
     "text": [
      "0.6274165202108963 0.6328125 0.5789473684210527\n"
     ]
    }
   ],
   "source": [
    "print(Y.mean(),Y_train.mean(), Y_test.mean())\n",
    "#here all the three re different hence the data is divided in arbitrary way."
   ]
  },
  {
   "cell_type": "code",
   "execution_count": 0,
   "metadata": {
    "colab": {},
    "colab_type": "code",
    "id": "bRtAXdGanEcu"
   },
   "outputs": [],
   "source": [
    "# but if we want to divide the data in same ratio\n",
    "# split the data of X and Y in test and train data in 90:10 ratio\n",
    "X_train, X_test, Y_train, Y_test = train_test_split(X, Y, test_size=0.1, stratify=Y)\n",
    "print(\"shape of X is {} ,X_train is {}, X_test is {}\".format(X.shape, X_train.shape,X_test.shape))\n",
    "print(Y.mean(),Y_train.mean(), Y_test.mean())\n",
    "print()\n",
    "print(\"every time we run thiswe get different datsets i.e. different mean\")\n",
    "print(X.mean(), X_train.mean(), X_test.mean())"
   ]
  },
  {
   "cell_type": "code",
   "execution_count": 151,
   "metadata": {
    "colab": {
     "base_uri": "https://localhost:8080/",
     "height": 1596
    },
    "colab_type": "code",
    "id": "dvf4dfOGpPhi",
    "outputId": "495c08d4-b82a-485e-9c68-938dada0f90d"
   },
   "outputs": [
    {
     "name": "stdout",
     "output_type": "stream",
     "text": [
      "shape of X is (569, 30) ,X_train is (512, 30), X_test is (57, 30)\n",
      "0.6274165202108963 0.626953125 0.631578947368421\n",
      "\n",
      "mean radius                 14.127292\n",
      "mean texture                19.289649\n",
      "mean perimeter              91.969033\n",
      "mean area                  654.889104\n",
      "mean smoothness              0.096360\n",
      "mean compactness             0.104341\n",
      "mean concavity               0.088799\n",
      "mean concave points          0.048919\n",
      "mean symmetry                0.181162\n",
      "mean fractal dimension       0.062798\n",
      "radius error                 0.405172\n",
      "texture error                1.216853\n",
      "perimeter error              2.866059\n",
      "area error                  40.337079\n",
      "smoothness error             0.007041\n",
      "compactness error            0.025478\n",
      "concavity error              0.031894\n",
      "concave points error         0.011796\n",
      "symmetry error               0.020542\n",
      "fractal dimension error      0.003795\n",
      "worst radius                16.269190\n",
      "worst texture               25.677223\n",
      "worst perimeter            107.261213\n",
      "worst area                 880.583128\n",
      "worst smoothness             0.132369\n",
      "worst compactness            0.254265\n",
      "worst concavity              0.272188\n",
      "worst concave points         0.114606\n",
      "worst symmetry               0.290076\n",
      "worst fractal dimension      0.083946\n",
      "dtype: float64 mean radius                 14.058656\n",
      "mean texture                19.309668\n",
      "mean perimeter              91.530488\n",
      "mean area                  648.097266\n",
      "mean smoothness              0.096568\n",
      "mean compactness             0.105144\n",
      "mean concavity               0.089342\n",
      "mean concave points          0.048892\n",
      "mean symmetry                0.181961\n",
      "mean fractal dimension       0.062979\n",
      "radius error                 0.403659\n",
      "texture error                1.206856\n",
      "perimeter error              2.861173\n",
      "area error                  39.935506\n",
      "smoothness error             0.007067\n",
      "compactness error            0.025681\n",
      "concavity error              0.032328\n",
      "concave points error         0.011963\n",
      "symmetry error               0.020584\n",
      "fractal dimension error      0.003815\n",
      "worst radius                16.194275\n",
      "worst texture               25.644902\n",
      "worst perimeter            106.757715\n",
      "worst area                 871.647852\n",
      "worst smoothness             0.132592\n",
      "worst compactness            0.257415\n",
      "worst concavity              0.275623\n",
      "worst concave points         0.115454\n",
      "worst symmetry               0.291562\n",
      "worst fractal dimension      0.084402\n",
      "dtype: float64 mean radius                 14.743807\n",
      "mean texture                19.109825\n",
      "mean perimeter              95.908246\n",
      "mean area                  715.896491\n",
      "mean smoothness              0.094496\n",
      "mean compactness             0.097130\n",
      "mean concavity               0.083923\n",
      "mean concave points          0.049159\n",
      "mean symmetry                0.173981\n",
      "mean fractal dimension       0.061169\n",
      "radius error                 0.418767\n",
      "texture error                1.306656\n",
      "perimeter error              2.909946\n",
      "area error                  43.944193\n",
      "smoothness error             0.006809\n",
      "compactness error            0.023659\n",
      "concavity error              0.027989\n",
      "concave points error         0.010293\n",
      "symmetry error               0.020169\n",
      "fractal dimension error      0.003618\n",
      "worst radius                16.942105\n",
      "worst texture               25.967544\n",
      "worst perimeter            111.783860\n",
      "worst area                 960.843860\n",
      "worst smoothness             0.130357\n",
      "worst compactness            0.225973\n",
      "worst concavity              0.241340\n",
      "worst concave points         0.106994\n",
      "worst symmetry               0.276719\n",
      "worst fractal dimension      0.079852\n",
      "dtype: float64\n"
     ]
    }
   ],
   "source": [
    "# but if we want to divide the data in same ratio\n",
    "# split the data of X and Y in test and train data in 90:10 ratio\n",
    "X_train, X_test, Y_train, Y_test = train_test_split(X, Y, test_size=0.1, stratify=Y, random_state=1)\n",
    "print(\"shape of X is {} ,X_train is {}, X_test is {}\".format(X.shape, X_train.shape,X_test.shape))\n",
    "print(Y.mean(),Y_train.mean(), Y_test.mean())\n",
    "print()\n",
    "#same mean each time,,, see the changes\n",
    "print(X.mean(), X_train.mean(), X_test.mean())"
   ]
  },
  {
   "cell_type": "markdown",
   "metadata": {
    "colab_type": "text",
    "id": "u7QMOuvlrH1y"
   },
   "source": [
    "divide data in a fair way here.\n",
    "*  but if we want to divide the data in same ratio\n",
    "* split the data of X and Y in test and train data in 90:10 ratio.\n",
    "\n",
    "X_train, X_test, Y_train, Y_test = train_test_split(X, Y, test_size=0.1, stratify=Y, random_state=1)\n",
    "print(\"shape of X is {} ,X_train is {}, X_test is {}\".format(X.shape, X_train.shape,X_test.shape))\n",
    "print(Y.mean(),Y_train.mean(), Y_test.mean())\n",
    "print()\n",
    "* same mean each time,,, see the changes\n",
    "print(X.mean(), X_train.mean(), X_test.mean())"
   ]
  },
  {
   "cell_type": "code",
   "execution_count": 0,
   "metadata": {
    "colab": {},
    "colab_type": "code",
    "id": "ZHJqVBWGpivv"
   },
   "outputs": [],
   "source": []
  },
  {
   "cell_type": "code",
   "execution_count": 0,
   "metadata": {
    "colab": {},
    "colab_type": "code",
    "id": "TjdzQLL3reXd"
   },
   "outputs": [],
   "source": []
  },
  {
   "cell_type": "code",
   "execution_count": 0,
   "metadata": {
    "colab": {},
    "colab_type": "code",
    "id": "NU8OMjmyreJn"
   },
   "outputs": [],
   "source": []
  },
  {
   "cell_type": "markdown",
   "metadata": {
    "colab_type": "text",
    "id": "9QOupOWcrfdM"
   },
   "source": [
    "## Binarisation of input"
   ]
  },
  {
   "cell_type": "code",
   "execution_count": 0,
   "metadata": {
    "colab": {},
    "colab_type": "code",
    "id": "QdDARWp_rmzH"
   },
   "outputs": [],
   "source": [
    "import matplotlib.pyplot as plt"
   ]
  },
  {
   "cell_type": "code",
   "execution_count": 153,
   "metadata": {
    "colab": {
     "base_uri": "https://localhost:8080/",
     "height": 6384
    },
    "colab_type": "code",
    "id": "mkYgJgjmsgjg",
    "outputId": "c32c574e-7b8d-49ad-c339-60940b962cbe"
   },
   "outputs": [
    {
     "name": "stdout",
     "output_type": "stream",
     "text": [
      "     mean radius  mean texture  mean perimeter  mean area  mean smoothness  \\\n",
      "430       14.900         22.53          102.10      685.0          0.09947   \n",
      "48        12.050         14.63           78.04      449.3          0.10310   \n",
      "105       13.110         15.56           87.21      530.2          0.13980   \n",
      "467        9.668         18.10           61.06      286.3          0.08311   \n",
      "547       10.260         16.58           65.85      320.8          0.08877   \n",
      "365       20.440         21.78          133.80     1293.0          0.09150   \n",
      "295       13.770         13.27           88.06      582.7          0.09198   \n",
      "567       20.600         29.33          140.10     1265.0          0.11780   \n",
      "297       11.760         18.14           75.00      431.1          0.09968   \n",
      "172       15.460         11.89          102.50      736.9          0.12570   \n",
      "506       12.220         20.04           79.47      453.1          0.10960   \n",
      "488       11.680         16.17           75.49      420.5          0.11280   \n",
      "115       11.930         21.53           76.53      438.6          0.09768   \n",
      "466       13.140         20.74           85.98      536.9          0.08675   \n",
      "218       19.800         21.56          129.70     1230.0          0.09383   \n",
      "74        12.310         16.52           79.19      470.9          0.09172   \n",
      "461       27.420         26.27          186.90     2501.0          0.10840   \n",
      "484       15.730         11.28          102.80      747.2          0.10430   \n",
      "79        12.860         18.00           83.19      506.3          0.09934   \n",
      "226       10.440         15.46           66.62      329.6          0.10530   \n",
      "37        13.030         18.42           82.61      523.8          0.08983   \n",
      "44        13.170         21.81           85.42      531.5          0.09714   \n",
      "324       12.200         15.21           78.01      457.9          0.08673   \n",
      "13        15.850         23.95          103.70      782.7          0.08401   \n",
      "277       18.810         19.98          120.90     1102.0          0.08923   \n",
      "134       18.450         21.91          120.20     1075.0          0.09430   \n",
      "83        19.100         26.29          129.10     1132.0          0.12150   \n",
      "153       11.150         13.08           70.87      381.9          0.09754   \n",
      "327       12.030         17.93           76.09      446.0          0.07683   \n",
      "68         9.029         17.33           58.79      250.5          0.10660   \n",
      "..           ...           ...             ...        ...              ...   \n",
      "486       14.640         16.85           94.21      666.0          0.08641   \n",
      "207       17.010         20.26          109.70      904.3          0.08772   \n",
      "357       13.870         16.21           88.52      593.7          0.08743   \n",
      "409       12.270         17.92           78.41      466.1          0.08685   \n",
      "211       11.840         18.94           75.51      428.0          0.08871   \n",
      "289       11.370         18.89           72.17      396.0          0.08713   \n",
      "11        15.780         17.89          103.60      781.0          0.09710   \n",
      "53        18.220         18.70          120.30     1033.0          0.11480   \n",
      "86        14.480         21.46           94.25      648.2          0.09444   \n",
      "266       10.600         18.95           69.28      346.4          0.09688   \n",
      "398       11.060         14.83           70.31      378.2          0.07741   \n",
      "77        18.050         16.15          120.20     1006.0          0.10650   \n",
      "125       13.850         17.21           88.44      588.7          0.08785   \n",
      "537       11.690         24.44           76.37      406.4          0.12360   \n",
      "532       13.680         16.33           87.76      575.5          0.09277   \n",
      "472       14.920         14.93           96.45      686.9          0.08098   \n",
      "259       15.530         33.56          103.70      744.9          0.10630   \n",
      "227       15.000         15.51           97.45      684.5          0.08371   \n",
      "476       14.200         20.53           92.41      618.4          0.08931   \n",
      "453       14.530         13.98           93.86      644.2          0.10990   \n",
      "33        19.270         26.47          127.90     1162.0          0.09401   \n",
      "65        14.780         23.94           97.40      668.3          0.11720   \n",
      "188       11.810         17.39           75.27      428.9          0.10070   \n",
      "479       16.250         19.51          109.80      815.8          0.10260   \n",
      "509       15.460         23.95          103.80      731.3          0.11830   \n",
      "201       17.540         19.32          115.10      951.6          0.08968   \n",
      "183       11.410         14.92           73.53      402.0          0.09059   \n",
      "285       12.580         18.40           79.83      489.0          0.08393   \n",
      "49        13.490         22.30           86.91      561.0          0.08752   \n",
      "161       19.190         15.94          126.30     1157.0          0.08694   \n",
      "\n",
      "     mean compactness  mean concavity  mean concave points  mean symmetry  \\\n",
      "430           0.22250        0.273300             0.097110         0.2041   \n",
      "48            0.09092        0.065920             0.027490         0.1675   \n",
      "105           0.17650        0.207100             0.096010         0.1925   \n",
      "467           0.05428        0.014790             0.005769         0.1680   \n",
      "547           0.08066        0.043580             0.024380         0.1669   \n",
      "365           0.11310        0.097990             0.077850         0.1618   \n",
      "295           0.06221        0.010630             0.019170         0.1592   \n",
      "567           0.27700        0.351400             0.152000         0.2397   \n",
      "297           0.05914        0.026850             0.035150         0.1619   \n",
      "172           0.15550        0.203200             0.109700         0.1966   \n",
      "506           0.11520        0.081750             0.021660         0.2124   \n",
      "488           0.09263        0.042790             0.031320         0.1853   \n",
      "115           0.07849        0.033280             0.020080         0.1688   \n",
      "466           0.10890        0.108500             0.035100         0.1562   \n",
      "218           0.13060        0.127200             0.086910         0.2094   \n",
      "74            0.06829        0.033720             0.022720         0.1720   \n",
      "461           0.19880        0.363500             0.168900         0.2061   \n",
      "484           0.12990        0.119100             0.062110         0.1784   \n",
      "79            0.09546        0.038890             0.023150         0.1718   \n",
      "226           0.07722        0.006643             0.012160         0.1788   \n",
      "37            0.03766        0.025620             0.029230         0.1467   \n",
      "44            0.10470        0.082590             0.052520         0.1746   \n",
      "324           0.06545        0.019940             0.016920         0.1638   \n",
      "13            0.10020        0.099380             0.053640         0.1847   \n",
      "277           0.05884        0.080200             0.058430         0.1550   \n",
      "134           0.09709        0.115300             0.068470         0.1692   \n",
      "83            0.17910        0.193700             0.146900         0.1634   \n",
      "153           0.05113        0.019820             0.017860         0.1830   \n",
      "327           0.03892        0.001546             0.005592         0.1382   \n",
      "68            0.14130        0.313000             0.043750         0.2111   \n",
      "..                ...             ...                  ...            ...   \n",
      "486           0.06698        0.051920             0.027910         0.1409   \n",
      "207           0.07304        0.069500             0.053900         0.2026   \n",
      "357           0.05492        0.015020             0.020880         0.1424   \n",
      "409           0.06526        0.032110             0.026530         0.1966   \n",
      "211           0.06900        0.026690             0.013930         0.1533   \n",
      "289           0.05008        0.023990             0.021730         0.2013   \n",
      "11            0.12920        0.099540             0.066060         0.1842   \n",
      "53            0.14850        0.177200             0.106000         0.2092   \n",
      "86            0.09947        0.120400             0.049380         0.2075   \n",
      "266           0.11470        0.063870             0.026420         0.1922   \n",
      "398           0.04768        0.027120             0.007246         0.1535   \n",
      "77            0.21460        0.168400             0.108000         0.2152   \n",
      "125           0.06136        0.014200             0.011410         0.1614   \n",
      "537           0.15520        0.045150             0.045310         0.2131   \n",
      "532           0.07255        0.017520             0.018800         0.1631   \n",
      "472           0.08549        0.055390             0.032210         0.1687   \n",
      "259           0.16390        0.175100             0.083990         0.2091   \n",
      "227           0.10960        0.065050             0.037800         0.1881   \n",
      "476           0.11080        0.050630             0.030580         0.1506   \n",
      "453           0.09242        0.068950             0.064950         0.1650   \n",
      "33            0.17190        0.165700             0.075930         0.1853   \n",
      "65            0.14790        0.126700             0.090290         0.1953   \n",
      "188           0.05562        0.023530             0.015530         0.1718   \n",
      "479           0.18930        0.223600             0.091940         0.2151   \n",
      "509           0.18700        0.203000             0.085200         0.1807   \n",
      "201           0.11980        0.103600             0.074880         0.1506   \n",
      "183           0.08155        0.061810             0.023610         0.1167   \n",
      "285           0.04216        0.001860             0.002924         0.1697   \n",
      "49            0.07698        0.047510             0.033840         0.1809   \n",
      "161           0.11850        0.119300             0.096670         0.1741   \n",
      "\n",
      "     mean fractal dimension           ...             worst radius  \\\n",
      "430                 0.06898           ...                    16.35   \n",
      "48                  0.06043           ...                    13.76   \n",
      "105                 0.07692           ...                    16.31   \n",
      "467                 0.06412           ...                    11.15   \n",
      "547                 0.06714           ...                    10.83   \n",
      "365                 0.05557           ...                    24.31   \n",
      "295                 0.05912           ...                    14.67   \n",
      "567                 0.07016           ...                    25.74   \n",
      "297                 0.06287           ...                    13.36   \n",
      "172                 0.07069           ...                    18.79   \n",
      "506                 0.06894           ...                    13.16   \n",
      "488                 0.06401           ...                    13.32   \n",
      "115                 0.06194           ...                    13.67   \n",
      "466                 0.06020           ...                    14.80   \n",
      "218                 0.05581           ...                    25.73   \n",
      "74                  0.05914           ...                    14.11   \n",
      "461                 0.05623           ...                    36.04   \n",
      "484                 0.06259           ...                    17.01   \n",
      "79                  0.05997           ...                    14.24   \n",
      "226                 0.06450           ...                    11.52   \n",
      "37                  0.05863           ...                    13.30   \n",
      "44                  0.06177           ...                    16.23   \n",
      "324                 0.06129           ...                    13.75   \n",
      "13                  0.05338           ...                    16.84   \n",
      "277                 0.04996           ...                    19.96   \n",
      "134                 0.05727           ...                    22.52   \n",
      "83                  0.07224           ...                    20.33   \n",
      "153                 0.06105           ...                    11.99   \n",
      "327                 0.06070           ...                    13.07   \n",
      "68                  0.08046           ...                    10.31   \n",
      "..                      ...           ...                      ...   \n",
      "486                 0.05355           ...                    16.46   \n",
      "207                 0.05223           ...                    19.80   \n",
      "357                 0.05883           ...                    15.11   \n",
      "409                 0.05597           ...                    14.10   \n",
      "211                 0.06057           ...                    13.30   \n",
      "289                 0.05955           ...                    12.36   \n",
      "11                  0.06082           ...                    20.42   \n",
      "53                  0.06310           ...                    20.60   \n",
      "86                  0.05636           ...                    16.21   \n",
      "266                 0.06491           ...                    11.88   \n",
      "398                 0.06214           ...                    12.68   \n",
      "77                  0.06673           ...                    22.39   \n",
      "125                 0.05890           ...                    15.49   \n",
      "537                 0.07405           ...                    12.98   \n",
      "532                 0.06155           ...                    15.85   \n",
      "472                 0.05669           ...                    17.18   \n",
      "259                 0.06650           ...                    18.49   \n",
      "227                 0.05907           ...                    16.41   \n",
      "476                 0.06009           ...                    16.45   \n",
      "453                 0.06121           ...                    15.80   \n",
      "33                  0.06261           ...                    24.15   \n",
      "65                  0.06654           ...                    17.31   \n",
      "188                 0.05780           ...                    12.57   \n",
      "479                 0.06578           ...                    17.39   \n",
      "509                 0.07083           ...                    17.11   \n",
      "201                 0.05491           ...                    20.42   \n",
      "183                 0.06217           ...                    12.37   \n",
      "285                 0.05855           ...                    13.50   \n",
      "49                  0.05718           ...                    15.15   \n",
      "161                 0.05176           ...                    22.03   \n",
      "\n",
      "     worst texture  worst perimeter  worst area  worst smoothness  \\\n",
      "430          27.57           125.40       832.7           0.14190   \n",
      "48           20.70            89.88       582.6           0.14940   \n",
      "105          22.40           106.40       827.2           0.18620   \n",
      "467          24.62            71.11       380.2           0.13880   \n",
      "547          22.04            71.08       357.4           0.14610   \n",
      "365          26.37           161.20      1780.0           0.13270   \n",
      "295          16.93            94.17       661.1           0.11700   \n",
      "567          39.42           184.60      1821.0           0.16500   \n",
      "297          23.39            85.10       553.6           0.11370   \n",
      "172          17.04           125.00      1102.0           0.15310   \n",
      "506          24.17            85.13       515.3           0.14020   \n",
      "488          21.59            86.57       549.8           0.15260   \n",
      "115          26.15            87.54       583.0           0.15000   \n",
      "466          25.46           100.90       689.1           0.13510   \n",
      "218          28.64           170.30      2009.0           0.13530   \n",
      "74           23.21            89.71       611.1           0.11760   \n",
      "461          31.37           251.20      4254.0           0.13570   \n",
      "484          14.20           112.50       854.3           0.15410   \n",
      "79           24.82            91.88       622.1           0.12890   \n",
      "226          19.80            73.47       395.4           0.13410   \n",
      "37           22.81            84.46       545.9           0.09701   \n",
      "44           29.89           105.50       740.7           0.15030   \n",
      "324          21.38            91.11       583.1           0.12560   \n",
      "13           27.66           112.00       876.5           0.11310   \n",
      "277          24.30           129.00      1236.0           0.12430   \n",
      "134          31.39           145.60      1590.0           0.14650   \n",
      "83           32.72           141.30      1298.0           0.13920   \n",
      "153          16.30            76.25       440.8           0.13410   \n",
      "327          22.25            82.74       523.4           0.10130   \n",
      "68           22.65            65.50       324.7           0.14820   \n",
      "..             ...              ...         ...               ...   \n",
      "486          25.44           106.00       831.0           0.11420   \n",
      "207          25.05           130.00      1210.0           0.11110   \n",
      "357          25.58            96.74       694.4           0.11530   \n",
      "409          28.88            89.00       610.2           0.12400   \n",
      "211          24.99            85.22       546.3           0.12800   \n",
      "289          26.14            79.29       459.3           0.11180   \n",
      "11           27.28           136.50      1299.0           0.13960   \n",
      "53           24.13           135.10      1321.0           0.12800   \n",
      "86           29.25           108.40       808.9           0.13060   \n",
      "266          22.94            78.28       424.8           0.12130   \n",
      "398          20.35            80.79       496.7           0.11200   \n",
      "77           18.91           150.10      1610.0           0.14780   \n",
      "125          23.58           100.30       725.9           0.11570   \n",
      "537          32.19            86.12       487.7           0.17680   \n",
      "532          20.20           101.60       773.4           0.12640   \n",
      "472          18.22           112.00       906.6           0.10650   \n",
      "259          49.54           126.30      1035.0           0.18830   \n",
      "227          19.31           114.20       808.2           0.11360   \n",
      "476          27.26           112.10       828.5           0.11530   \n",
      "453          16.93           103.10       749.9           0.13470   \n",
      "33           30.90           161.40      1813.0           0.15090   \n",
      "65           33.39           114.60       925.1           0.16480   \n",
      "188          26.48            79.57       489.5           0.13560   \n",
      "479          23.05           122.10       939.7           0.13770   \n",
      "509          36.33           117.70       909.4           0.17320   \n",
      "201          25.84           139.50      1239.0           0.13810   \n",
      "183          17.70            79.12       467.2           0.11210   \n",
      "285          23.08            85.56       564.1           0.10380   \n",
      "49           31.82            99.00       698.8           0.11620   \n",
      "161          17.81           146.60      1495.0           0.11240   \n",
      "\n",
      "     worst compactness  worst concavity  worst concave points  worst symmetry  \\\n",
      "430            0.70900         0.901900              0.247500          0.2866   \n",
      "48             0.21560         0.305000              0.065480          0.2747   \n",
      "105            0.40990         0.637600              0.198600          0.3147   \n",
      "467            0.12550         0.064090              0.025000          0.3057   \n",
      "547            0.22460         0.178300              0.083330          0.2691   \n",
      "365            0.23760         0.270200              0.176500          0.2609   \n",
      "295            0.10720         0.037320              0.058020          0.2823   \n",
      "567            0.86810         0.938700              0.265000          0.4087   \n",
      "297            0.07974         0.061200              0.071600          0.1978   \n",
      "172            0.35830         0.583000              0.182700          0.3216   \n",
      "506            0.23150         0.353500              0.080880          0.2709   \n",
      "488            0.14770         0.149000              0.098150          0.2804   \n",
      "115            0.23990         0.150300              0.072470          0.2438   \n",
      "466            0.35490         0.450400              0.118100          0.2563   \n",
      "218            0.32350         0.361700              0.182000          0.3070   \n",
      "74             0.18430         0.170300              0.086600          0.2618   \n",
      "461            0.42560         0.683300              0.262500          0.2641   \n",
      "484            0.29790         0.400400              0.145200          0.2557   \n",
      "79             0.21410         0.173100              0.079260          0.2779   \n",
      "226            0.11530         0.026390              0.044640          0.2615   \n",
      "37             0.04619         0.048330              0.050130          0.1987   \n",
      "44             0.39040         0.372800              0.160700          0.3693   \n",
      "324            0.19280         0.116700              0.055560          0.2661   \n",
      "13             0.19240         0.232200              0.111900          0.2809   \n",
      "277            0.11600         0.221000              0.129400          0.2567   \n",
      "134            0.22750         0.396500              0.137900          0.3109   \n",
      "83             0.28170         0.243200              0.184100          0.2311   \n",
      "153            0.08971         0.071160              0.055060          0.2859   \n",
      "327            0.07390         0.007732              0.027960          0.2171   \n",
      "68             0.43650         1.252000              0.175000          0.4228   \n",
      "..                 ...              ...                   ...             ...   \n",
      "486            0.20700         0.243700              0.078280          0.2455   \n",
      "207            0.14860         0.193200              0.109600          0.3275   \n",
      "357            0.10080         0.052850              0.055560          0.2362   \n",
      "409            0.17950         0.137700              0.095320          0.3455   \n",
      "211            0.18800         0.147100              0.069130          0.2535   \n",
      "289            0.09708         0.075290              0.062030          0.3267   \n",
      "11             0.56090         0.396500              0.181000          0.3792   \n",
      "53             0.22970         0.262300              0.132500          0.3021   \n",
      "86             0.19760         0.334900              0.122500          0.3020   \n",
      "266            0.25150         0.191600              0.079260          0.2940   \n",
      "398            0.18790         0.207900              0.055560          0.2590   \n",
      "77             0.56340         0.378600              0.210200          0.3751   \n",
      "125            0.13500         0.081150              0.051040          0.2364   \n",
      "537            0.32510         0.139500              0.130800          0.2803   \n",
      "532            0.15640         0.120600              0.087040          0.2806   \n",
      "472            0.27910         0.315100              0.114700          0.2688   \n",
      "259            0.55640         0.570300              0.201400          0.3512   \n",
      "227            0.36270         0.340200              0.137900          0.2954   \n",
      "476            0.34290         0.251200              0.133900          0.2534   \n",
      "453            0.14780         0.137300              0.106900          0.2606   \n",
      "33             0.65900         0.609100              0.178500          0.3672   \n",
      "65             0.34160         0.302400              0.161400          0.3321   \n",
      "188            0.10000         0.088030              0.043060          0.3200   \n",
      "479            0.44620         0.589700              0.177500          0.3318   \n",
      "509            0.49670         0.591100              0.216300          0.3013   \n",
      "201            0.34200         0.350800              0.193900          0.2928   \n",
      "183            0.16100         0.164800              0.062960          0.1811   \n",
      "285            0.06624         0.005579              0.008772          0.2505   \n",
      "49             0.17110         0.228200              0.128200          0.2871   \n",
      "161            0.20160         0.226400              0.177700          0.2443   \n",
      "\n",
      "     worst fractal dimension  \n",
      "430                  0.11550  \n",
      "48                   0.08301  \n",
      "105                  0.14050  \n",
      "467                  0.07875  \n",
      "547                  0.09479  \n",
      "365                  0.06735  \n",
      "295                  0.06794  \n",
      "567                  0.12400  \n",
      "297                  0.06915  \n",
      "172                  0.10100  \n",
      "506                  0.08839  \n",
      "488                  0.08024  \n",
      "115                  0.08541  \n",
      "466                  0.08174  \n",
      "218                  0.08255  \n",
      "74                   0.07609  \n",
      "461                  0.07427  \n",
      "484                  0.08181  \n",
      "79                   0.07918  \n",
      "226                  0.08269  \n",
      "37                   0.06169  \n",
      "44                   0.09618  \n",
      "324                  0.07961  \n",
      "13                   0.06287  \n",
      "277                  0.05737  \n",
      "134                  0.07610  \n",
      "83                   0.09203  \n",
      "153                  0.06772  \n",
      "327                  0.07037  \n",
      "68                   0.11750  \n",
      "..                       ...  \n",
      "486                  0.06596  \n",
      "207                  0.06469  \n",
      "357                  0.07113  \n",
      "409                  0.06896  \n",
      "211                  0.07993  \n",
      "289                  0.06994  \n",
      "11                   0.10480  \n",
      "53                   0.07987  \n",
      "86                   0.06846  \n",
      "266                  0.07587  \n",
      "398                  0.09158  \n",
      "77                   0.11080  \n",
      "125                  0.07182  \n",
      "537                  0.09970  \n",
      "532                  0.07782  \n",
      "472                  0.08273  \n",
      "259                  0.12040  \n",
      "227                  0.08362  \n",
      "476                  0.07858  \n",
      "453                  0.07810  \n",
      "33                   0.11230  \n",
      "65                   0.08911  \n",
      "188                  0.06576  \n",
      "479                  0.09136  \n",
      "509                  0.10670  \n",
      "201                  0.07867  \n",
      "183                  0.07427  \n",
      "285                  0.06431  \n",
      "49                   0.06917  \n",
      "161                  0.06251  \n",
      "\n",
      "[512 rows x 30 columns]\n"
     ]
    }
   ],
   "source": [
    "print(X_train)"
   ]
  },
  {
   "cell_type": "code",
   "execution_count": 154,
   "metadata": {
    "colab": {
     "base_uri": "https://localhost:8080/",
     "height": 347
    },
    "colab_type": "code",
    "id": "hPwpkcDvsSwd",
    "outputId": "71e92c55-e0f4-4f40-e93c-1e6ff2410e2c"
   },
   "outputs": [
    {
     "data": {
      "image/png": "[encoded data removed]",
      "text/plain": [
       "<Figure size 576x396 with 1 Axes>"
      ]
     },
     "metadata": {
      "tags": []
     },
     "output_type": "display_data"
    }
   ],
   "source": [
    "plt.plot(X_train, '*')\n",
    "plt.show()"
   ]
  },
  {
   "cell_type": "code",
   "execution_count": 155,
   "metadata": {
    "colab": {
     "base_uri": "https://localhost:8080/",
     "height": 347
    },
    "colab_type": "code",
    "id": "16jj4pCVsaLo",
    "outputId": "9d999f60-c28d-4d02-b73a-49ffe9a1e627"
   },
   "outputs": [
    {
     "data": {
      "image/png": "[encoded data removed]",
      "text/plain": [
       "<Figure size 576x396 with 1 Axes>"
      ]
     },
     "metadata": {
      "tags": []
     },
     "output_type": "display_data"
    }
   ],
   "source": [
    "plt.plot(X_train.T, '*')\n",
    "plt.show()"
   ]
  },
  {
   "cell_type": "code",
   "execution_count": 156,
   "metadata": {
    "colab": {
     "base_uri": "https://localhost:8080/",
     "height": 440
    },
    "colab_type": "code",
    "id": "hDmZSOlEs7fC",
    "outputId": "d0750789-6e64-4102-a763-57cc8839248b"
   },
   "outputs": [
    {
     "data": {
      "image/png": "[encoded data removed]",
      "text/plain": [
       "<Figure size 576x396 with 1 Axes>"
      ]
     },
     "metadata": {
      "tags": []
     },
     "output_type": "display_data"
    }
   ],
   "source": [
    "plt.plot(X_train.T, '*')\n",
    "plt.xticks(rotation='vertical')\n",
    "plt.show()"
   ]
  },
  {
   "cell_type": "code",
   "execution_count": 157,
   "metadata": {
    "colab": {
     "base_uri": "https://localhost:8080/",
     "height": 364
    },
    "colab_type": "code",
    "id": "4BiN2-k5tZj8",
    "outputId": "9cd4330f-9b06-45d0-dbab-a82b59c535fb"
   },
   "outputs": [
    {
     "name": "stdout",
     "output_type": "stream",
     "text": [
      "binarised data\n"
     ]
    },
    {
     "data": {
      "image/png": "[encoded data removed]",
      "text/plain": [
       "<Figure size 576x396 with 1 Axes>"
      ]
     },
     "metadata": {
      "tags": []
     },
     "output_type": "display_data"
    }
   ],
   "source": [
    "X_binarised_3_train = X_train[\"mean area\"].map(lambda k: 0 if k<1000 else 1)\n",
    "print(\"binarised data\")\n",
    "plt.plot(X_binarised_3_train, \"*\")\n",
    "plt.show()"
   ]
  },
  {
   "cell_type": "code",
   "execution_count": 158,
   "metadata": {
    "colab": {
     "base_uri": "https://localhost:8080/",
     "height": 440
    },
    "colab_type": "code",
    "id": "kTD2p0YMt24h",
    "outputId": "431da784-ce04-45e7-e135-8d20b273c18b"
   },
   "outputs": [
    {
     "data": {
      "image/png": "[encoded data removed]",
      "text/plain": [
       "<Figure size 576x396 with 1 Axes>"
      ]
     },
     "metadata": {
      "tags": []
     },
     "output_type": "display_data"
    }
   ],
   "source": [
    "# showing the test data\n",
    "plt.plot(X_test.T, '*')\n",
    "plt.xticks(rotation='vertical')\n",
    "plt.show()"
   ]
  },
  {
   "cell_type": "code",
   "execution_count": 159,
   "metadata": {
    "colab": {
     "base_uri": "https://localhost:8080/",
     "height": 440
    },
    "colab_type": "code",
    "id": "M2wdEJSbuc_1",
    "outputId": "4e1c69c7-c920-44d7-c9ef-62ef60344106"
   },
   "outputs": [
    {
     "data": {
      "image/png": "[encoded data removed]",
      "text/plain": [
       "<Figure size 576x396 with 1 Axes>"
      ]
     },
     "metadata": {
      "tags": []
     },
     "output_type": "display_data"
    }
   ],
   "source": [
    "# the standard way to binarise the all train data is \n",
    "\n",
    "X_binarised_train = X_train.apply(pd.cut, bins=2, labels=[0,1])\n",
    "plt.plot(X_binarised_train.T, '*')\n",
    "plt.xticks(rotation='vertical')\n",
    "plt.show()"
   ]
  },
  {
   "cell_type": "code",
   "execution_count": 160,
   "metadata": {
    "colab": {
     "base_uri": "https://localhost:8080/",
     "height": 440
    },
    "colab_type": "code",
    "id": "1Rz6iQvVvqs7",
    "outputId": "3b04897a-be92-480c-b6bb-9c041cdc26e9"
   },
   "outputs": [
    {
     "data": {
      "image/png": "[encoded data removed]",
      "text/plain": [
       "<Figure size 576x396 with 1 Axes>"
      ]
     },
     "metadata": {
      "tags": []
     },
     "output_type": "display_data"
    }
   ],
   "source": [
    "# the standard way to binarise the all test data is \n",
    "\n",
    "X_binarised_test = X_test.apply(pd.cut, bins=2, labels=[0,1])\n",
    "plt.plot(X_binarised_test.T, '*')\n",
    "plt.xticks(rotation='vertical')\n",
    "plt.show()"
   ]
  },
  {
   "cell_type": "code",
   "execution_count": 161,
   "metadata": {
    "colab": {
     "base_uri": "https://localhost:8080/",
     "height": 34
    },
    "colab_type": "code",
    "id": "Ylq0DIKLv97G",
    "outputId": "530a198b-5a3b-43c8-a8e0-9ea25ea67b2e"
   },
   "outputs": [
    {
     "data": {
      "text/plain": [
       "pandas.core.frame.DataFrame"
      ]
     },
     "execution_count": 161,
     "metadata": {
      "tags": []
     },
     "output_type": "execute_result"
    }
   ],
   "source": [
    "type(X_binarised_test)  #remains in dataframes"
   ]
  },
  {
   "cell_type": "code",
   "execution_count": 162,
   "metadata": {
    "colab": {
     "base_uri": "https://localhost:8080/",
     "height": 34
    },
    "colab_type": "code",
    "id": "BbzI-yuIwKRT",
    "outputId": "7366a755-ca12-48ac-b39e-4bb15a8ad554"
   },
   "outputs": [
    {
     "name": "stdout",
     "output_type": "stream",
     "text": [
      "types: <class 'numpy.ndarray'> <class 'numpy.ndarray'>\n"
     ]
    }
   ],
   "source": [
    "X_binarised_test = X_binarised_test.values\n",
    "X_binarised_train = X_binarised_train.values\n",
    "print(\"types:\",type(X_binarised_test),type(X_binarised_train))\n",
    "\n",
    "# now the data are in array format"
   ]
  },
  {
   "cell_type": "code",
   "execution_count": 0,
   "metadata": {
    "colab": {},
    "colab_type": "code",
    "id": "9e2rtb9JwxuK"
   },
   "outputs": [],
   "source": []
  },
  {
   "cell_type": "code",
   "execution_count": 0,
   "metadata": {
    "colab": {},
    "colab_type": "code",
    "id": "qbLtGyLxxTk9"
   },
   "outputs": [],
   "source": []
  },
  {
   "cell_type": "code",
   "execution_count": 0,
   "metadata": {
    "colab": {},
    "colab_type": "code",
    "id": "nIgwkBIMxThX"
   },
   "outputs": [],
   "source": []
  },
  {
   "cell_type": "markdown",
   "metadata": {
    "colab_type": "text",
    "id": "_k95SGx_xWrI"
   },
   "source": [
    "## Inference And Search ---->MP neuron Model"
   ]
  },
  {
   "cell_type": "code",
   "execution_count": 163,
   "metadata": {
    "colab": {
     "base_uri": "https://localhost:8080/",
     "height": 34
    },
    "colab_type": "code",
    "id": "-h0AU4U71cx1",
    "outputId": "7df48aeb-e429-4091-f5d3-a3b9a50d62a9"
   },
   "outputs": [
    {
     "data": {
      "text/plain": [
       "(512, 30)"
      ]
     },
     "execution_count": 163,
     "metadata": {
      "tags": []
     },
     "output_type": "execute_result"
    }
   ],
   "source": [
    "X_binarised_train.shape"
   ]
  },
  {
   "cell_type": "code",
   "execution_count": 164,
   "metadata": {
    "colab": {
     "base_uri": "https://localhost:8080/",
     "height": 34
    },
    "colab_type": "code",
    "id": "ExAU-SKo1ivd",
    "outputId": "6816c601-9206-45d4-8a3d-e029e4c3f4a0"
   },
   "outputs": [
    {
     "data": {
      "text/plain": [
       "numpy.ndarray"
      ]
     },
     "execution_count": 164,
     "metadata": {
      "tags": []
     },
     "output_type": "execute_result"
    }
   ],
   "source": [
    "type(X_binarised_train)"
   ]
  },
  {
   "cell_type": "code",
   "execution_count": 165,
   "metadata": {
    "colab": {
     "base_uri": "https://localhost:8080/",
     "height": 50
    },
    "colab_type": "code",
    "id": "Cf4Cfeqm1pUh",
    "outputId": "e7142686-ee15-4f4b-a4e6-6f7aab08806c"
   },
   "outputs": [
    {
     "data": {
      "text/plain": [
       "array([1, 0, 1, 1, 0, 0, 0, 1, 0, 0, 0, 0, 0, 0, 0, 0, 0, 0, 0, 0, 1, 0,\n",
       "       1, 1, 0, 0, 0, 1, 0, 0], dtype=object)"
      ]
     },
     "execution_count": 165,
     "metadata": {
      "tags": []
     },
     "output_type": "execute_result"
    }
   ],
   "source": [
    "X_binarised_train[85]"
   ]
  },
  {
   "cell_type": "code",
   "execution_count": 166,
   "metadata": {
    "colab": {
     "base_uri": "https://localhost:8080/",
     "height": 34
    },
    "colab_type": "code",
    "id": "l3TLB3VT2EKu",
    "outputId": "33ed9340-81b3-4c7a-d692-b506aac97312"
   },
   "outputs": [
    {
     "data": {
      "text/plain": [
       "30"
      ]
     },
     "execution_count": 166,
     "metadata": {
      "tags": []
     },
     "output_type": "execute_result"
    }
   ],
   "source": [
    "len(X_binarised_train[85])"
   ]
  },
  {
   "cell_type": "code",
   "execution_count": 167,
   "metadata": {
    "colab": {
     "base_uri": "https://localhost:8080/",
     "height": 34
    },
    "colab_type": "code",
    "id": "ROtfrNd-2EH9",
    "outputId": "f370015f-9628-4c7c-8b21-c70457bc6b7a"
   },
   "outputs": [
    {
     "data": {
      "text/plain": [
       "1"
      ]
     },
     "execution_count": 167,
     "metadata": {
      "tags": []
     },
     "output_type": "execute_result"
    }
   ],
   "source": [
    "X_binarised_train[85][3]"
   ]
  },
  {
   "cell_type": "code",
   "execution_count": 168,
   "metadata": {
    "colab": {
     "base_uri": "https://localhost:8080/",
     "height": 134
    },
    "colab_type": "code",
    "id": "feRXHl8c2EEg",
    "outputId": "92906fe9-4db6-4dc0-cad2-e6479bb2aa04"
   },
   "outputs": [
    {
     "data": {
      "text/plain": [
       "(array([[0, 0, 0, ..., 1, 0, 0],\n",
       "        [0, 0, 0, ..., 0, 0, 0],\n",
       "        [0, 0, 0, ..., 1, 0, 1],\n",
       "        ...,\n",
       "        [0, 0, 0, ..., 0, 0, 0],\n",
       "        [0, 0, 0, ..., 0, 0, 0],\n",
       "        [1, 0, 1, ..., 1, 0, 0]], dtype=object), (512, 30))"
      ]
     },
     "execution_count": 168,
     "metadata": {
      "tags": []
     },
     "output_type": "execute_result"
    }
   ],
   "source": [
    "X_binarised_train,(X_binarised_train).shape"
   ]
  },
  {
   "cell_type": "code",
   "execution_count": 169,
   "metadata": {
    "colab": {
     "base_uri": "https://localhost:8080/",
     "height": 84
    },
    "colab_type": "code",
    "id": "UkgsMn5c2D_D",
    "outputId": "799a4ea9-0df0-4f4d-b68d-368684e1c67e"
   },
   "outputs": [
    {
     "data": {
      "text/plain": [
       "array([ True,  True,  True,  True,  True,  True,  True,  True,  True,\n",
       "        True,  True,  True,  True,  True,  True,  True,  True,  True,\n",
       "        True,  True,  True,  True,  True,  True,  True,  True,  True,\n",
       "        True,  True,  True])"
      ]
     },
     "execution_count": 169,
     "metadata": {
      "tags": []
     },
     "output_type": "execute_result"
    }
   ],
   "source": [
    "X_binarised_train[100, :] == X_binarised_train[100]"
   ]
  },
  {
   "cell_type": "code",
   "execution_count": 170,
   "metadata": {
    "colab": {
     "base_uri": "https://localhost:8080/",
     "height": 34
    },
    "colab_type": "code",
    "id": "xhmYKq9Z3UCM",
    "outputId": "f8e63fa3-02af-4748-c6da-e2b796fa8760"
   },
   "outputs": [
    {
     "name": "stdout",
     "output_type": "stream",
     "text": [
      "8\n"
     ]
    }
   ],
   "source": [
    "print(np.sum(X_binarised_train[85]))"
   ]
  },
  {
   "cell_type": "code",
   "execution_count": 171,
   "metadata": {
    "colab": {
     "base_uri": "https://localhost:8080/",
     "height": 50
    },
    "colab_type": "code",
    "id": "n3ojZpclxcbu",
    "outputId": "e772800c-c0cf-4a59-e9e6-bc036171a84a"
   },
   "outputs": [
    {
     "name": "stdout",
     "output_type": "stream",
     "text": [
      "MP Neuron inference is benigh\n",
      "Ground truth is benign\n"
     ]
    }
   ],
   "source": [
    "b = 3\n",
    "\n",
    "i=100\n",
    "\n",
    "if (np.sum(X_binarised_train[100, :]) >=b):\n",
    "  print(\"MP Neuron inference is malignant\")\n",
    "else:\n",
    "  print(\"MP Neuron inference is benigh\")\n",
    "  \n",
    "if(Y_train[i] == 1):\n",
    "  print(\"Ground truth is malignant\")\n",
    "else:\n",
    "  print(\"Ground truth is benign\")"
   ]
  },
  {
   "cell_type": "code",
   "execution_count": 0,
   "metadata": {
    "colab": {},
    "colab_type": "code",
    "id": "SSr_8Jtd0fTz"
   },
   "outputs": [],
   "source": [
    "from random import randint"
   ]
  },
  {
   "cell_type": "code",
   "execution_count": 173,
   "metadata": {
    "colab": {
     "base_uri": "https://localhost:8080/",
     "height": 67
    },
    "colab_type": "code",
    "id": "A3KTbo5B0mvk",
    "outputId": "1f82cd5a-d850-44d4-ae58-596445ce82b2"
   },
   "outputs": [
    {
     "name": "stdout",
     "output_type": "stream",
     "text": [
      "for row  368\n",
      "MP Neuron inference is benigh\n",
      "Ground truth is benign\n"
     ]
    }
   ],
   "source": [
    "b = 3\n",
    "\n",
    "i = randint(0, X_binarised_train.shape[0])\n",
    "\n",
    "print(\"for row \",i)\n",
    "\n",
    "if (np.sum(X_binarised_train[i, :]) >=b):   #100th rows\n",
    "  print(\"MP Neuron inference is malignant\")\n",
    "else:\n",
    "  print(\"MP Neuron inference is benigh\")\n",
    "  \n",
    "if(Y_train[i] == 1):\n",
    "  print(\"Ground truth is malignant\")\n",
    "else:\n",
    "  print(\"Ground truth is benign\")"
   ]
  },
  {
   "cell_type": "code",
   "execution_count": 174,
   "metadata": {
    "colab": {
     "base_uri": "https://localhost:8080/",
     "height": 34
    },
    "colab_type": "code",
    "id": "5m0NcUWM5cRS",
    "outputId": "688fc439-b0d7-48d7-d7c6-e0ffb7c23c21"
   },
   "outputs": [
    {
     "name": "stdout",
     "output_type": "stream",
     "text": [
      "512\n"
     ]
    }
   ],
   "source": [
    "print(len(Y_train))"
   ]
  },
  {
   "cell_type": "code",
   "execution_count": 175,
   "metadata": {
    "colab": {
     "base_uri": "https://localhost:8080/",
     "height": 34
    },
    "colab_type": "code",
    "id": "Ml7bLkbR0y29",
    "outputId": "fae82871-a63c-4432-aba9-07f24ef9e4c4"
   },
   "outputs": [
    {
     "name": "stdout",
     "output_type": "stream",
     "text": [
      "77 accuracy is: 0.150390625\n"
     ]
    }
   ],
   "source": [
    "#fixing the b and check for the accuracy\n",
    "\n",
    "b = 3\n",
    "\n",
    "Y_pred_train = []\n",
    "accurate_rows=0\n",
    "\n",
    "for x, y in zip(X_binarised_train, Y_train):\n",
    "  y_pred = (np.sum(x) >= b)\n",
    "  Y_pred_train.append(y_pred)\n",
    "  accurate_rows += (y ==y_pred)\n",
    "  \n",
    "print(accurate_rows, \"accuracy is:\", accurate_rows/X_binarised_train.shape[0])"
   ]
  },
  {
   "cell_type": "code",
   "execution_count": 176,
   "metadata": {
    "colab": {
     "base_uri": "https://localhost:8080/",
     "height": 538
    },
    "colab_type": "code",
    "id": "7fJwFexa654t",
    "outputId": "bfd8e52c-a4a3-46f0-8256-b4827f787f1d"
   },
   "outputs": [
    {
     "name": "stdout",
     "output_type": "stream",
     "text": [
      "0 accuracy is: 0.626953125\n",
      "1 accuracy is: 0.240234375\n",
      "2 accuracy is: 0.185546875\n",
      "3 accuracy is: 0.150390625\n",
      "4 accuracy is: 0.154296875\n",
      "5 accuracy is: 0.181640625\n",
      "6 accuracy is: 0.21484375\n",
      "7 accuracy is: 0.244140625\n",
      "8 accuracy is: 0.275390625\n",
      "9 accuracy is: 0.298828125\n",
      "10 accuracy is: 0.3125\n",
      "11 accuracy is: 0.328125\n",
      "12 accuracy is: 0.3359375\n",
      "13 accuracy is: 0.34375\n",
      "14 accuracy is: 0.3515625\n",
      "15 accuracy is: 0.357421875\n",
      "16 accuracy is: 0.3671875\n",
      "17 accuracy is: 0.369140625\n",
      "18 accuracy is: 0.373046875\n",
      "19 accuracy is: 0.373046875\n",
      "20 accuracy is: 0.373046875\n",
      "21 accuracy is: 0.373046875\n",
      "22 accuracy is: 0.373046875\n",
      "23 accuracy is: 0.373046875\n",
      "24 accuracy is: 0.373046875\n",
      "25 accuracy is: 0.373046875\n",
      "26 accuracy is: 0.373046875\n",
      "27 accuracy is: 0.373046875\n",
      "28 accuracy is: 0.373046875\n",
      "29 accuracy is: 0.373046875\n",
      "30 accuracy is: 0.373046875\n"
     ]
    }
   ],
   "source": [
    "# on train data set\n",
    "\n",
    "for b in range(X_binarised_train.shape[1]+1):\n",
    "  \n",
    "  Y_pred_train = []\n",
    "  accurate_rows=0\n",
    "\n",
    "  for x, y in zip(X_binarised_train, Y_train):\n",
    "    y_pred = (np.sum(x) >= b)\n",
    "    Y_pred_train.append(y_pred)\n",
    "    accurate_rows += (y ==y_pred)\n",
    "\n",
    "  print(b, \"accuracy is:\", accurate_rows/X_binarised_train.shape[0])"
   ]
  },
  {
   "cell_type": "markdown",
   "metadata": {
    "colab_type": "text",
    "id": "0lveKLOQ8uSv"
   },
   "source": [
    "* accuracy is maximum in case of b=0...why?\n",
    "\n",
    "this is due to the binarisation...we lower values as 0 and higher values as 1..... but if we see the datas mean values for 0 and 1,,,, we see the 0 have the higher mean and 1 have the lower mean.... hence binarisation is very important....\n",
    "\n",
    "so, put the lables =[1.,0] and see the output....i mean binarise the data as 0--->higher values and 1----> lower values..."
   ]
  },
  {
   "cell_type": "code",
   "execution_count": 0,
   "metadata": {
    "colab": {},
    "colab_type": "code",
    "id": "RhLwNUJt7w6C"
   },
   "outputs": [],
   "source": [
    "#again we r doing the same by different binarisation...on train data set"
   ]
  },
  {
   "cell_type": "code",
   "execution_count": 178,
   "metadata": {
    "colab": {
     "base_uri": "https://localhost:8080/",
     "height": 538
    },
    "colab_type": "code",
    "id": "SzeMnmEZ-A4W",
    "outputId": "2c2925e4-7951-4763-d39b-2cb8f09af1d8"
   },
   "outputs": [
    {
     "name": "stdout",
     "output_type": "stream",
     "text": [
      "0 : 0.626953125\n",
      "1 : 0.626953125\n",
      "2 : 0.626953125\n",
      "3 : 0.626953125\n",
      "4 : 0.626953125\n",
      "5 : 0.626953125\n",
      "6 : 0.626953125\n",
      "7 : 0.626953125\n",
      "8 : 0.626953125\n",
      "9 : 0.626953125\n",
      "10 : 0.626953125\n",
      "11 : 0.626953125\n",
      "12 : 0.626953125\n",
      "13 : 0.626953125\n",
      "14 : 0.630859375\n",
      "15 : 0.6328125\n",
      "16 : 0.642578125\n",
      "17 : 0.6484375\n",
      "18 : 0.65625\n",
      "19 : 0.6640625\n",
      "20 : 0.671875\n",
      "21 : 0.6875\n",
      "22 : 0.701171875\n",
      "23 : 0.724609375\n",
      "24 : 0.755859375\n",
      "25 : 0.78515625\n",
      "26 : 0.818359375\n",
      "27 : 0.845703125\n",
      "28 : 0.849609375\n",
      "29 : 0.814453125\n",
      "30 : 0.759765625\n"
     ]
    }
   ],
   "source": [
    "X_binarised_train = X_train.apply(pd.cut, bins=2, labels=[1,0])\n",
    "X_binarised_test = X_test.apply(pd.cut, bins=2, labels=[1,0])\n",
    "\n",
    "X_binarised_test = X_binarised_test.values\n",
    "X_binarised_train = X_binarised_train.values\n",
    "\n",
    "for b in range(X_binarised_train.shape[1]+1):\n",
    "  \n",
    "  Y_pred_train = []\n",
    "  accurate_rows=0\n",
    "\n",
    "  for x, y in zip(X_binarised_train, Y_train):\n",
    "    y_pred = (np.sum(x) >= b)\n",
    "    Y_pred_train.append(y_pred)\n",
    "    accurate_rows += (y ==y_pred)\n",
    "\n",
    "  print(b,\":\", accurate_rows/X_binarised_train.shape[0])"
   ]
  },
  {
   "cell_type": "markdown",
   "metadata": {
    "colab_type": "text",
    "id": "ibjZFGmv_JnE"
   },
   "source": [
    "so in the above situation, the maximum accuracy is when b=28......84%"
   ]
  },
  {
   "cell_type": "code",
   "execution_count": 0,
   "metadata": {
    "colab": {},
    "colab_type": "code",
    "id": "eweny7i4_HB-"
   },
   "outputs": [],
   "source": []
  },
  {
   "cell_type": "code",
   "execution_count": 0,
   "metadata": {
    "colab": {},
    "colab_type": "code",
    "id": "7vpMUfM9BLoi"
   },
   "outputs": [],
   "source": []
  },
  {
   "cell_type": "markdown",
   "metadata": {
    "colab_type": "text",
    "id": "3zCd2TGhBNPg"
   },
   "source": [
    "## Inference"
   ]
  },
  {
   "cell_type": "markdown",
   "metadata": {
    "colab_type": "text",
    "id": "blrpqmFUBki3"
   },
   "source": [
    "the above thing we have check on train data set.\n",
    "but now we willdo iton test data set."
   ]
  },
  {
   "cell_type": "code",
   "execution_count": 0,
   "metadata": {
    "colab": {},
    "colab_type": "code",
    "id": "bmMH1NrOBLir"
   },
   "outputs": [],
   "source": [
    "from sklearn.metrics import accuracy_score\n"
   ]
  },
  {
   "cell_type": "code",
   "execution_count": 180,
   "metadata": {
    "colab": {
     "base_uri": "https://localhost:8080/",
     "height": 34
    },
    "colab_type": "code",
    "id": "p353UM8eB571",
    "outputId": "90f24b11-a143-421f-d3c8-a5f8b4cf86a0"
   },
   "outputs": [
    {
     "name": "stdout",
     "output_type": "stream",
     "text": [
      "accuracy for b=28 is: 0.7894736842105263\n"
     ]
    }
   ],
   "source": [
    "b=28\n",
    "\n",
    "Y_pred_test = []\n",
    "\n",
    "for x in X_binarised_test:\n",
    "  y_pred = (np.sum(x) >= b)\n",
    "  Y_pred_test.append(y_pred)\n",
    "  \n",
    "accuracy = accuracy_score(Y_pred_test, Y_test)\n",
    "print(\"accuracy for b={} is: {}\".format(b,accuracy))\n",
    "  "
   ]
  },
  {
   "cell_type": "code",
   "execution_count": 0,
   "metadata": {
    "colab": {},
    "colab_type": "code",
    "id": "TZoCOJi_CwPC"
   },
   "outputs": [],
   "source": []
  },
  {
   "cell_type": "code",
   "execution_count": 0,
   "metadata": {
    "colab": {},
    "colab_type": "code",
    "id": "vPTCDGa4C93X"
   },
   "outputs": [],
   "source": []
  },
  {
   "cell_type": "markdown",
   "metadata": {
    "colab_type": "text",
    "id": "gjORFDk8DGkK"
   },
   "source": [
    "## MP Neuron Class"
   ]
  },
  {
   "cell_type": "code",
   "execution_count": 0,
   "metadata": {
    "colab": {},
    "colab_type": "code",
    "id": "wbVlOEbstkJl"
   },
   "outputs": [],
   "source": [
    "from sklearn.metrics import accuracy_score\n",
    "import sklearn.datasets\n",
    "import numpy as np\n",
    "import pandas as pd\n",
    "import matplotlib.pyplot as plt\n",
    "from sklearn.model_selection import train_test_split"
   ]
  },
  {
   "cell_type": "code",
   "execution_count": 182,
   "metadata": {
    "colab": {
     "base_uri": "https://localhost:8080/",
     "height": 121
    },
    "colab_type": "code",
    "id": "WDbCvNB1tkF3",
    "outputId": "385c603d-28aa-473b-9d3c-0566b2d8bf9c"
   },
   "outputs": [
    {
     "name": "stdout",
     "output_type": "stream",
     "text": [
      "On train data-------------------->\n",
      "{0: 0.626953125, 1: 0.626953125, 2: 0.626953125, 3: 0.626953125, 4: 0.626953125, 5: 0.626953125, 6: 0.626953125, 7: 0.626953125, 8: 0.626953125, 9: 0.626953125, 10: 0.626953125, 11: 0.626953125, 12: 0.626953125, 13: 0.626953125, 14: 0.630859375, 15: 0.6328125, 16: 0.642578125, 17: 0.6484375, 18: 0.65625, 19: 0.6640625, 20: 0.671875, 21: 0.6875, 22: 0.701171875, 23: 0.724609375, 24: 0.755859375, 25: 0.78515625, 26: 0.818359375, 27: 0.845703125, 28: 0.849609375, 29: 0.814453125, 30: 0.759765625}\n",
      "on test data------------------->\n",
      "b is: 28\n",
      "accuracy for b=28 is: 0.7894736842105263\n"
     ]
    }
   ],
   "source": [
    "X_binarised_train = X_train.apply(pd.cut, bins=2, labels=[1,0])\n",
    "X_binarised_test = X_test.apply(pd.cut, bins=2, labels=[1,0])\n",
    "\n",
    "X_binarised_test = X_binarised_test.values\n",
    "X_binarised_train = X_binarised_train.values\n",
    "\n",
    "train_acc_dict = {}\n",
    "\n",
    "for b in range(X_binarised_train.shape[1]+1):\n",
    "  \n",
    "  Y_pred_train = []\n",
    "  accurate_rows=0\n",
    "\n",
    "  for x, y in zip(X_binarised_train, Y_train):\n",
    "    y_pred = (np.sum(x) >= b)\n",
    "    Y_pred_train.append(y_pred)\n",
    "    accurate_rows += (y ==y_pred)\n",
    "\n",
    "  train_acc_dict[b] = accurate_rows/X_binarised_train.shape[0]\n",
    "\n",
    "  \n",
    "print(\"On train data-------------------->\")\n",
    "print(train_acc_dict)\n",
    "  \n",
    "  \n",
    "print(\"on test data------------------->\")\n",
    "\n",
    "opp_train_acc_dict = dict((v,k) for k,v in train_acc_dict.items())   #opp the key and values in dict\n",
    "b = max(opp_train_acc_dict.items())[1]\n",
    "print(\"b is:\",b)\n",
    "\n",
    "Y_pred_test = []\n",
    "\n",
    "for x in X_binarised_test:\n",
    "  y_pred = (np.sum(x) >= b)\n",
    "  Y_pred_test.append(y_pred)\n",
    "  \n",
    "accuracy = accuracy_score(Y_pred_test, Y_test)\n",
    "print(\"accuracy for b={} is: {}\".format(b,accuracy))"
   ]
  },
  {
   "cell_type": "code",
   "execution_count": 183,
   "metadata": {
    "colab": {
     "base_uri": "https://localhost:8080/",
     "height": 54
    },
    "colab_type": "code",
    "id": "nuRivFVpEXPg",
    "outputId": "90f6045c-845f-451b-ae93-344dbf24f7bf"
   },
   "outputs": [
    {
     "data": {
      "text/plain": [
       "'breast_cancer = sklearn.datasets.load_breast_cancer()\\n\\ndata1 = pd.DataFrame(breast_cancer.data, columns=breast_cancer.feature_names)\\ndata2 = pd.DataFrame(breast_cancer.target, columns = breast_cancer.target_names)\\nX = data1\\nY = data2\\n\\n\\n# but if we want to divide the data in same ratio\\n# split the data of X and Y in test and train data in 90:10 ratio\\nX_train, X_test, Y_train, Y_test = train_test_split(X, Y, test_size=0.1, stratify=Y, random_state=1)\\nprint(\"\\n\\n\\n\")\\n\\nprint(type(X_train))\\n\\n\\nX_binarised_train = X_train.apply(pd.cut, bins=2, labels=[1,0])\\nX_binarised_test = X_test.apply(pd.cut, bins=2, labels=[1,0])\\n\\nX_binarised_test = X_binarised_test.values\\nX_binarised_train = X_binarised_train.values\\n\\ntrain_acc_dict = {}\\n\\nfor b in range(X_binarised_train.shape[1]+1):\\n  \\n  Y_pred_train = []\\n  accurate_rows=0\\n\\n  for x, y in zip(X_binarised_train, Y_train):\\n    y_pred = (np.sum(x) >= b)\\n    Y_pred_train.append(y_pred)\\n    accurate_rows += (y ==y_pred)\\n\\n  train_acc_dict[b] = accurate_rows/X_binarised_train.shape[0]\\n\\n  \\nprint(\"On train data-------------------->\")\\nprint(train_acc_dict)\\n  \\n  \\nprint(\"on test data------------------->\")\\n\\nopp_train_acc_dict = dict((v,k) for k,v in train_acc_dict.items())   #opp the key and values in dict\\nb = max(opp_train_acc_dict.items())[1]\\nprint(\"b is:\",b)\\n\\nY_pred_test = []\\n\\nfor x in X_binarised_test:\\n  y_pred = (np.sum(x) >= b)\\n  Y_pred_test.append(y_pred)\\n  \\naccuracy = accuracy_score(Y_pred_test, Y_test)\\nprint(\"accuracy for b={} is: {}\".format(b,accuracy))'"
      ]
     },
     "execution_count": 183,
     "metadata": {
      "tags": []
     },
     "output_type": "execute_result"
    }
   ],
   "source": [
    "\"\"\"breast_cancer = sklearn.datasets.load_breast_cancer()\n",
    "\n",
    "data1 = pd.DataFrame(breast_cancer.data, columns=breast_cancer.feature_names)\n",
    "data2 = pd.DataFrame(breast_cancer.target, columns = breast_cancer.target_names)\n",
    "X = data1\n",
    "Y = data2\n",
    "\n",
    "\n",
    "# but if we want to divide the data in same ratio\n",
    "# split the data of X and Y in test and train data in 90:10 ratio\n",
    "X_train, X_test, Y_train, Y_test = train_test_split(X, Y, test_size=0.1, stratify=Y, random_state=1)\n",
    "print(\"\\n\\n\\n\")\n",
    "\n",
    "print(type(X_train))\n",
    "\n",
    "\n",
    "X_binarised_train = X_train.apply(pd.cut, bins=2, labels=[1,0])\n",
    "X_binarised_test = X_test.apply(pd.cut, bins=2, labels=[1,0])\n",
    "\n",
    "X_binarised_test = X_binarised_test.values\n",
    "X_binarised_train = X_binarised_train.values\n",
    "\n",
    "train_acc_dict = {}\n",
    "\n",
    "for b in range(X_binarised_train.shape[1]+1):\n",
    "  \n",
    "  Y_pred_train = []\n",
    "  accurate_rows=0\n",
    "\n",
    "  for x, y in zip(X_binarised_train, Y_train):\n",
    "    y_pred = (np.sum(x) >= b)\n",
    "    Y_pred_train.append(y_pred)\n",
    "    accurate_rows += (y ==y_pred)\n",
    "\n",
    "  train_acc_dict[b] = accurate_rows/X_binarised_train.shape[0]\n",
    "\n",
    "  \n",
    "print(\"On train data-------------------->\")\n",
    "print(train_acc_dict)\n",
    "  \n",
    "  \n",
    "print(\"on test data------------------->\")\n",
    "\n",
    "opp_train_acc_dict = dict((v,k) for k,v in train_acc_dict.items())   #opp the key and values in dict\n",
    "b = max(opp_train_acc_dict.items())[1]\n",
    "print(\"b is:\",b)\n",
    "\n",
    "Y_pred_test = []\n",
    "\n",
    "for x in X_binarised_test:\n",
    "  y_pred = (np.sum(x) >= b)\n",
    "  Y_pred_test.append(y_pred)\n",
    "  \n",
    "accuracy = accuracy_score(Y_pred_test, Y_test)\n",
    "print(\"accuracy for b={} is: {}\".format(b,accuracy))\"\"\""
   ]
  },
  {
   "cell_type": "code",
   "execution_count": 0,
   "metadata": {
    "colab": {},
    "colab_type": "code",
    "id": "51lMoE87DIi9"
   },
   "outputs": [],
   "source": [
    "class MPNeuron:\n",
    "  \n",
    "  def __init__(self):\n",
    "    self.b = None\n",
    "    \n",
    "  def model(self, h):\n",
    "    return(sum(h) >= self.b)\n",
    "  \n",
    "  def predict(self, X):\n",
    "    Y1 = []\n",
    "    for h in X:\n",
    "      result = self.model(h)\n",
    "      Y1.append(result)\n",
    "    return(np.array(Y1))\n",
    "  \n",
    "  def fit(self, X, Y):\n",
    "    accuracy = {}\n",
    "    \n",
    "    for b in range(X.shape[1] + 1):\n",
    "      self.b = b\n",
    "      Y_pred = self.predict(X)\n",
    "      accuracy[b] = accuracy_score(Y_pred, Y)\n",
    "    \n",
    "    # accuracy is a dictionary and to get the maximum of the accuracy valuewith keys....see next line\n",
    "      \n",
    "    best_b = max(accuracy, key = accuracy.get)\n",
    "    self.b = best_b\n",
    "    \n",
    "    print(\"optimal value of b is:\", best_b)\n",
    "    print(\"Highest accuracy is:\", accuracy[best_b])\n",
    "    "
   ]
  },
  {
   "cell_type": "code",
   "execution_count": 193,
   "metadata": {
    "colab": {
     "base_uri": "https://localhost:8080/",
     "height": 50
    },
    "colab_type": "code",
    "id": "w1NrxYwdtmEo",
    "outputId": "0a6ca126-0f28-4beb-f247-c171282c182d"
   },
   "outputs": [
    {
     "name": "stdout",
     "output_type": "stream",
     "text": [
      "optimal value of b is: 28\n",
      "Highest accuracy is: 0.849609375\n"
     ]
    }
   ],
   "source": [
    "mp_neuron = MPNeuron()\n",
    "mp_neuron.fit(X_binarised_train, Y_train)"
   ]
  },
  {
   "cell_type": "code",
   "execution_count": 194,
   "metadata": {
    "colab": {
     "base_uri": "https://localhost:8080/",
     "height": 34
    },
    "colab_type": "code",
    "id": "aebJG3tRwy4Z",
    "outputId": "b1858baa-f68c-40b8-fd77-ca8a36d3aa65"
   },
   "outputs": [
    {
     "name": "stdout",
     "output_type": "stream",
     "text": [
      "0.7894736842105263\n"
     ]
    }
   ],
   "source": [
    "Y_test_pred = mp_neuron.predict(X_binarised_test)\n",
    "accuracy_test = accuracy_score(Y_test_pred, Y_test)\n",
    "print(accuracy_test)"
   ]
  },
  {
   "cell_type": "code",
   "execution_count": 0,
   "metadata": {
    "colab": {},
    "colab_type": "code",
    "id": "BIHyjp6N3SdI"
   },
   "outputs": [],
   "source": []
  },
  {
   "cell_type": "code",
   "execution_count": 0,
   "metadata": {
    "colab": {},
    "colab_type": "code",
    "id": "7FXMuBTyIzQg"
   },
   "outputs": [],
   "source": []
  },
  {
   "cell_type": "markdown",
   "metadata": {
    "colab_type": "text",
    "id": "wfLOIQ3YI2vO"
   },
   "source": [
    "## Perceptron Class"
   ]
  },
  {
   "cell_type": "code",
   "execution_count": 0,
   "metadata": {
    "colab": {},
    "colab_type": "code",
    "id": "i4jKUab3JbWM"
   },
   "outputs": [],
   "source": []
  },
  {
   "cell_type": "markdown",
   "metadata": {
    "colab_type": "text",
    "id": "9nPuWNR7JbHN"
   },
   "source": [
    "$y = 1, \\mbox{if} \\sum_i w_i x_i >=b$\n",
    "\n",
    "$y = 0, \\mbox{otherwise}$"
   ]
  },
  {
   "cell_type": "code",
   "execution_count": 0,
   "metadata": {
    "colab": {},
    "colab_type": "code",
    "id": "SnPgh9AdIzNZ"
   },
   "outputs": [],
   "source": [
    "class Perceptron:\n",
    "  \n",
    "  def __init__(self):\n",
    "    self.w = None\n",
    "    self.b = None\n",
    "    \n",
    "  def model(self, x):\n",
    "    return(1 if (np.dot(self.w, x) >= self.b) else 0 )\n",
    "  \n",
    "  def predict(self, X):\n",
    "    Y1 = []\n",
    "    for x in X:\n",
    "      result = self.model(x)\n",
    "      Y1.append(result)\n",
    "      \n",
    "    return(np.array(Y1))\n",
    "  \n",
    "  def fit(self, X, Y):\n",
    "    \n",
    "    self.w = np.ones(X.shape[1])\n",
    "    self.b = 0\n",
    "    \n",
    "    for x, y in zip(X, Y):\n",
    "      y_pred = self.model(x)\n",
    "      if(y == 1 and y_pred == 0):\n",
    "        self.w = self.w + x\n",
    "        self.b = self.b + 1\n",
    "      \n",
    "      elif(y == 0 and y_pred == 1):\n",
    "        self.w = self.w - x\n",
    "        self.b = self.b - 1"
   ]
  },
  {
   "cell_type": "code",
   "execution_count": 0,
   "metadata": {
    "colab": {},
    "colab_type": "code",
    "id": "ex5JYxFvP2-I"
   },
   "outputs": [],
   "source": [
    "perceptron = Perceptron()"
   ]
  },
  {
   "cell_type": "code",
   "execution_count": 0,
   "metadata": {
    "colab": {},
    "colab_type": "code",
    "id": "AyH_wdu0Qozq"
   },
   "outputs": [],
   "source": [
    "X_train = X_train.values\n",
    "Y_train = Y_train.values"
   ]
  },
  {
   "cell_type": "code",
   "execution_count": 0,
   "metadata": {
    "colab": {},
    "colab_type": "code",
    "id": "n_cI_pHuP2vx"
   },
   "outputs": [],
   "source": [
    "perceptron.fit(X_train, Y_train)"
   ]
  },
  {
   "cell_type": "code",
   "execution_count": 200,
   "metadata": {
    "colab": {
     "base_uri": "https://localhost:8080/",
     "height": 349
    },
    "colab_type": "code",
    "id": "qpe16axGQv9H",
    "outputId": "0cb08125-fee8-4bd5-bb9b-ae05af54329c"
   },
   "outputs": [
    {
     "data": {
      "image/png": "[encoded data removed]",
      "text/plain": [
       "<Figure size 576x396 with 1 Axes>"
      ]
     },
     "metadata": {
      "tags": []
     },
     "output_type": "display_data"
    }
   ],
   "source": [
    "plt.plot(perceptron.w)\n",
    "plt.show()"
   ]
  },
  {
   "cell_type": "code",
   "execution_count": 203,
   "metadata": {
    "colab": {
     "base_uri": "https://localhost:8080/",
     "height": 34
    },
    "colab_type": "code",
    "id": "0Kh9tfduRCpF",
    "outputId": "e341266c-5c77-4810-af98-dfdd3914033d"
   },
   "outputs": [
    {
     "name": "stdout",
     "output_type": "stream",
     "text": [
      "0.373046875\n"
     ]
    }
   ],
   "source": [
    "Y_pred_train = perceptron.predict(X_train)\n",
    "print(accuracy_score(Y_pred_train, Y_train))"
   ]
  },
  {
   "cell_type": "code",
   "execution_count": 205,
   "metadata": {
    "colab": {
     "base_uri": "https://localhost:8080/",
     "height": 34
    },
    "colab_type": "code",
    "id": "_SOTh4slRTaT",
    "outputId": "4bf0703c-fe3f-4e6e-c248-b68550627c73"
   },
   "outputs": [
    {
     "name": "stdout",
     "output_type": "stream",
     "text": [
      "0.3684210526315789\n"
     ]
    }
   ],
   "source": [
    "X_test = X_test.values\n",
    "Y_test = Y_test.values\n",
    "Y_pred_test = perceptron.predict(X_test)\n",
    "print(accuracy_score(Y_pred_test, Y_test))"
   ]
  },
  {
   "cell_type": "code",
   "execution_count": 0,
   "metadata": {
    "colab": {},
    "colab_type": "code",
    "id": "qdPo11oWRbjW"
   },
   "outputs": [],
   "source": []
  },
  {
   "cell_type": "markdown",
   "metadata": {
    "colab_type": "text",
    "id": "TiAEhgBqR7_m"
   },
   "source": [
    "## Epochs"
   ]
  },
  {
   "cell_type": "code",
   "execution_count": 0,
   "metadata": {
    "colab": {},
    "colab_type": "code",
    "id": "M107QFRZR_7O"
   },
   "outputs": [],
   "source": [
    "class Perceptron:\n",
    "  \n",
    "  def __init__(self):\n",
    "    self.w = None\n",
    "    self.b = None\n",
    "    \n",
    "  def model(self, x):\n",
    "    return(1 if (np.dot(self.w, x) >= self.b) else 0 )\n",
    "  \n",
    "  def predict(self, X):\n",
    "    Y1 = []\n",
    "    for x in X:\n",
    "      result = self.model(x)\n",
    "      Y1.append(result)\n",
    "      \n",
    "    return(np.array(Y1))\n",
    "  \n",
    "  def fit(self, X, Y, epochs = 1):\n",
    "    \n",
    "    self.w = np.ones(X.shape[1])\n",
    "    self.b = 0\n",
    "    \n",
    "    \n",
    "    for i in range(epochs):\n",
    "      \n",
    "      for x, y in zip(X, Y):\n",
    "        y_pred = self.model(x)\n",
    "        if(y == 1 and y_pred == 0):\n",
    "          self.w = self.w + x\n",
    "          self.b = self.b + 1\n",
    "\n",
    "        elif(y == 0 and y_pred == 1):\n",
    "          self.w = self.w - x\n",
    "          self.b = self.b - 1"
   ]
  },
  {
   "cell_type": "code",
   "execution_count": 0,
   "metadata": {
    "colab": {},
    "colab_type": "code",
    "id": "9tIuBy2QSsCo"
   },
   "outputs": [],
   "source": [
    "perceptron = Perceptron()"
   ]
  },
  {
   "cell_type": "code",
   "execution_count": 0,
   "metadata": {
    "colab": {},
    "colab_type": "code",
    "id": "x6jFIQwrSvuP"
   },
   "outputs": [],
   "source": [
    "#check the accuracy for 2,3,1000 etc iteration\n",
    "perceptron.fit(X_train, Y_train, 3)"
   ]
  },
  {
   "cell_type": "code",
   "execution_count": 230,
   "metadata": {
    "colab": {
     "base_uri": "https://localhost:8080/",
     "height": 34
    },
    "colab_type": "code",
    "id": "deuD7wudS0TH",
    "outputId": "a99f3c67-0145-4f7b-bae8-6984d19ec53d"
   },
   "outputs": [
    {
     "name": "stdout",
     "output_type": "stream",
     "text": [
      "0.373046875\n"
     ]
    }
   ],
   "source": [
    "Y_pred_train = perceptron.predict(X_train)\n",
    "print(accuracy_score(Y_pred_train, Y_train))"
   ]
  },
  {
   "cell_type": "code",
   "execution_count": 231,
   "metadata": {
    "colab": {
     "base_uri": "https://localhost:8080/",
     "height": 347
    },
    "colab_type": "code",
    "id": "-t4wM2_tS5Zk",
    "outputId": "58a2be82-938e-4da1-9796-ac9e2f0ab377"
   },
   "outputs": [
    {
     "data": {
      "image/png": "[encoded data removed]",
      "text/plain": [
       "<Figure size 576x396 with 1 Axes>"
      ]
     },
     "metadata": {
      "tags": []
     },
     "output_type": "display_data"
    }
   ],
   "source": [
    "plt.plot(perceptron.w)\n",
    "plt.show()"
   ]
  },
  {
   "cell_type": "code",
   "execution_count": 232,
   "metadata": {
    "colab": {
     "base_uri": "https://localhost:8080/",
     "height": 34
    },
    "colab_type": "code",
    "id": "Rgq5EJZTS97M",
    "outputId": "a42375ec-86eb-497b-f64f-ef1f5b4f771e"
   },
   "outputs": [
    {
     "name": "stdout",
     "output_type": "stream",
     "text": [
      "0.38596491228070173\n"
     ]
    }
   ],
   "source": [
    "Y_pred_test = perceptron.predict(X_test)\n",
    "print(accuracy_score(Y_pred_test, Y_test))"
   ]
  },
  {
   "cell_type": "code",
   "execution_count": 0,
   "metadata": {
    "colab": {},
    "colab_type": "code",
    "id": "1eGJs8msTErH"
   },
   "outputs": [],
   "source": [
    "#again write the class Percptron    .....\n",
    "\n",
    "class Perceptron:\n",
    "  \n",
    "  def __init__(self):\n",
    "    self.w = None\n",
    "    self.b = None\n",
    "    \n",
    "  def model(self, x):\n",
    "    return(1 if (np.dot(self.w, x) >= self.b) else 0 )\n",
    "  \n",
    "  def predict(self, X):\n",
    "    Y1 = []\n",
    "    for x in X:\n",
    "      result = self.model(x)\n",
    "      Y1.append(result)\n",
    "      \n",
    "    return(np.array(Y1))\n",
    "  \n",
    "  def fit(self, X, Y, epochs = 1):\n",
    "    \n",
    "    self.w = np.ones(X.shape[1])\n",
    "    self.b = 0\n",
    "    \n",
    "    accuracy = {}\n",
    "    max_accuracy = 0\n",
    "    \n",
    "    for i in range(epochs):\n",
    "      \n",
    "      for x, y in zip(X, Y):\n",
    "        y_pred = self.model(x)\n",
    "        if(y == 1 and y_pred == 0):\n",
    "          self.w = self.w + x\n",
    "          self.b = self.b + 1\n",
    "\n",
    "        elif(y == 0 and y_pred == 1):\n",
    "          self.w = self.w - x\n",
    "          self.b = self.b - 1\n",
    "          \n",
    "      accuracy[i] = accuracy_score(self.predict(X), Y)\n",
    "      if(accuracy[i] > max_accuracy):\n",
    "        max_accuracy = accuracy[i]\n",
    "      \n",
    "    print(max_accuracy)  \n",
    "      \n",
    "    plt.plot(accuracy.values())\n",
    "    plt.show()\n",
    "    "
   ]
  },
  {
   "cell_type": "code",
   "execution_count": 0,
   "metadata": {
    "colab": {},
    "colab_type": "code",
    "id": "tx7Xy6UfUCka"
   },
   "outputs": [],
   "source": [
    "perceptron = Perceptron()"
   ]
  },
  {
   "cell_type": "code",
   "execution_count": 235,
   "metadata": {
    "colab": {
     "base_uri": "https://localhost:8080/",
     "height": 364
    },
    "colab_type": "code",
    "id": "uANDjt2EUCWG",
    "outputId": "88bdb868-a562-405d-b4f9-d99e426caac0"
   },
   "outputs": [
    {
     "name": "stdout",
     "output_type": "stream",
     "text": [
      "0.927734375\n"
     ]
    },
    {
     "data": {
      "image/png": "[encoded data removed]",
      "text/plain": [
       "<Figure size 576x396 with 1 Axes>"
      ]
     },
     "metadata": {
      "tags": []
     },
     "output_type": "display_data"
    }
   ],
   "source": [
    "perceptron.fit(X_train, Y_train, 100)"
   ]
  },
  {
   "cell_type": "code",
   "execution_count": 0,
   "metadata": {
    "colab": {},
    "colab_type": "code",
    "id": "fZX76HyRZnz6"
   },
   "outputs": [],
   "source": []
  },
  {
   "cell_type": "code",
   "execution_count": 236,
   "metadata": {
    "colab": {
     "base_uri": "https://localhost:8080/",
     "height": 34
    },
    "colab_type": "code",
    "id": "L95V9kydVP6v",
    "outputId": "114f9816-e5c6-4405-ddda-11278f4bb512"
   },
   "outputs": [
    {
     "name": "stdout",
     "output_type": "stream",
     "text": [
      "0.9298245614035088\n"
     ]
    }
   ],
   "source": [
    "#accuracy on test data\n",
    "Y_pred_test = perceptron.predict(X_test)\n",
    "print(accuracy_score(Y_pred_test, Y_test))"
   ]
  },
  {
   "cell_type": "code",
   "execution_count": 0,
   "metadata": {
    "colab": {},
    "colab_type": "code",
    "id": "j1w4QGttVhEk"
   },
   "outputs": [],
   "source": []
  },
  {
   "cell_type": "code",
   "execution_count": 0,
   "metadata": {
    "colab": {},
    "colab_type": "code",
    "id": "8MQBv0rGVn9g"
   },
   "outputs": [],
   "source": []
  },
  {
   "cell_type": "markdown",
   "metadata": {
    "colab_type": "text",
    "id": "vUi_bV2MVqGr"
   },
   "source": [
    "## Checkpointing"
   ]
  },
  {
   "cell_type": "code",
   "execution_count": 0,
   "metadata": {
    "colab": {},
    "colab_type": "code",
    "id": "npKiRbr2VtW4"
   },
   "outputs": [],
   "source": [
    "#again write the class Percptron    .....\n",
    "\n",
    "class Perceptron:\n",
    "  \n",
    "  def __init__(self):\n",
    "    self.w = None\n",
    "    self.b = None\n",
    "    \n",
    "  def model(self, x):\n",
    "    return(1 if (np.dot(self.w, x) >= self.b) else 0 )\n",
    "  \n",
    "  def predict(self, X):\n",
    "    Y1 = []\n",
    "    for x in X:\n",
    "      result = self.model(x)\n",
    "      Y1.append(result)\n",
    "      \n",
    "    return(np.array(Y1))\n",
    "  \n",
    "  def fit(self, X, Y, epochs = 1):\n",
    "    \n",
    "    self.w = np.ones(X.shape[1])\n",
    "    self.b = 0\n",
    "    \n",
    "    accuracy = {}\n",
    "    max_accuracy = 0\n",
    "    \n",
    "    for i in range(epochs):\n",
    "      \n",
    "      for x, y in zip(X, Y):\n",
    "        y_pred = self.model(x)\n",
    "        if(y == 1 and y_pred == 0):\n",
    "          self.w = self.w + x\n",
    "          self.b = self.b + 1\n",
    "\n",
    "        elif(y == 0 and y_pred == 1):\n",
    "          self.w = self.w - x\n",
    "          self.b = self.b - 1\n",
    "          \n",
    "      accuracy[i] = accuracy_score(self.predict(X), Y)\n",
    "      if(accuracy[i] > max_accuracy):\n",
    "        max_accuracy = accuracy[i]\n",
    "        chkpt_w = self.w\n",
    "        chkpt_b = self.b\n",
    "        \n",
    "    self.w = chkpt_w\n",
    "    self.b = chkpt_b\n",
    "      \n",
    "    print(max_accuracy)  \n",
    "      \n",
    "    plt.plot(accuracy.values())\n",
    "    plt.show()"
   ]
  },
  {
   "cell_type": "code",
   "execution_count": 0,
   "metadata": {
    "colab": {},
    "colab_type": "code",
    "id": "vc86oQxNY_Oh"
   },
   "outputs": [],
   "source": [
    "perceptron = Perceptron()"
   ]
  },
  {
   "cell_type": "code",
   "execution_count": 240,
   "metadata": {
    "colab": {
     "base_uri": "https://localhost:8080/",
     "height": 364
    },
    "colab_type": "code",
    "id": "lmMEZ-yUZDFM",
    "outputId": "1e58a74f-e4d1-4548-ae46-020aaf4c392b"
   },
   "outputs": [
    {
     "name": "stdout",
     "output_type": "stream",
     "text": [
      "0.927734375\n"
     ]
    },
    {
     "data": {
      "image/png": "[encoded data removed]",
      "text/plain": [
       "<Figure size 576x396 with 1 Axes>"
      ]
     },
     "metadata": {
      "tags": []
     },
     "output_type": "display_data"
    }
   ],
   "source": [
    "perceptron.fit(X_train, Y_train, 100)"
   ]
  },
  {
   "cell_type": "code",
   "execution_count": 241,
   "metadata": {
    "colab": {
     "base_uri": "https://localhost:8080/",
     "height": 34
    },
    "colab_type": "code",
    "id": "6seEU3OuZGGV",
    "outputId": "75da8176-1008-4d7a-a8f8-fb5f22acdbdc"
   },
   "outputs": [
    {
     "name": "stdout",
     "output_type": "stream",
     "text": [
      "0.9473684210526315\n"
     ]
    }
   ],
   "source": [
    "#accuracy on test data\n",
    "Y_pred_test = perceptron.predict(X_test)\n",
    "print(accuracy_score(Y_pred_test, Y_test))"
   ]
  },
  {
   "cell_type": "code",
   "execution_count": 0,
   "metadata": {
    "colab": {},
    "colab_type": "code",
    "id": "qZrKu5jkZMNK"
   },
   "outputs": [],
   "source": []
  },
  {
   "cell_type": "code",
   "execution_count": 0,
   "metadata": {
    "colab": {},
    "colab_type": "code",
    "id": "YnzxMo0_Zl-S"
   },
   "outputs": [],
   "source": []
  },
  {
   "cell_type": "code",
   "execution_count": 0,
   "metadata": {
    "colab": {},
    "colab_type": "code",
    "id": "I4RADz-WZt2l"
   },
   "outputs": [],
   "source": []
  },
  {
   "cell_type": "markdown",
   "metadata": {
    "colab_type": "text",
    "id": "2khTGuyYZwX7"
   },
   "source": [
    "## Learning Rate"
   ]
  },
  {
   "cell_type": "code",
   "execution_count": 0,
   "metadata": {
    "colab": {},
    "colab_type": "code",
    "id": "hpQo3vVkZ0B_"
   },
   "outputs": [],
   "source": [
    "#again write the class Percptron    .....\n",
    "\n",
    "class Perceptron:\n",
    "  \n",
    "  def __init__(self):\n",
    "    self.w = None\n",
    "    self.b = None\n",
    "    \n",
    "  def model(self, x):\n",
    "    return(1 if (np.dot(self.w, x) >= self.b) else 0 )\n",
    "  \n",
    "  def predict(self, X):\n",
    "    Y1 = []\n",
    "    for x in X:\n",
    "      result = self.model(x)\n",
    "      Y1.append(result)\n",
    "      \n",
    "    return(np.array(Y1))\n",
    "  \n",
    "  def fit(self, X, Y, epochs = 1, lr = 1):\n",
    "    \n",
    "    self.w = np.ones(X.shape[1])\n",
    "    self.b = 0\n",
    "    \n",
    "    accuracy = {}\n",
    "    max_accuracy = 0\n",
    "    \n",
    "    for i in range(epochs):\n",
    "      \n",
    "      for x, y in zip(X, Y):\n",
    "        y_pred = self.model(x)\n",
    "        if(y == 1 and y_pred == 0):\n",
    "          self.w = self.w + lr * x\n",
    "          self.b = self.b + lr * 1\n",
    "\n",
    "        elif(y == 0 and y_pred == 1):\n",
    "          self.w = self.w - lr * x\n",
    "          self.b = self.b - lr * 1\n",
    "          \n",
    "      accuracy[i] = accuracy_score(self.predict(X), Y)\n",
    "      if(accuracy[i] > max_accuracy):\n",
    "        max_accuracy = accuracy[i]\n",
    "        chkpt_w = self.w\n",
    "        chkpt_b = self.b\n",
    "        \n",
    "    self.w = chkpt_w\n",
    "    self.b = chkpt_b\n",
    "      \n",
    "    print(max_accuracy)  \n",
    "      \n",
    "    plt.plot(accuracy.values())\n",
    "    plt.ylim([0, 1])\n",
    "    plt.show()"
   ]
  },
  {
   "cell_type": "code",
   "execution_count": 0,
   "metadata": {
    "colab": {},
    "colab_type": "code",
    "id": "SMELCT81aMcQ"
   },
   "outputs": [],
   "source": [
    "perceptron = Perceptron()"
   ]
  },
  {
   "cell_type": "code",
   "execution_count": 248,
   "metadata": {
    "colab": {
     "base_uri": "https://localhost:8080/",
     "height": 368
    },
    "colab_type": "code",
    "id": "PkWE4Hf7aMW7",
    "outputId": "15c67d46-1c4f-440d-d6b1-492e30a8a552"
   },
   "outputs": [
    {
     "name": "stdout",
     "output_type": "stream",
     "text": [
      "0.94921875\n"
     ]
    },
    {
     "data": {
      "image/png": "[encoded data removed]",
      "text/plain": [
       "<Figure size 576x396 with 1 Axes>"
      ]
     },
     "metadata": {
      "tags": []
     },
     "output_type": "display_data"
    }
   ],
   "source": [
    "# hyperparameter\n",
    "perceptron.fit(X_train, Y_train, 10000,0.0001)"
   ]
  },
  {
   "cell_type": "code",
   "execution_count": 0,
   "metadata": {
    "colab": {},
    "colab_type": "code",
    "id": "oDWl7RaLbebc"
   },
   "outputs": [],
   "source": []
  },
  {
   "cell_type": "markdown",
   "metadata": {
    "colab_type": "text",
    "id": "vMR_EoYkccqD"
   },
   "source": [
    "## Weight Animation"
   ]
  },
  {
   "cell_type": "code",
   "execution_count": 249,
   "metadata": {
    "colab": {
     "base_uri": "https://localhost:8080/",
     "height": 34
    },
    "colab_type": "code",
    "id": "6HEtgM1YcgAT",
    "outputId": "bf5306e3-5081-4600-9409-6ff55e4ff095"
   },
   "outputs": [
    {
     "name": "stdout",
     "output_type": "stream",
     "text": [
      "0.9473684210526315\n"
     ]
    }
   ],
   "source": [
    "#accuracy on test data\n",
    "Y_pred_test = perceptron.predict(X_test)\n",
    "print(accuracy_score(Y_pred_test, Y_test))"
   ]
  },
  {
   "cell_type": "code",
   "execution_count": 250,
   "metadata": {
    "colab": {
     "base_uri": "https://localhost:8080/",
     "height": 347
    },
    "colab_type": "code",
    "id": "Vz2b7anUcsAX",
    "outputId": "ae4022e0-8b44-4edf-9e2f-a169de3be139"
   },
   "outputs": [
    {
     "data": {
      "image/png": "[encoded data removed]",
      "text/plain": [
       "<Figure size 576x396 with 1 Axes>"
      ]
     },
     "metadata": {
      "tags": []
     },
     "output_type": "display_data"
    }
   ],
   "source": [
    "plt.plot(perceptron.w)\n",
    "plt.show()"
   ]
  },
  {
   "cell_type": "code",
   "execution_count": 0,
   "metadata": {
    "colab": {},
    "colab_type": "code",
    "id": "zJFR-jd3ezRL"
   },
   "outputs": [],
   "source": []
  },
  {
   "cell_type": "code",
   "execution_count": 0,
   "metadata": {
    "colab": {},
    "colab_type": "code",
    "id": "eAa2tMLkezea"
   },
   "outputs": [],
   "source": []
  },
  {
   "cell_type": "code",
   "execution_count": 0,
   "metadata": {
    "colab": {},
    "colab_type": "code",
    "id": "dBvT8O4eeziZ"
   },
   "outputs": [],
   "source": []
  },
  {
   "cell_type": "code",
   "execution_count": 0,
   "metadata": {
    "colab": {},
    "colab_type": "code",
    "id": "TMdonYwMeznN"
   },
   "outputs": [],
   "source": []
  },
  {
   "cell_type": "code",
   "execution_count": 0,
   "metadata": {
    "colab": {},
    "colab_type": "code",
    "id": "w5RhQnLSc6mW"
   },
   "outputs": [],
   "source": [
    "#again write the class Percptron    .....\n",
    "\n",
    "class Perceptron:\n",
    "  \n",
    "  def __init__(self):\n",
    "    self.w = None\n",
    "    self.b = None\n",
    "    \n",
    "  def model(self, x):\n",
    "    return(1 if (np.dot(self.w, x) >= self.b) else 0 )\n",
    "  \n",
    "  def predict(self, X):\n",
    "    Y1 = []\n",
    "    for x in X:\n",
    "      result = self.model(x)\n",
    "      Y1.append(result)\n",
    "      \n",
    "    return(np.array(Y1))\n",
    "  \n",
    "  def fit(self, X, Y, epochs = 1, lr = 1):\n",
    "    \n",
    "    self.w = np.ones(X.shape[1])\n",
    "    self.b = 0\n",
    "    \n",
    "    accuracy = {}\n",
    "    max_accuracy = 0\n",
    "    \n",
    "    wt_matrix = []\n",
    "    \n",
    "    for i in range(epochs):\n",
    "      \n",
    "      for x, y in zip(X, Y):\n",
    "        y_pred = self.model(x)\n",
    "        if(y == 1 and y_pred == 0):\n",
    "          self.w = self.w + lr * x\n",
    "          self.b = self.b + lr * 1\n",
    "\n",
    "        elif(y == 0 and y_pred == 1):\n",
    "          self.w = self.w - lr * x\n",
    "          self.b = self.b - lr * 1\n",
    "          \n",
    "      wt_matrix.append(self.w)\n",
    "          \n",
    "      accuracy[i] = accuracy_score(self.predict(X), Y)\n",
    "      if(accuracy[i] > max_accuracy):\n",
    "        max_accuracy = accuracy[i]\n",
    "        chkpt_w = self.w\n",
    "        chkpt_b = self.b\n",
    "        \n",
    "    self.w = chkpt_w\n",
    "    self.b = chkpt_b\n",
    "      \n",
    "    print(max_accuracy)  \n",
    "      \n",
    "    plt.plot(accuracy.values())\n",
    "    plt.ylim([0, 1])\n",
    "    plt.show()\n",
    "    \n",
    "    return(np.array(wt_matrix))"
   ]
  },
  {
   "cell_type": "code",
   "execution_count": 0,
   "metadata": {
    "colab": {},
    "colab_type": "code",
    "id": "9hLZf0HZfKaj"
   },
   "outputs": [],
   "source": [
    "perceptron = Perceptron()"
   ]
  },
  {
   "cell_type": "code",
   "execution_count": 259,
   "metadata": {
    "colab": {
     "base_uri": "https://localhost:8080/",
     "height": 368
    },
    "colab_type": "code",
    "id": "Q1k2_MxWfKQ_",
    "outputId": "955f3719-e908-4d1e-a710-71ae98c5bac9"
   },
   "outputs": [
    {
     "name": "stdout",
     "output_type": "stream",
     "text": [
      "0.927734375\n"
     ]
    },
    {
     "data": {
      "image/png": "[encoded data removed]",
      "text/plain": [
       "<Figure size 576x396 with 1 Axes>"
      ]
     },
     "metadata": {
      "tags": []
     },
     "output_type": "display_data"
    }
   ],
   "source": [
    "wt_matrix = perceptron.fit(X_train, Y_train, 100)"
   ]
  },
  {
   "cell_type": "code",
   "execution_count": 260,
   "metadata": {
    "colab": {
     "base_uri": "https://localhost:8080/",
     "height": 34
    },
    "colab_type": "code",
    "id": "-tScsHCAflah",
    "outputId": "302d78cf-b46e-488a-f012-3d5548dafe60"
   },
   "outputs": [
    {
     "data": {
      "text/plain": [
       "numpy.ndarray"
      ]
     },
     "execution_count": 260,
     "metadata": {
      "tags": []
     },
     "output_type": "execute_result"
    }
   ],
   "source": [
    "type(wt_matrix)"
   ]
  },
  {
   "cell_type": "code",
   "execution_count": 261,
   "metadata": {
    "colab": {
     "base_uri": "https://localhost:8080/",
     "height": 347
    },
    "colab_type": "code",
    "id": "eVprp2iNgCOL",
    "outputId": "cf796006-cd93-4295-d406-2c095ddb7a16"
   },
   "outputs": [
    {
     "data": {
      "image/png": "[encoded data removed]",
      "text/plain": [
       "<Figure size 576x396 with 1 Axes>"
      ]
     },
     "metadata": {
      "tags": []
     },
     "output_type": "display_data"
    }
   ],
   "source": [
    "plt.plot(wt_matrix[-1,:])\n",
    "plt.show()"
   ]
  },
  {
   "cell_type": "code",
   "execution_count": 0,
   "metadata": {
    "colab": {},
    "colab_type": "code",
    "id": "J5_ytGvvdRwp"
   },
   "outputs": [],
   "source": [
    "%matplotlib inline\n",
    "import numpy as np\n",
    "import matplotlib.pyplot as plt\n",
    "\n",
    "from matplotlib import animation, rc\n",
    "from IPython.display import HTML"
   ]
  },
  {
   "cell_type": "code",
   "execution_count": 269,
   "metadata": {
    "colab": {
     "base_uri": "https://localhost:8080/",
     "height": 269
    },
    "colab_type": "code",
    "id": "PANfI4MmdhEf",
    "outputId": "127c30c8-069c-4bd0-ee45-9eb3f2c6f238"
   },
   "outputs": [
    {
     "data": {
      "image/png": "[encoded data removed]",
      "text/plain": [
       "<Figure size 432x288 with 1 Axes>"
      ]
     },
     "metadata": {
      "tags": []
     },
     "output_type": "display_data"
    }
   ],
   "source": [
    "# First set up the figure, the axis, and the plot element we want to animate\n",
    "fig, ax = plt.subplots()\n",
    "\n",
    "ax.set_xlim(( 0, wt_matrix.shape[1]))\n",
    "ax.set_ylim((-15000, 25000))\n",
    "\n",
    "line, = ax.plot([], [], lw=2)"
   ]
  },
  {
   "cell_type": "code",
   "execution_count": 0,
   "metadata": {
    "colab": {},
    "colab_type": "code",
    "id": "oJNh12O0eILH"
   },
   "outputs": [],
   "source": [
    "# animation function. This is called sequentially\n",
    "def animate(i):\n",
    "    x = list(range(wt_matrix.shape[1]))\n",
    "    y = wt_matrix[i, :]\n",
    "    line.set_data(x, y)\n",
    "    return (line,)"
   ]
  },
  {
   "cell_type": "code",
   "execution_count": 0,
   "metadata": {
    "colab": {},
    "colab_type": "code",
    "id": "HNUNXN4WeUmG"
   },
   "outputs": [],
   "source": [
    "# call the animator. blit=True means only re-draw the parts that have changed.\n",
    "anim = animation.FuncAnimation(fig, animate,frames=100, interval=200, blit=True)"
   ]
  },
  {
   "cell_type": "code",
   "execution_count": 272,
   "metadata": {
    "colab": {
     "base_uri": "https://localhost:8080/",
     "height": 309
    },
    "colab_type": "code",
    "id": "MBCz3DJHeUkx",
    "outputId": "141488bc-e0c1-4545-efac-109b0dbfb425"
   },
   "outputs": [
    {
     "data": {
      "text/html": [
       "<video width=\"432\" height=\"288\" controls autoplay loop>\n",
       "  <source type=\"video/mp4\" src=\"data:video/mp4;base64,AAAAHGZ0eXBNNFYgAAACAGlzb21pc28yYXZjMQAAAAhmcmVlAACNcW1kYXQAAAKtBgX//6ncRem9\n",
       "5tlIt5Ys2CDZI+7veDI2NCAtIGNvcmUgMTUyIHIyODU0IGU5YTU5MDMgLSBILjI2NC9NUEVHLTQg\n",
       "QVZDIGNvZGVjIC0gQ29weWxlZnQgMjAwMy0yMDE3IC0gaHR0cDovL3d3dy52aWRlb2xhbi5vcmcv\n",
       "eDI2NC5odG1sIC0gb3B0aW9uczogY2FiYWM9MSByZWY9MyBkZWJsb2NrPTE6MDowIGFuYWx5c2U9\n",
       "MHgzOjB4MTEzIG1lPWhleCBzdWJtZT03IHBzeT0xIHBzeV9yZD0xLjAwOjAuMDAgbWl4ZWRfcmVm\n",
       "PTEgbWVfcmFuZ2U9MTYgY2hyb21hX21lPTEgdHJlbGxpcz0xIDh4OGRjdD0xIGNxbT0wIGRlYWR6\n",
       "b25lPTIxLDExIGZhc3RfcHNraXA9MSBjaHJvbWFfcXBfb2Zmc2V0PS0yIHRocmVhZHM9MyBsb29r\n",
       "YWhlYWRfdGhyZWFkcz0xIHNsaWNlZF90aHJlYWRzPTAgbnI9MCBkZWNpbWF0ZT0xIGludGVybGFj\n",
       "ZWQ9MCBibHVyYXlfY29tcGF0PTAgY29uc3RyYWluZWRfaW50cmE9MCBiZnJhbWVzPTMgYl9weXJh\n",
       "bWlkPTIgYl9hZGFwdD0xIGJfYmlhcz0wIGRpcmVjdD0xIHdlaWdodGI9MSBvcGVuX2dvcD0wIHdl\n",
       "aWdodHA9MiBrZXlpbnQ9MjUwIGtleWludF9taW49NSBzY2VuZWN1dD00MCBpbnRyYV9yZWZyZXNo\n",
       "PTAgcmNfbG9va2FoZWFkPTQwIHJjPWNyZiBtYnRyZWU9MSBjcmY9MjMuMCBxY29tcD0wLjYwIHFw\n",
       "bWluPTAgcXBtYXg9NjkgcXBzdGVwPTQgaXBfcmF0aW89MS40MCBhcT0xOjEuMDAAgAAAE9NliIQA\n",
       "Ev/+963fgU3AQO1rulc4tMurlDQ9UfaUpni2SAAAAwADlGX8N1sLiBj0NKBJvowf3qBVeSAdoAr0\n",
       "+w1zkLQt5DSFGFNFb62W88UwVaTd9YnxXo7E0gk8QwCVGTLvJMo/p32bwHcPWc448ecru0xsDvkU\n",
       "NqrCQUNQaDYn9jfI8glu83w+AMa+bWulIQAAAwGAcL1frfZX7SGDkDyeP4A1T3d5D/KOsxoR5574\n",
       "YrhIClTqXiKfQJ+03Xbf90yNXGgq60vKYsCJVuRr6Dd6I+0Y2MxeyYcj9E+/C/Vzej4iNb0+Yac7\n",
       "A3SFF4pBu5vJyAaRGYDMnZ7lnEaI5PQaxWm4TsoTXG8OQ52Vt4pvXTc028uOf4XMfisQvIFH0/Zl\n",
       "pv3bBb5aOJM18Gdv31Mp4tBnk2I2MC6nsRdrKeAoqtpEPJIkEsKEIC7tgfd2yutOQog1H5L9GWYt\n",
       "esYgaFCVQ1T8D44ZLLmK5QEp/eRL7tAWX9hgRWph2RiMXMwwbM7GNvIPYcTiR3L0qw2Zbk5XWlte\n",
       "UGR8vF4tJERgrtULSMTJXyKviNrVuqWzmCngA20C9dyVKP6/mBNww4f4CAgOY5CKX6Daf0WDawQX\n",
       "giLNMo6U2qbxW2NC2+2d+I1ByRMV/lWBGL55G5HuzCVNb0DuXVFbUa6TdkIBBWy3dq/0S8BD6PkW\n",
       "V/DUptaJejuagtXsoG7obUYrOVymiWZF1k4PIy7apYXda4gyDchQQpMkmArCc9qLdNgcO+FhRSwG\n",
       "MWjkudaRLzD9AiPNIl3/u3V5MSWXhwgoLhSHYN852rxs7z0Pq0HHCRvWPcnvFoxuYp8YNyIhGy5v\n",
       "glwFRUlSYkdjB2exkje0Fwr5hU1+vlEDNxtWJ4EVRiEuKABgYVCcakcGudcIf24xzAPunynVYxhF\n",
       "SHhMnUzKx4RvGAH3UJ1hG0I0G+3LDNdiKDOdN0sLm2YxS/nUlYNYmqBgGq7all06ChWHWCUAd6jY\n",
       "4OoJQKYMzJDHAcc3+E+RAKgog6IWuzgSHVTqm3579O/WxTloXfGEL6dw650/MpaN1uRbV9OHc3xK\n",
       "dxdaUcScGAYZZYs12fgi4OWQWenHrLU08z1+wKUefpZtovwxMAfh9k143glzzSQP1aaXuLAWQ08n\n",
       "urFUshypHnzw1PSrDwWVVkVsXk3wfEBVxGfa3t0R+rXQZVPSXUloLg/PWdstpOT6pQuClLp2PTfl\n",
       "d54NGvsR6HxtCMsZC/NT+av3mXZOt7Y8h3awV24hsLxGoWhOIXiZPMcjpJd3nz1O/kM2TDTZSgbP\n",
       "GvLNT+ZGIpCq7Fg7UBcvDpnIOCDqCjSyvDrZKTmf6nIwltJGI10uBieXmTSisAiOPkDarJiIdlxA\n",
       "pnA/AnAnEHkxqphquElCt8Qn1oTbCxzhqnR3/vz4kpc62QpGotAKjdAVUFn+PUTAbvYrV331GZQP\n",
       "zq0ehe+/644R3sY1t/vA9a7IfkWIkFEjRyO0xSNs1iZ/Ol+PZTCMxEwCy/qCM9L+RwWI/LAE/psl\n",
       "mbRQIwuWibFKTcYCbMWwHTOAVSPR+fzPM5BNOcVdUnf7/v8swP8tANiwsKrLL3Wb9J8tf+/sPiNT\n",
       "8YhfSaleS2PfoByan7RvBl+iuJwHGtlTvCwO2Yiw/VdDx4VZkxXNRKSMQDVqOON3aeEejTHecke7\n",
       "3rz0n6yx62/NGaP2AWfD+7QMfzbUxVwa8ECFaNLeIp56cNtwa5SUmzUuJx05mSMxFckJFuyd8lgm\n",
       "KYm7bJHzJfH7tLkirLbNxa245y7fx7DrHIk5l+lh/VFiAQWsPwUyWfV8hyu69F2Q8xnA7/J/W5ud\n",
       "0bKEERVZQKDDfpJ3WHPj/W6Glp/5UcaF65gAcRzgDyPhJp+x33BcSAHd+T58V9fctrai2oG6jXdX\n",
       "eiYZX8VuVlaiY1x8W/SBu55jxOOAjSrZRQqkbHnOQZyeN6xDLLHC2gAAAwH26LHbHZSnwAxindG1\n",
       "qdi9Bi1fYCDpNeq7nG1uG09/cYRSvAcYbmGJKzBbnI1lc3DrhJVGKXQkJcCPyzZdaDeDmxyzvg5A\n",
       "tXfACjPFkCIR029ML7GkeSCb9lrggOtoTensXjwlKC0JVdV7CrEQDCK4exZcLrWqW8oOixlz2MZY\n",
       "E43Y6l+7FIXsGCG49axL9K4hPuD0ya0fA0Af3nMFVaw5ym2GJOOXMHXj3scFZHtT//3WkQEUvRao\n",
       "XgOLxVKukC8HBoNNR5mcgJyezWZWPIoiqs/c+S8DXafUHVntxUyCrTZLUUhAsgO/uMU8eMQ9rMx2\n",
       "3i21/kFH2MxuiAi8WtyMeeh/qleytQ8EiTctYp47305sljrCMAREqRsqhONjqd1Lp5NQveHhAoi9\n",
       "nshQU4HD0Mc6m1mpxJyMrx6NIHOwUDtNLPlUNlEXAPnL0JOaHzkWqJqiSTCLLJyoNV9xDrcy+lxU\n",
       "8/PMQxX23WyA6IA7vkGa1ZSyY/+r+/dxi26X+D2vCRqgCntQwegDrDFPV+mE+Dj+hl2V2yQNZSzf\n",
       "UBB+w9e9uPorSyViA2N+9wTlgYd9C3Yr/XP9Ur6V9lm4SjhID28Iy3JAEs3P2SZEW5xpXTWuK3/1\n",
       "nQYTS8moVcf7RokfVV/yPX9KaLuQbkaP/wT/6W5jDBILUtQTlhzFuyaSLypyzz//uX4uc4YQB2/6\n",
       "1fL1SoR74MmuZBw+DSpZcl0YoPr5kYAKv774oR8lMH8mLv779Dg9Wb0bxXDj0e+/Uq6+8sqjIXaS\n",
       "e8lby6RsvONomPXKJx5NptfXHfotYjJvXpACR10hmiW9umJiQMm//4mI8WNPRhQ3RnnpMS0LlVSG\n",
       "3P0AJZDQVJzk/wAPcoAaFg3y1zzHUIgWkdNbcFsPgDF7aUTl57blCvFE2YSY1JjD02P2zdJn5VO9\n",
       "RwZhln0cPxoVWtX9wQhstxjmZkNfM6XOfiOsvtFYeNYV9gwXK4jOB/ahUoG8Ir63Y4TzTAKtsvHu\n",
       "FCszjkIAWOYCiEIc94C7T2SQ6+R+qFfuCDIM4MRdiTcTdu/EJFfq1dtD0nO8ySOxrGntXJ7EJbcw\n",
       "2TvUGPonMpNB4GyH/j3wW4uaRRZNUcnR/3G0TiahRENwXT0NMTJWfXPCSQ+FyJotsd511T6fRuEr\n",
       "Ml9A2dqPAp8IdEEnQs7/fhBq+gjLd0HX1a4o6xp/doWxFXxBgV8SqoeaDiIRIOTFh/HPxq1BrB5q\n",
       "Jc6NHiR3P/7rBgweeotER+WKgmMbESgUtIOqKBG74j6RVVrbAKaIFgVTLHEO+Ic9HVXOdaYXWRuP\n",
       "bDLdGpFrz0WldCaTf8CEXY0qXRmYUwoSfGs9JbXgSk23GR00ef4B8MtF4ooRLdNDeZT2iFbElgvD\n",
       "CtGETnruNboob7BPdnUDnyD55lecwlfC8Oj8lc7EEj5ck3U/3Yd5w8FHViOO5j9VmyDdVYUNRXC1\n",
       "YltC0t7EBFui6jGlzhRhcP+QUM40eBdp1fdnA/PtBptip6cTjaQTe2a4+zNrP7habh+/fdxIQXuj\n",
       "eBaK6IZWPuZ0ovSlvNE1GYfKHrmdGN7xoY5MHBJNYM7aNDYglgIgQ4F5sG+lhow637S4RahAUGxK\n",
       "tJ17CC2lsYgYM0ND1f9Zn6DSWGQRpnObKaocmi1aq4yLWM4G/F7ndIWHax4KTPrqX04n6BoT5qA0\n",
       "I7NQ21M2HwgNSvfhIEBxyZUK/kcMpiXKAEyaWqdz6Y1em/81Z5JPz2p7LUMh5v2iIGZz+EUqfyEv\n",
       "JawFivCsBeEKkeTntJwjWUN8PCiaHNm4ex1FsZ7IXmuwb/AN6Ncga5KJdyfssXi5XLjqfJHyRSIk\n",
       "hxuHl3oqi1wenaaLiucPr8HAS/UHnoP4ISJc7V30uwXYTUMbQGTsm9ImS6kLJ64tKBP8EvfCSqiE\n",
       "Lfh1B9jIvVUqv6JS2lT+4BJAIc8UfZQsTJqt4QGI9nFwcwNYTzRuz1F8h60sB+/UOibkDNs8vq7+\n",
       "qqxKS0k+R3CgqZs0JEqdeZhipqyfwCBTcUn6JYRJ29CZKDUg4Z6ycdqqxQqCohcMrlQD3dVhZcsb\n",
       "/IXI+5daJY5sT0/eUwW5ckE52RWS36Ax4P4H1ck7JEiy2RFrU0ZhxxAdgdEIMB26MHJ//rJ33e/p\n",
       "R+JAci2n913RQn9qq5hMyOBpk03nirSMqpWh5mCBccVq9VR4INvUw8p0rQj4Xm6H58GnlT10IixX\n",
       "1CicaKC8R/Dkt7g3i95dW3QevYRA0sDDmoR0JKbUPLEHeH1rLAxGxdMQSBAMxODcZkj8nrABOUdn\n",
       "lvnNht8t8U1krtx7Ul1dMi2DMme18PazSQsQNe1eygdnxyEh86OoGN5ZCW9arBsbzKxlyNthtDw+\n",
       "a8xDoMeulKjMDMG/hOabcmUpri8eglq7d6FvBe2VF0TInAXuajNitd9f5kzquOrbKjPxMjtLP6rp\n",
       "oJfLyL5ZJ7fG+OURoU/EF9Z4gwvEsIR9qGveEc+ymSG238WFabcFsd0PwYITqxKa0M0QZDUwkAZ6\n",
       "0kbkA13IS6CefY0irm6uLzPHYwAsFvMysERuppfmtROjDZGKDSQZWgwheEMEmVSrrhyDrMjvCQ38\n",
       "hniAayLes5KMryMRJ+lwnC880hFB39J6IzRbFqmXwwGpuFSJI5a+jy/j8xiuZfvoXM3NRWBTaGBn\n",
       "HvcooQaXQOnLdJ0eXxbLftDIeyVFyeFUb/oxGewyFigOSCpxlyRyT4Pkzu1+ebdc9k3zRqmIPJxN\n",
       "H7Q0VJBW0RAYF/rA6V9O1WFR2CiuD0ZwZaONvpsEz92EQG8vYCknLpNLBliXYyanqHwE3ys1vHuX\n",
       "5xK4Y5IHGwQjp56FEQK6tcnjEC77iM6yfucBxMh0SBkVFNs4AOwqiz+LMLQT3Lb0/f3cw+ncuCdB\n",
       "YQdWVEJjEMyjYZ11ShPYH8b9EmYEKsBxXb7VQcBF/wTYT3k70ELmyglQzKuYY/9MM44oYbLUzGho\n",
       "FNKl7GqqOTfVVZua3K9LPH5SN3zp2x0Ow0q5PzKsYNaQwjYmZN8RO/Xw4svCoxxAEpXUDgf+1Piz\n",
       "I1URxM7DykKT9B42EaUwb917QwGQA5F+ecWQsth5m/ueRr4hViHLqW6DHU02jeL3icLjRJgLLSPp\n",
       "YfaYJBG256Z+gB2NdoFY1ThHh6vy9OTna79VctHiFdfWxB6foC8NtC5wUQqwzG2TRwOIcLFT4Onb\n",
       "18YsMI4XDWvuD/ogIG4P3SWYRb38cv9gq3ThBbhDnzLg1jbA8OUJ4ljyypWJkX7vRzHXwV8lOOe7\n",
       "CWGswt9WZgfdoUfW6bkwul0NUhmpLex2Jd+DIbwRpzTbop4Ibc1lqa4XCZkPpKAFJWASB3mAvNZA\n",
       "7YKi4TiuFOGpMD3r/7yHGox8RnloyBUiBvc17h650/+O2zpd7Sz9Ro2CQ6UGKvKailHj22pc/lZD\n",
       "/5WySvoonrVXKTDfsBet7uYsCxsq9h3WMz5o9m3v/aAKzNnX8kzceiBAdIEuvcnB1UPHAPTnd73W\n",
       "oK1axAh/ck3pNdbDKaqOvm3wlKR+PEm9O8PpOADTP3kK9bBBLJj5OA5VTdDjEda2CxpuydaaiQwK\n",
       "LfZ9j5DW4TDQe3KOFY2QiMdhxevvg5ljHu4WWAYc8Ah0ipQ3pJLQp8Qn14OQcjdm+0T58s2LErUV\n",
       "cVgZ46gk9MuGm7zLqgGuy0+LceqwJjKaNDoe8sgqw3Ihn3ZR4WgBR47W3V39APJ6yL1VFFD5gOBj\n",
       "d76ZrDgkSsAW6+QkccXGho8he2he/Zcu+PvAeQRmmfU4j6lTPsV0cnrXLVydp47iM3qD8IQ8OExS\n",
       "0CJbYJy9x5Ku+wS8fi7gg0wHm3q00aq9ZNTL1quiUqh4az6z2Qh0pEuUVZ9gQlm1cpQzeFMXhZtS\n",
       "vRZ+WNhwKMUdl4cFJ/SS8yeqSZ/XHqZ4IoUCqcKr9lonosXb3yaMrsoE9+s8Jj2CLxcnsOKAyJbl\n",
       "dqLH7uEVC60HOmV+6N0TIAcF12RX6mbecmzh0QpRdc0kDOXzQEtk2aBlixLEY4la7IgJo1Yo0eKY\n",
       "UiBQVfW66cEBxFe0sSRGsLtmorRnDq4MqUQlK2WxXgd+wxfDcbGP5JWTl4duB/6NCoI1m8YOnNDB\n",
       "wN0MOpmDxX7KMiAAsXyzCJo0sDPTpSR4gvIOeoEFePm5+GP9MqGOsmq0byBWQ1VjfdKiq6xlRT6n\n",
       "KPnb41x0EaFU/iD2CPunqS2ju6rfGWDCX5h+9BYINQGjVIGKxsCE90C9etXsW91yNsU0vY7nNbiN\n",
       "Zv8GebFPYbMjuZt6FBinPR1vSEZfqj2tYIndNiYaY0j7uU5JzuoLAYeEoOJK4jx05IsUb5FTHbfu\n",
       "wWOo9L/qC8e4FE/N/wL7YY0ZkOth+gkBZvl0xMUaWRIYypf3KBmEcZmFI6TkPaPmX4sjbFlTow3O\n",
       "KVCRJuaaoNWJ675emiqEYlr91SYrZcv1wxv0pq7WKjwYrc1GtC2rYw9FDuC92S8YhqqiDfzKMRTH\n",
       "pDO/BRYXp5tvgkuQgYH5jjjR9Dm1LHi+7I1+IWVpNWUQJhGPqRlSHZlI0Ly7+u6JDFu2ojKmAW4R\n",
       "j1k2Kl48vp7nK2DXb3kI8YDCPYJeCeoiE+JilXe+3wiOM9poEOljh2AtV658A5moQIMR7vGm24yM\n",
       "phnnD/X9oLi0BBOvHJvZNcjllk8IMusajD+x+sdsJ96Ntfvwr3ZoAoRYsCtcnTAurjoTXSXTCeqk\n",
       "qISxtA9TnhJUMmk6/yTKPAu61n2gbCBH0eILuhritOphRyjf7ifmWGAXgmT/srMMS4AAAAoBSwAA\n",
       "A8BBmiFsQS/+tSqABqM6nBd5hBN8QomkAZ1RBp3BlXSNNOp+Jctn845FQMCf1R/unzrCycL8SBfw\n",
       "x8Ou5VQuLkq/8kFdeVrzL650Hh6lua9dOS4VuffBu4z4KmDSza4Vg2dIFu478okBizeGegGzH/MG\n",
       "Q3xFDvFTlRr2VpBh7JaV67CEkvushoA3XGd+RBB3rtNJXyVrdX2awTwJRdthma9R/8rmTrXjvV7B\n",
       "JNRlIuk35elCe4fu3f4QiPxg1oqgMmb3vWm4TZfeEdZdNaJ/LIGwpjkegXNp2CpXktsHN57okFY4\n",
       "+Gz3weo7xfLcows96FHXL5AKTuQNkmcFvqZvmA5oiD0J99mw1NBL7XE0xBZBhqd+o1QxEyS+oj9w\n",
       "W2jZYHCpcP1X6fGocAlTm7MV3UgJp8Hq6haNkLNbtR9p4SWIchQy48494w9ZTmuyxVAtitRd5Qu+\n",
       "LMU7oPvBgwYSsL733ksznp0q9VsnAaRqtX/NwhP1DoHQ300kyN7BUsmGtkVmrQfNcBQrFOIORLeo\n",
       "JQiI88xPGEwsOl+kI+s7JJoJ0d9TormNNIK1nMvXqiuFSHbMhS7hNSADwJRZhtMgMT93VlN+e8wH\n",
       "T9BMNT7Qyga70B2IoUR3AXou5pZpE1EfriLnH1aixkcqkNsAk7NHanukN0D+8eQSxDUA+w5LOpG2\n",
       "jvj2O5f++L2AKirFk9a4t8cTLp4x2JBMIbLyIE7rZtDyChFnlEpNLfX3DW3rG5ZZrAEsKRtztZ74\n",
       "QHug29c60QRIXj5ez60jDkgkAAfztX6pusAilopzL2ViW8Q83+AJo+jbBVdSJUVSXh4qDn9aYt5t\n",
       "5WRssAkd897XICyGuCJUpc4+gj62WL5NuP/cy6B1eSI3D7GFJAWod4PqAZfa/PJFKFdrj9touTBB\n",
       "FYJn+V/DJ3t0O8E/vfJ6nfXGz2c8wzuVSc/fu+2x3xhjxildE80GDPSNHbqydwyTe9r5NT7qkR0D\n",
       "k+KiCL3rJiMNVQaTjbsf3zs5UMlbUYWPklIs7QDCo0zVe9ft7yKYSK09G8jJgt6LIlH3LX3KiSL6\n",
       "4FvCy3eIZaCinEK2ALH2xsyiX+LURQa2sJsifn21tbQnT3p0Q3GqonK7SKc0HFgHRrpw9MRUTef3\n",
       "dgSvYM6y7CPtgo4bbfVpk0AyCxu89Sz9+bvcNdhkaILfoFD/rB3lDO0wlvuRxe5g33X8fw2nJ3UY\n",
       "UuZPeOiT+aSYZyIwQlZuZ8mkphxo2J7xp30/EVvlj21FN6RDA8UDgr2bUCZKzBxyEiAAAANoQZpC\n",
       "PCGTKYQS//61KoAAb2k1hziAG7cbMDAv8QBjyzvPhs3ivJy0HMAEXIrw1+/Rj8bn0hQoM6o5HU9b\n",
       "u1FoJ/iGK2vFjV3h5qu1M711p21Nn4YaMLicdBzWL6iM3gOo2q4SPkh89J59NVJq3Ir6IZU6HsFv\n",
       "ROza74B4M6yP+nj7jlOrb7sK+vhHKUlFTUyYSIIa/mqgASRmhX+lKY+1vF2AlkaTcEgxEVCKmT9B\n",
       "eH8pWI6SYBJjgkbJAnlltMvBqUY4uNeyvMF6dLDu1z9hRQcYqfNYhei7mrk2gwse8btMV9X09HvG\n",
       "vQbVQ0XDWogjk+OmhEhOtx2kdnxcOgTxnWo80VsBpDYzQxZlgJZQtjg8FYYahkCTUgOLYfpzUO+y\n",
       "8Q91fCA8ggx6aW2kj+xpAYMdaWNGOta7nfKhPeA0I2dnGSio+MMvYmFLgwzocbBHtwpoSWWpMHK4\n",
       "BB6vDKqCxoZB5u/8nUqdPoeWjOcS4lPNlqEAj68bMKUWk7bKSrwJSfO43+6Z94m3kJC7o67WJFJw\n",
       "C1qY6/fRi8ldgca/a6F/jcTP9gjpfW5X0mYWHHIDXgDk1r88YwjoFsGRFIw8CDP2EQNZ0Y95i2Jt\n",
       "f3faokY3rM+ZNVZ2emOl0qI0zKWXverC988XDjKlMXO3Z13DvjJjnrYR+8yHoV6ai4gTBsRzslNh\n",
       "1PrkHxfA0ZYzn1c6dTthdST/B3Hf/MF73FveEAlI51VW2D+wb0/nhYBc5RrPmpjUpH4fdYjwrKT5\n",
       "eGtK1QOLOsVulfloJ7OLu2TPOGKcUR9WnqSkmVx603YW2WCKZE1tM1ZEcZDBb5keq5NEQHV9ci9G\n",
       "ad3yZhbdqbH0K0V6GhHvNLnNNLKwwHYdlRl7Bn2Q2PDeH/dgLOtSjXrV2bqaJMZww5JHKIJebjKO\n",
       "F3DzJh3JwT1QTqQINfTQHqdcQKqFworqC3lAh6mUqoLazuSMCo70QpKj7/phAZpSvjZYI5AdMIVF\n",
       "2qB3fVKJknWEPNhw2jatJUbgXeRioNcz9lb9tp2K3XdlIvIlixl9q/c+pbHx1Hz6Tk7v3JzkACAq\n",
       "DxqgyEeMkX/g1l/5CiETTzNqC2xHkBYpo4qBAhMDTkW+P+qfVssmgDLjw7psDDEHDDlbC9+I1boF\n",
       "uCnd5C4fQTuBDHp7n+EAAANDQZpjSeEPJlMCCf/+tSqAAN5w29IW2leK7x73lUGq2+E3kiWfvTqC\n",
       "xiO60Z26rByWOwHfmAOaKOW3iVLoUUiv0ELbAhSxhQq4KD3GcEotbtztiNvrEc471TrgFBZYa6ub\n",
       "9EV06pMSqOH2te5GseXQJiDlCjtNWlCWOSeORq9ZxneZaURP5fzR/HeI0OGOPWYpJTo4+hU5E5qw\n",
       "IZAD4GYDugOUl7lGw09+S1MIKfxFGMBd62IaqG4AV/TxH8DjMvgkjuo8EJGYQ39m1aKs0BvZ3u/i\n",
       "WysQrFNshq+q2ztU0LYJOjOi8c6lT3KJjhcQHef9T0KhTqILOiKmb4AavRavIQlFR43T66e2WWl7\n",
       "ZgrwlRfHscmLSPqP38zULtMSpxphZnlqJw4h5NNC43+a9LKRBbopkdfvR1A7miGjFHNWI7M05jhi\n",
       "cr8D5RjGH8Wa8JCLkspGlsUw4MI52aWVvhqGCM+knT/LTFxIEFEs4Diu8daELd10aoJRGU+AhdYQ\n",
       "F9jRAZJrio1hT8aQ9ji1mpFaGA8Mfh1l9cubMNa0wAl5P1V2CnE4nQmQiWcyL6kf1XPC6MSU2yEO\n",
       "cAl+bi/ezMUsgUKXxyo52WR+k5VwTQh62MKBQUPlhAhe2TnFeFgs62LLdWgCRIVO3od3GFHsd01F\n",
       "efnCBkpMiocK/Pva+JbaQ/3Fp+hThZTybCjO3tEVKbDiwTXDUuzgBe9XtMF9+Gwx0s+IyiMY6SC6\n",
       "iz5sRuVjd/FVI+qikIi8r15nDef3k1YAAbKHkWj0nIvWP1QSZ0R1eJ1RzfFWO3SXLb24HCnsv76S\n",
       "7uUGfj44pSX14LTg7JupOw3Ti4l+zzeNfPKR74yCN37e6vD47uvsoVarWeLb+g6TDd9u+abpTG6l\n",
       "OaWYwpoVllrz/ASTwKlvN1RpnWqaZZ/8cTcBjnoE+ReB5Z0tKb3lPy5Q/EcuR/TWLWbcczAwSDtK\n",
       "7IQAwA4w1MaeYPmPzQrlPAgQ7E+WE5xyZOqicHEiszGpQJmo9JyykeOQYj/F0aa2OT9nT/0s/BfJ\n",
       "I8ZMa36gCD3K9BAkX1vAeX3mjfkfFzhbt/fxDWfE8yIkF8CEWOxjzNkQTAPId5vL3v8KX3IYMAAA\n",
       "BHZBmoZJ4Q8mUwIJf/61KoAA30JQAWRABFL4WG1Hlnx7qAAU9uOky54El/AEzGY5OQFYr0EmmZDl\n",
       "tsa4Y+avGZg326OfrunytAjIDrRuA4hQP6LnEqgrO6K5ESZQhBnh6uFC/YIWFWR4LBNlla+mKcc0\n",
       "qCU88lTb2avooGOPxI7KAmXfAD7O+lOut32b7RBs38Xz7zswVz5+QzQ6XpP0p2L5bmD7sAG1TU1p\n",
       "zcnb4An9LqUKVygCd20WWCCHpeDGMBlrmQ79epLFTMDBrerbRj2OfW0WKnE1vX81iBdH8suRZ3BG\n",
       "rEYEov0uSlD+SVNladYXYPIcGpN1S7DsIltb1ggodPZoTt3wmlwcTTMoAUGc8ftcQfcZjRpvHh59\n",
       "8NlAtp9Y/z5165mMlKqqFvOgrWnOiC5arhGOQNlmlgR+bm0fdVMnQPymKjE0Odj8JiXI8CuF5X2b\n",
       "YGI/LTF4pdaZgL8W4PEwAKwRANZyNKE/wuM+D9sZliyRvKN2cdpzqUAMpOjx/FDK1Ho9JSMY2ZAI\n",
       "6pEKNtJaUKaPle3msajJZpSH5z/NCQIH2vxEg3LPKU6En9yl1uNk+nZkauaG52jIHeOc3HCyDQ7o\n",
       "btpXvaAAjzUwQFuAEu31Pwz3QgCoSRKORapbjyEfoWJAMBdzaUHp0SIHoWwk/UXW8zH/9HwhGnyO\n",
       "m8tIqmRjXfbLkyXCxvodeRHA9RYTH6VuPrYL4HsYzM29Q6pzI/QiAE5SN8HKv9fW72SdzNK3mazI\n",
       "YgDDpDPXU3B/WOv6DIo1XPgWI3AJl/MJm2PkqXbGqTUsRNzvHabLePphom4M+Wo0p+uTwiV9wGwQ\n",
       "FfGvPlhyjlX1uTiztyLaXzeTJC7VjLI96N1D/C6XYW9A2wuCqSIGOUbUWDkOhsuozU7JAJFgTxea\n",
       "k3UpkfxTD6Lr62B+aSoHLZTYHnCi4eW2oLFEn/9HaozT6fx1UM8kEzpX5t4L1Mk0GE/oLnzPy2dF\n",
       "GLdTo1tmR9m2LZ9MRn2/xyAiWeznMO4zVQz8d6DT4NAA2tMREzdBVbpwsINnxguFkJ/wJ5ZlcOPz\n",
       "XdnPvMxWrXrg4QefUT1rDqUoeBfF7eM6dFQ5Xtd7xDF7NtqnkWLJmilbEY/3QW0wqSvruCwd4UOh\n",
       "7SEOaSmjeDjgKXhw7QiIW7YNrfkdFfD4wr8rr2JY5I1JUz//po0FxUD3wqgTYDiIBCIyVgParkUY\n",
       "1j4eHDghnd0n2N6m+UObNenrge3RUsnY+FTIptoX5OcsOtQiqPNw2p4NEDv1GeEEQ4uljSeKqWVw\n",
       "NADJrJqgsY9sqnjR9NW1OEi3w7x50pfIxgDe7YAUpkcE5SNyHlUGmGUM/AFG/A+CBKrn2V/ZRLJm\n",
       "R/HTQDnFcB3cy9iAfQ+ymzb8ZJlRY4ke+/i2nuHYKrlFxudw4UK1284zTb9J3QArL6yeAJbPKkX4\n",
       "Ndp7NCztiwS1Y4nYuSsJkN5q84Bk9juKNEr5M8irftQ2uoL0jrrh4apMTlNZpDKIkq1CMVJ3+lr7\n",
       "8IN5eQAAALdBnqRFETwQ/wAmLchaPCPWmk4hjMUk48f2DtyQASdnirw3xHOrlUUYcsitOYQ94Yqw\n",
       "ssl+t8u5A735bZAhNJp5qfRccUdoueay9IxaXB4vxWlvs6XBEq7Uo7rdMtT2KtotDwhJPQZm9itT\n",
       "8gV1h1v819w4tTtl05g/oW3EsZfHZcTX/OFvMbUdcreitT4rKnC+qoYodGR5ZPOg1XccA3qV27S/\n",
       "FEm7Zpgvv7v0f3j437mtf7jk/L0AAACfAZ7FakP/AFWTDoZAepGw32fh1EMADooiV1Ak3Zp76qUX\n",
       "nrUYFrONNaGjo7JCMh20AxK/YsrrnJSbN3zacs8TEUs8N4ShC2HXHn+6A+3f+r3ztlUBQcK9m4fG\n",
       "43ytMkTNzd3yC2rSiZp0nKyPiAlIbvGhFOP0lxz6mW6jOUXJ3i5Ut38U1TBYpTrXdHds1ATve1XX\n",
       "6A/aaccybbXK6GQZAAACHkGax0moQWiZTAgl//61KoAA30JTtSoAl+aFUJlUbDVfuKca97cW3F5E\n",
       "HpCx5TJRE/Q3DlwbyucnTig+MdSy4rhvy6qtU7JvTSuKdctD221oQPaMNkQlf1eLz5YEDYxKcfIc\n",
       "laJGrKFNcDlW3F+4+oODnCDyfFyPvZ+xMSFcSV0nlpktwHaZRJQUqesDLu5sgbuEMwqvY5paDhTg\n",
       "WtkLHVX+ZV9UfJd2bc8WexQZEblDu613VNR6Kb44O+YHRpIfQg30RKf6qeSxT1Vf74/i3JzCSJD4\n",
       "Ge4FRb1wJDLIJovOI2kJSZ/LmqXl6mtcTyN5MpBBHXIdZlMxBBA4hrUxN82oNEojmXmBOxC6sG+o\n",
       "aFU5lA582q/5OQ2kad1MbuA7urgKIEWOZR7ncm/3KSDMr8NHBj2XaWAveq/44LEkC7PhK6qqnxlm\n",
       "Meprn3rH+cf/MXMso0hmgGoUmR/SO9d7wD1YBIytJE50unXk7FmvPYTDO/9oiQGPSd/IgRrzqmtb\n",
       "ecYItEsMhR8sG17YlzJS96PBmasNSnqAXgN1U5COHbBprQk5LDw56xgPQTFkKPsycTmz8ussiJoX\n",
       "2xpxT/PlISXnrvtP294oS2qbe12cKMQkcljg0PXcPSF//7uBDhdQaxWoGZcXayCTAGTWRIdXAS1Y\n",
       "nqorAkHlG8tEbk7zZdcxg9Xa6XA+xUpvFFSMbQtBIHr4DbklfGTWqgJeuwwJAAACxUGa6UnhClJl\n",
       "MFESwS/+tSqAAN5HL7TS+AqAHRcbXfCF4gw74uiit0r8K9/rmlGnIhpy4ezd7HJJMARtHlRwnbih\n",
       "1GxdhSEeJF92ItwtLuBUh4g14gz2/jlHaoDYbxdQyTAqCN8pcXdOa4yROityHqyOEqtkZ+rAyLV/\n",
       "+fG5h2IaqapRrgr8RVniJm0m2tWdvQECTv+2ZNw8w+8wHhRe3K1xMobNiy3y4XypxESmQ2uKVKp7\n",
       "XfF81bvLeGCXfDBYxmRFfbaXkWKt5B1U6l4euQ4v/M5uQVutuUdDrW7D1O3TzPMfbSb/VRsbzeXl\n",
       "/m7/uFqkP46Jn9kDJ8398MVHIdlshUAWN0VMtZXUF3cFRlP7smLRvDdGqpJ+fEiMmdOXVt2V6EQJ\n",
       "p7s7fT8sxQVujE/NbYoLRg+Z5IR/9RFeH62opapg8IQbF31hxz+gf4a3psYYBTMjIF9ujUpETzWh\n",
       "ZaBgjvrsk4OI6l3GURhaoThA8S579SmwrQ493Fgpf6phZsFidfz31LCHEAHYtVDOl602KD90Qqa2\n",
       "qbpQbexoke49+44LINawxz3amqTWXCaZuoFetSMf3su4G2FvyhlYxEa4l8Tb0usM/Pt4YzVjJICG\n",
       "p4/UcpIJVvMgVOItvAq3vDjW2bczOt806hLI1JBLVd6LSIJy7pxrjtpUtjMGg7H4+3bO6ZH5kP3a\n",
       "5n5Amgs1VOoQpsmxFAVyqFUHvpYWRhBJOyR1bCogcHX1hh553AfGvP4xw9vR0DOB8l7LEo5YSTT7\n",
       "o7n1HgmwpZPZaozW5wepfLIDQjldWJdnV0mxLBGaxo3ggh/XHaQG2tnTSJWB7+zMJFvAP/+w/6pY\n",
       "7d6LIDMlJnSzxutQIlGeNsPo7Ilxfe/iSFkKq3pPzWVECEmFyMLb/80LAnWGAaVEvZenAyP1Ky0m\n",
       "Ci5fHUXFCeXQM6QeXtrYHyAAAAB1AZ8IakP/AFSsKCR79dpZBDrEUu7XSAAXOM9SQd+YVnwWdhfF\n",
       "g4HnBrq/qv63mQUHDEHlFtjRsnEr6dTi/HtXAirrQSeu5BScuivaVaY/kLIPPso0IuFdUttZ/Ub9\n",
       "2PqI/6a+96Tf2dEqcD2uAOkdBsDI19DKAAACHkGbCknhDomUwIJf/rUqgADeRy9IeQuegBwBldea\n",
       "rkJ6sXuP053QXXeDdiJgdB6ezko9SttvDu5JRb2iFDNrHbG8QJmXROO8Tg2G+Yy4W4ALjJwEeGpT\n",
       "5puXw/qubLYWqOHZyQ7c5Ile58bl/HF1z8G6cQ6zmT8xGB8MT4dhjdQHm4KvUvrxMwk5pOvD9WQW\n",
       "AeEzcGxlXIAcP0GppqTkMkL17VO2DncQmcm5ukgOvEekILE5eP8afidJcOOR1K+j3HAI7/ZL8jY9\n",
       "ShfhH5gkEYDt+UZGFiGK+yYllLt/oOpQXCFvCvhOhm7qWXh8QWHBJBzEtud0/wN1z3PKSFVhO9pz\n",
       "hJ48y71dRHeHaUFWz5v4QBtKOPWJLjNH7xYRW4tRyCtQ/3pTY88xcBCX57OmgQB0rESklC3rJbwW\n",
       "0zsgBHZhT9sZrEQyyoeLBfhZOHwED1dn2mU/5eRhyOej5QLaa/dAZyacrE0zsixBJFk8j5+zUFpy\n",
       "vuhStfHv1vPMBVVjc0vgqx+oVBYUiQHI5vxJS3hz8L/Uehz9wxd7tznuvO8J3VW0Z+3jF2l56as6\n",
       "YG7YV4YMTpHfO1aENPMvf3KvAgG2ko7znjoSBUopXTlsrOq3v4q8Yk4k61+3lfWdTmep2QJhZ4qb\n",
       "820XQR2vFUohXAwtaYQTDS2XNMEFHDsSXw0gge/6XZf38UkDhDm9cGNursxB7T3LsjwbRjfFnI6Z\n",
       "AAACg0GbK0nhDyZTAgn//rUqgAG98l48UUjHUDJIgSWp9fNHH2PRH7idhro4JuGCjT8xRnkB/qHr\n",
       "rnabuWWObQXCnQ0TiFX2EI1A9xxBXbyy+n4lHylDP3DAk008aNc+Id2iUbT8YsijoxMPHtgsrSBe\n",
       "bYdWaDa1PHmFT5No0bmmgCUMDuJAknPyXDc1RsplX4h+bJEqA2NF6XeL5Q+vqi+to4VCyreae+oX\n",
       "xaVv9CyqIffPE5tQNCkIQuxkzWQZXCRN/iQsqkxEm+Cl70kIUtJ/4IXFWhLT2DSBgfaLcg7qzsY2\n",
       "pqwoLAzJnsAlqvCz+65ium6P+3zrk0zr/6bXhNqKZbWj9j+NrrumguDw7Y+DWUl3U5AsuXIwvB0z\n",
       "AqOTHVZqUa8Dz5EB4LIHlXa5ZXTjqxnlB3917L3zDltcnidtU5dHNk7rpkQoZeIe8KJzeecXpJ6b\n",
       "OL3iIKQ7E8YGTN1y52gdPUg66eg2X6dFlBqp5hTgr6NDCSa1zmi5/6ykvxuYDP+hGDu85D8+iNcy\n",
       "i/NYZDHGMfyOAmavL8JOch1pGjzh245QCcIR/n0nzeW7oPQHxap5womE7PonyXY5LAYDZrCBzRC9\n",
       "yVm9tQ+1ynYkm+ztA7LF8n0TZnanZUKvWz11qczsoLkg9vrwsq3UV9twaKqBRw+DpQ0WcTWfXazh\n",
       "xJnh5K82+BFuqjrsLuAHBaOIKTTYzC0bsIIZnbA7KdB0JZI30OK9NTHoOlSVoFSfdW8c65Xpi7Mm\n",
       "zHQGRxOL26OsYL/FqEhoeV7ihmiNP+tKPJpo424vdZCRLxXEWXy78S/6LumTt5iL20cJ4ayhz+Gj\n",
       "G5Babmj8p6e1bFKxxO96cH9ciPgAAALOQZtNSeEPJlMFETwT//61KoABvfJ/ElwAlDlKBBEQvTwb\n",
       "icZS+iFmA1jteBqH/AmSNABW7V3fuMYzVeMQTfxzUH3A2IOITlvseo3OCczuO0vIgvcB9JCA5QiR\n",
       "ixH7TMyVnS8qJmr1DsuAT3htjZgxwClvJNnFfH3GbKeUuQLf+Ym/2Pq3YzFiIJy+i0ceJu53+FPw\n",
       "TMKGsaTIjSeE1dZWwuXFC4ieLM0tZetpMnobKswqrYmFVWIQipIk0iwcQ4M5wHKLhcUSqN1VpFSy\n",
       "xGMJCgaSTXslDt+vEEbIqcvlk8lSw545FzaflVJ6G8vcwsIpdDSTBqJEnMjZduQU+b2i+Fze6rxB\n",
       "WYUF6U2cQtbupR//w6XMHA9/U5cUX+GgiAbJyHJ6gW5LIKsgpFTX5ooy1vPWu3CzQ1EtUaT9hXwK\n",
       "/Bea5HtAC81rjfoaf9Qr0J7X7im3F+2kgEBdXCTqiZyO26/PTtFJ0Zta8OpA8R6ejbsDlclZfJUb\n",
       "30Vya9MkEOUF6UhctVQcIlIpcFgHl1+YdALYGgs5wy7w5UdbZCgnJgFnTzlznAb1Le3WYEl2d/7u\n",
       "AtM/BEQQ72D5vPV1caS+cWu7GH/+amSr/z5XQclts725shOcUlM/UOklZ4lOtFE4VgOydqfnBaCA\n",
       "3hZCziT0paiGlp40wRe5JEh6FUDqC7JYDnzTvAuL7jsNWqcOZNoq1pTBHUKj3zhRJKusP7TeSs/T\n",
       "Jlh/7eXz1/TZvcUzofaRCLKAgQPFPxWDSzyNqTovTIN5WGCuSIWbhOrlpir7sfo39aKx+yEcdgx6\n",
       "SDYG/v98/BgN61ev7Qo7sdGlay6V9LMtcRT9s8yj2wlOYRdaOJ9O4cNjfKu9BQC5tRjxEJEkBflJ\n",
       "HCTxPeb0g6oW5ANt/vK95OrqvBx/EUFCFkDXzk9/mbUvS21Z8kte5vf1nnoxrt4e3ywl0KD+8QEb\n",
       "UAAAAG0Bn2xqQ/8AVKwoJHv1/ax5oLgEU6Ump2Aidu120AJXF7geBZ+PmpX5mUg59PAQL84w7gT3\n",
       "6IgRTrfOmCyG7CKgfbkxUyJFiFb5DsmRO7IHka+o1Q46l4/zFnhk/f1LYIummDlAA3JLMG+D74B5\n",
       "AAADdUGbb0nhDyZTBTwT//61KoABvJu2jaPg0AL+EinzleqLQTqOjJH4YCaRGKHi3RQ3QMhRws/B\n",
       "lak8RrTOBybCITtJrEq/DmywHyKlWhvFCadRKUFNXGMHdkx/iF12KikK23tBIuLmxSxYlZ0Msf2V\n",
       "wn2E+/8i+HhMEIlD8Sr0/K1Bf7wPDRz84+UscRXsrvGgeVDJJFQ52XudyPg8bAdPP+ESIGxirWYf\n",
       "WmEehjM29ckUdvgbQbMmLdkgvw77MREaH4C34n5YJPwRanr0Su7T+7VD208I5XRH+y2/aeECqdCN\n",
       "ApkmvKlTnGCOF0+A/nzJDPFkQuECw9o3bZubXRaRqxAzm70AJ7lDS+iwFo/Ira+muVQ1cePHyxGU\n",
       "/ThymwHUrmiH9aa02Nk2DIQQ/kMiFVQQ54UsYYlR8fU4CgczlQpiIEJ5OIYf/wAmj+9BpE6aOG1L\n",
       "Yy/i4LLJtzmBblRBtgT5Tj2+AodnagngGx74Lq+vj7leTGC7MQeQZdvoiGnuhxL/E/o9gdeT1SN/\n",
       "LUcXZ5WPxXAM58K2lqpCdwSibJmFZn38d1dVl7aT5mDAzszp8/kwktrYzpZvV3fv12o5/mKN8XWv\n",
       "AIzMIRT7XnZ8G0G8bq47OfToGiNfnMJtfYgVXxNSnpJEVvBxUnllBA1hSmYIDihZJxmjIJn2MxLE\n",
       "J9pC37eShQboyWV/EIhA9bHjFilNMb0W+nyZf9NWud9puqKGjtQrdfCAabC+B5fVHhLzl4+YQgYY\n",
       "fhRfeKRxGnG0X7V19fEUQHNDhJv7BjTDnFrwM9w0OJvAJVPncvx1OhpEIJToA3/RmgtNyiAIu4Ym\n",
       "h/YB0G9O9R5GArWgQwZu2b2PgMJV4B4ruzETsz0jeMRpIezqBkkTAExmd4pOLVvVGdH/kPqZ3Xe3\n",
       "MDyhvg4oP+uCvpNvVw6McZlCyA5Qfi5tM7V8I8o9jiaxjqA4gTw/BSOK5ZlGMlrgffkJ+lpPUBwJ\n",
       "H6EsW8vHtIXyShKRNVjOPzuYb33hzsFkxL5H6C8xUmv0dXGsJ9q3e2445NTyGE/OrbO7Vo8f5Ik0\n",
       "DucU6QtjlR3uiKJaYVfRvJktHTneh/ylw8zl5qJHJ9S0/lHx6tx0jvN9JnyAZJEtUJEYbRQV0tUT\n",
       "wn0HmYmrv2YN2nd3YKlBaIyxKkaYr6jJN4Dq3lFh0ySNoQAAAEMBn45qQ/8AVKwoJHv1/ZPnYmoP\n",
       "Uy43IRqKZEOow+a8AIxN6iV+DYuPFPYNr66+jhein2Jx/VM3oTmT7lO41/5kXvARAAADIEGbkknh\n",
       "DyZTAgp//taMsABx0O28UlcNoACvwp/guNnQhzXaCVh9ghpdQoyjLBiWMkCrgmj5rEYhc4VSgX8N\n",
       "CVDsLFp3VE9DH0pxO85iM7VDS0Uo2qbVVKrMA1IHj1awzkb25H0EfZ4ctbWvXOJWFpF8hfn9hXPy\n",
       "kJq+L+b1iTcHH52mp2kiu5mlzW/tF3/VO3q3vR5zQXBNBDoxAwUKbFE//QVSSwM34VxbyE6O2yxk\n",
       "sW6XumSFer0WNk/afEPXBXtuWObP2IGxUrZg+pWq7mw18/Okb9eiviwNpzW89T1/2PJCDHjp2n39\n",
       "YQ3T7QhxJx+oFnt2uV3nPPWyEEI7FyIJQUGxS4rb0ZtKF/RQYgN93f6DfuEZtTnZArkUfGXL/CXh\n",
       "pD+JB/35oWonYwqdIJsxpbLErEvTN2ENhIzayHIaxRI5GspLJy0UVepIm/vQYZdPApqh9zds2kBu\n",
       "TBAk36Cw4QsuC19UNgCuohmTk++kppedCmkN87fv782uaKfsMoAH9ejprQ3D5iHptWxn/e/egm9/\n",
       "kjry/Js0BWqUPRX2E9B3aR5IJqN4UkhRuGoqhKzlnHay8+Q3x1ySvPLPzHNur14SqwOscwmVZ7Kb\n",
       "O+eFUueFPtjdDj3jv8lGsyKR5DP2aRuBf3u8hIyHg9Psqbu65vSaL7FVbKVUeQq/Nj4Qepzwtrpi\n",
       "PZ11/bR5SqpyB3WUZRGCr2+uBusHlnHGJ+P96rWzAXiL72o3tcxlr/izROfKxStCwuH3AWKK+NQ7\n",
       "qzMybMiSc+TnXpzif90uebynJlAwk2xh/y9ZRGx9pWr5vMDkof9oVyTalAUZ1w9yJ9fSxof04l8m\n",
       "grIume+BBfWGvHVUuw3wzXs5SCmo4vQA1RVHd702upGUJ0cs9phjkpoJehJomI57OL6WclkM+fIQ\n",
       "fi2e10ufuJP7TdS9M2MR3U6yOII1qHfKqPD+Moj9AfcXZUrJpJd/G1X21HLvJrVET4bymq0VoQ9u\n",
       "CFjtklKM3PIQsDR3j6oRRgc8uVWxtU51zwRcmccI0MI3m35Q2VlwnpFWPtI9uFnbHDjvJ/IMAAAA\n",
       "hUGfsEURPBD/ACYtyFo8I99herpLeh9AEjbwBeNT5PPoBgbGhgBM+YFFyDojx8goIKjt5MG0QmoW\n",
       "K2jz9JOylYpIESm5zT7j4fk8Czv4jXUt7zKF0J2KZorD5mymW52ClXvs38jQSiCYzbSiefbFrgLh\n",
       "D2+9ED3btCfAmJ0pJuAF01fm8BAAAABFAZ/RakP/AFWTDoZAesH+bfavsObwGL5G+LQAlbjy8ary\n",
       "hhxWuqoYw+Y+UsMbNd45KMUDjaGHk36O7jRwN6AQTs7mhooNAAAEFUGb1kmoQWiZTAgp//7WjLAA\n",
       "46IqzN4zcACWCcTI1MamU7gofT/Adjv7+sW1h8TveZcl579XwbS6hQuuuBCA23d22TGoP7l6xMCP\n",
       "lP9PY9IDCyagUI4l348Uo9kOuQxSUYSg2slTq8uCo8eyuElVzkS4pBGADWVks0Z9ocnggggdnq18\n",
       "2u507FS5lX1GflolTKtHoMrG+qS9ppyuoUm2jm6pSfavejiqH0NMiNEMMoHaGlwg8+2vKmrC6O33\n",
       "mzxCI7n58UL/Jx/Kfxex7PMlI7o9TAYWEy3Hjdi9WmzmUQEy7j9WFLRXaiMs3ixJZyvQV9PwMRp/\n",
       "lepokhbvmdmCNDn/Y3yIYoVE4AFuhj+fokVStDT7zMOZNHd3E/5x0Hh6YzfEglvs5ars2MME5V71\n",
       "i5P86+uuoYF3ebL/+5+fPbBnAig9PJN/FUkCwH3H/dRB0rtfb7ZN+zuxM+roQuKHA8llIyeBKYoh\n",
       "SAyCRRA1jKMDiwF80s2gIoGEA5XVDKevj3MbqmRTnLSX8m7GB9+18h04MtEhqHq+waIe/5LY+T4b\n",
       "qEnsv2FGvr9JCBu4lKUbvh3arKhkr4IOauTLY9O/1cCfDZ50VaQfyE41all8CxUKL+7ruIArBsKq\n",
       "QZJTqb/Hq/bJhvEWYbFW6HFDgbZCjpKGw1a1G8hEnd1HA2s6y8J9FVS8FLAR9cl106qQlopepazQ\n",
       "0pz395lpsJGF9wGHxWoOvy2VB+6xWvCn+lNIRfa7Fy7e+SCn3qmASHpNkZXNUvHumLWURa0jpT24\n",
       "41cOhFmiGh0BbK1zyer7FEEFVhqW7eQ5sIjRjrFFrS1S1nDGdgA8DbNd/2jcZnj1V+SdSY8EPO6N\n",
       "B5yCsbbyc7UaTOeCdKF9jhYt4PsX4idPy5sCP40KvVy/BM5azEdr6KYGDCY7/13gESwy/vLp06Xv\n",
       "BY21QdBy4tNA5+/j8+E/O/L/BNWu6E1ymGU49G8u05iMXeASs+vXIqhNQrZTZHipxYFqvxz1vO2H\n",
       "EWLgNTXQVJ+3lwo1z33yguKFo3C75ZsVkNud9sL0WVs8dkuAIfd6sBkOvOb9xB6tDIhxsFZOFcYl\n",
       "PGlM4hFKsFA1kVHiuHxT9aicq97zWB+OsGUkeXBCCy6GFauebOlfBV+4izNYpfoI83PqEPTvY0bT\n",
       "K4NGRXmO5MG3M/N+2ii9PsJW+JojPaIgHmc+eb1zBZtGSmy2Mof9mdOFRnsfS6rqvJNnS1eFjOli\n",
       "NpXVnPXlQLxTVZvAwalVtiBKl7UAAdnX7XUR/Wa/CvBHMF6srloWWYKhisr1ptvwTE66J3w6YJIt\n",
       "AE/6cmfNIioY7TIvNtWVOrb/0TCq8wL+3QoXfWxCEnivyRGWdm8TyBh3L0/q5LaRpQTnvaXsv5Vj\n",
       "LcUAAACfQZ/0RREsEP8AJo3btIJ5B9uR2dvAZc/JTq/+iniRCJFK6+8NnRnyBgL91sYip+lIcBjK\n",
       "mVu3FCuJA5mP6Al09gRdU5TtKFonufe4AzxWFGEFj9ouZyWGkJHKkpgMluRanwIXAYX/HuuZ2dHc\n",
       "fUCT8cR8Ys/jfA4muSk7ln1c9ZMdA8TOlzTpJy/u90jN3BQg0bMO1DxvOBMFkxfMlXq4AAAAMwGe\n",
       "E3RD/wBVhvvnMSI9WbU+8BZtJ3DZ/F78hVkSTf+ZtAWKwjKT3exPZ6cICOBnBjY68QAAADkBnhVq\n",
       "Q/8AVZMOhy+Vxo6gBBuAe1Gr+fxCZRN0hRN5mGWu5r50VcAQNCpF6fhv6poDe1aJGdt+ibUAAAOc\n",
       "QZoaSahBbJlMCCn//taMsADkVI7O6AB0R86glz0r1xIYdgPTBrOD2mz36t6AwQGTptj9IhIc4Jar\n",
       "aqWLptmDSLE+1+wKw/7Nyjdx+bRIZSJeg4HQlTwz4eeJbnMq9ZNGBUJewkzzzMVdN6oY4SHAaVic\n",
       "D0ZX3kY4bHYOoHvavD1nHtr3x7J9ojwq3XnK0EmOVaqhZzmaMlTyMS6inwchHbVxKB7bMLRrVsYu\n",
       "BWkgMyMY5MzvboAFi/jqBfDKENfKFLVymV8joz1gPdUIZ8otXDyjSG3E+DBKtonsFopL9dKZHFz2\n",
       "q4ac8Psz6gAw0nJSa60lzUKbMWyShuWbQtbp9vqNiznkDJ9hXrJwlnNhyj9iRZocl012nu6L3T53\n",
       "84g//9Frbd/mOR35xvLvIyWFiNXAXf9pAXbrGAUhW91boBvPi5vyseaoe4aARD09nxk8Q8qmwTxU\n",
       "WGbVd91vV6piZbeQQ/vHC3DSNx/dVBpwKPKAC4rex5k1hxTzMCOkL0gAdvL7TD7Vidknn2w270W2\n",
       "/GnoH7hRBTYf8lplE/OgfC5Re4eEH2moGVULCQWdhMxBvjlE8NpUBvoYjq1xJoZuBeBv/Mn4y/sj\n",
       "IxMXIdY0u83TqHcs5Cfmds7pnTEa5D5XZF+nm8X8TbYjdDKg7PpcK85np17lK6obnLZJVmLaTyN6\n",
       "947h10uEZ1Z4do/smLy5fBxKGOjAxFrcZJoME/Nd4v+dC81Z9y+Nm0v4TRKcMwK9Gw5loojSI0Jt\n",
       "x7KPia2VmSsVqALjTZqEYi431iIqK/Ba2oWQYmexuo0I8CKoFzMenigOjy3iNsMj1XgP3lndxMvD\n",
       "oFK5HEgefVveCrnVbm0rY/1Gt5q5dfHtyIOCAWhrfe52wKRgJmhNi4EIvR6fpV2Yak7l+00ZyOq5\n",
       "k7+a0UH0genXtkdBmFmnZk/MoACrsnPNWhGhlcQ7SlJbeUbBNfbbald5bBqq6g61h7dX+n7amjww\n",
       "Vin5viGfwd6Dv/7o4EAjfqJfyL4mas4oN+WFk0+5gsOJ39SeczNtu+Rclm9DLId6USwq7gj6Mnhg\n",
       "gvgFsn868u4ZDHkifgCZbf9VMMLsdw3DdDoexId4ZNfv9bFN0Ll9SghjzLjxU+iVByvrhOJOeNwi\n",
       "/e+MS24Nf//B7q3zq6Wt8kHodO4NyQvrOd2RQfNC/Wbl7auqjJsftJMAkHHERKS8UJvkmWQ2EFXZ\n",
       "djsHLORE6iF15bwNAAAAh0GeOEUVLBD/ACaN27SCVkmNelXcxAECovkGVy/Nr4f1YUcW4TjEnvQ9\n",
       "t0XAnapsVyj+ALBwDFBBUK6GO98gRPJHw+tCtJ+8qQt7cZT74zuwtSRVY/XN+I+oVTj8byqENmFi\n",
       "BY4q8Aoy1O/srJ1PXF4o6NMwG7NdMj6xoD5m3q/JQCOnSDwZgQAAAEIBnld0Q/8AVYb75y7G0lrY\n",
       "IAM5aeS4taYlLjOODPXEEkygPC/22X3zaD3v4P4ptHTTiixrNHB928jc8ki6j/9NqwUAAABVAZ5Z\n",
       "akP/AFWTDocpHWUmfUGgBYlK5WciQ/sz8yf+ZB4X+0yToY8TzD3oLdofzxV0iyVH7U1WO61Keayv\n",
       "MTMnb19cSwXxNw3+jB8PLOaVtDrU3NSYgQAAAzpBml5JqEFsmUwIKf/+1oywA48ERAA5aftiz92V\n",
       "RxRksgY+G//b5afBDnl/U57lGoZkBjz04BcucnSWmyow7HYiYY/E+xwYoETfBUOTlbZ9HhlQq3Ok\n",
       "zo3PFO5RQyR/VdxS6+uzkgkKW1wRCBoH1d8/Rzif5VXuiJC4jm5Ab1NjOpudjBzh/f2Ve0ljjU/X\n",
       "m3KNKPicDPwzgg6FJLOWh5sK21eD17VHrSiGNk09NeNogpMsvBgrGtICNBEpoO2gvfpV5/vtGwjR\n",
       "PtR+EcnP3oP7dUUcAFveQFH5uNSpUUN9umD9Tjj2zmhj+JB/GRFg3Ojo2jCcdnH/JioE1JQL1mHX\n",
       "q1Kz4YPsDB573+kafz4AjZ5QltIntnF1PWRN+NHQ44F5ag3NqlqmZSyU4Lkh7D1UY7SK+EYUMvxy\n",
       "A8MMtG+0xvk3Yh6DduDcbMVZUid75kbKG+xPr/ygVL6zLWM74VjJD6zj9DCkOJwcsl2CGS39yZJJ\n",
       "caU9tAUcVG1geXDz2CeohChXXG91z/opCK0dusBETo1zxXDFSqH1X7NKTbEfNGSJBPHo2KcVuTha\n",
       "7qHALF55zU4gz2Z0pdjMi1m22msjHDtDm9IJasO+h8eMRemvc0jQEc7tlUyF/xXQRjrA3b2huNHf\n",
       "ct/Zs4Ugf6RXiPSZ24gfhQyrUGwcdgSmJA85eysNeFBnOk+8hDwfU6MYlTJjf39XETQ/yVqQURkd\n",
       "xcxrHhDTRwAwrh7n6E5KHBDjhm3CzjNYKaQ9PB0j7Pl9jk7tnRS2P4zsDIGl4o10nCEZv+oebKWT\n",
       "bcCy0HWnil4nAZToQT9/QN6tVWs7etEDTfClqewh9AgQyihujHGK2OxlefKYGxDSzyYb6Qk+Q+Ws\n",
       "US+bE+psu1qYJ+JkC6Zak7agGev+HpN6EktpGOFecLptYJ5BoL4n9OR0tcsindVtlKSWa0VL8TxP\n",
       "K026rz/+u4zsNls8Q/DOcQZGKQAhMugc8kVRHKhsSE+J5xu4rhkgkPPAHteElSB+lFr3neKXaDt4\n",
       "5EAQv0p7qWulwikIv5Qa1EGBe8PWBVL2P2uUhznRaPDCrci/Ou8bpg1CHhRs+Brk/G+rrkUkunXt\n",
       "AAAAg0GefEUVLBD/ACaN27SCVnZXiEingAIWj3TW3p9V1s0qYKrozwpXzpsWAPxZRMODTFDWBoM7\n",
       "GqnR6gnQIyBV9FZFgCoBwmHgMCiq5pw6xBefNODW7uSDiwewKRV4GRkJUDNW19D6VaiikfdZwcrp\n",
       "NuHP489V4l32rBIYcH7GOlSU8K6FAAAAbgGem3RD/wBVhvvnYSLLHV3ZP2knP1I8AGc32XjTI8g/\n",
       "6tgLWXZER7jfiOhgL8tielVfI+7b+swbA4+UENhtYnNxeYdp+nAQH30c5NBmqw2OxndoYWeWnM4o\n",
       "iF/FJqBtqbsErxUeG4lTxZ4zsWhRAAAANgGenWpD/wBVkw6HYJr7OD3tTEPo3iaMfA90kiuoV4Fm\n",
       "t2x2l22L7yAbFZxo5UuKkphsmLdT7AAAA29BmoJJqEFsmUwIKf/+1oywA48ERABaPHWz9mEaeWfm\n",
       "FuiieplVCv0RC2IPExcpOxu1lJEstMA7Ax9O/pH72uXGRluqORKSMS6p+IQ7qTmliLMnOSFHFTOC\n",
       "r+8Dp43VSkEjJKb+nU7qJW3SgmRIH9XD3XwRAf3O/qRHKdV8oxItWvjILElscUrt6PcbpSJU+wU3\n",
       "3wsLuAXLZryORysV7w0nGk2NBVIheXGfoksSmAy1aRV+uVRvg1taserj56cyaBN0QAmm3GJLyRco\n",
       "PmMcioicuBwINsM7wDz5pZCofVgZzcg5UQUIP8V1Qep6nfrsJ+HxxsNf5qQm9U4fjuko3EgBWZ0J\n",
       "TgPUpgxDeRJlzqQSBLq0YlRqhQlauchbIGm3dyYKtMXqxaYUj6snvGcMlXGO+UG8GVvtrMSeCQJf\n",
       "lD6La8XwNyqrCWUClfMP4Chs1VVLBCHpJOvhwE5OVyrr7aalLr6Nc5fglVNZLmqvl8ujj4r8UlXB\n",
       "EIkb9YUQ7to+OztXI6Zb3aH3hFRiaCIdDTR/b0DOxHAdHJkDs2Om3gNZcUsDs6h+wWF5A+eSFjWM\n",
       "v8DAlw6DatDopD8Rk+vJu22DwC5XNBV+rQxxzBeKcDB+TvJmlYoj7w/e76ekkrLLuAV2nXSwJym9\n",
       "ssXA/5J4TFtWvyzuFmYC4qjqm9yhM5RTRob3BHfdATTb1Dm0qDvlDVmDsdNYLfp8zU7gpiDMjpR+\n",
       "kzV551a4vuRN/IUx3BvSvgizVihcIdxgSbS9lb+qvOpSekAVDivNxWXpVEmWTkxdR0gPWelsOCmW\n",
       "aYkjygk9udmePuLzJG2+YRjoXK4Z3vKPCicrdDzx9P2P0uOyBQ5L4w52JINHHpwgq9eu7MjOmKBx\n",
       "xXEmqGEHu/L93GhKOLWWbK7PLYBU5sAA3f/DLsRDXTnYSbRyvgERzVqdDwhlk17dC175/ezCtUU2\n",
       "/VxMifdmFVhMABkIEQ13IYkTi+0Od+pcGTscgt2FJcam4H1YoEr6MnhczYky1N+htN6ZiE8gog8P\n",
       "JSqRM+CtgrLoIcIMydUmlmvNiQcFxmClsBH//cAcPMBI+ssOiWRK8YJD7v0R+mHPvJhbYOhAS2AX\n",
       "K0jWqcdrKQARHK+tN52QDrchSgdSm0nVSqOWjaN+WzSXAeVBSMpWx1bzSr4NbMS56LAAAACOQZ6g\n",
       "RRUsEP8AJo3btKuO163zjDh66cIlTbSABRv5Np2eArfHdadPn5oU/4hPhkk+BRSNx7pP+5wT3PAe\n",
       "4usvAsukC5J6yPrlAMxc/uSqPMAcyin5UpY4/V9h/euKzlD9yFcHipJF9K/Zj5TuitKXcUSyhBG+\n",
       "3U5sCJJlCL9pdSq3AvysD9ckP2dGRohYLQAAADwBnt90Q/8AVYb76UJEewZnsTNp0ISOVeWTxzfV\n",
       "LmHEc0EFZv/IEBzkCWaZwGfq3R32mWDu0ifmDI2cNkAAAABoAZ7BakP/AFWTDok//Uo2JuvkwoVg\n",
       "vXPOPkirbdsqMQzmkZpAaCSomo8t/hFADdgwPExdjyiI3DpgLnNexQ4IfnfxbCCyXMm9XLpPBYPH\n",
       "pCj1Ic+P9Ue3MPbh/IbbFzypGvafttiHiIkAAAPsQZrGSahBbJlMCCn//taMsAOPBEQAlpANduU8\n",
       "M59GFZ/RRAZORWyc2DAxoJVDhL7OH/jhxHbhM4wERi6iguuTLdWq3/ejRAd41ca1N68i95tfCdZa\n",
       "I+r0uSAwMloM4tWe0To1aj+kKo5ycOXV9fT7j29R5HS5olxNEi4l/QtaoWTzDnxI46+pRMaZQ7wp\n",
       "I/haVP/5LLcwuAD+PhQMA5cjUBG8I4SHIN8gS/NTSz2DgBvWBD0igVsRySxTCMINEuM+tkxuW4ZS\n",
       "E7qbeBirMuRiJvKVi5CYUy1XclSWJs9oAVdfO6P7ciwkU1RcKiUtl9vbHZjEVg/OUITVYml/qmh9\n",
       "83P+qVYkQGI+NrZ4iXHy1sqwhwpFVX1sxF2FVKQlQmK6shr2GgGrP9LtuBHhN6gzSu1mTBesgrta\n",
       "lowD+ipvbwEnh39vm0/dP0+A8j0g9m/l166HdcO8eP/QcunULWZTfg17ZrNP2IkDullxfaidIj39\n",
       "CT1080VgIMoRx9II8UhjFElAIMl7+G53v4z76YFzRV93B235171LP/c98AYOomdYtm/t4BMcxoVP\n",
       "s7xun9F3AEyOFhVplE63++fTCz/D4IK73S0n5K0nWABhs6v90TjtMGNppV6HPTdvcM5fuaVZmRlP\n",
       "mJ4uRsYiivdZeLizhil3cwqOIg0MpcvTeT7RIGTdEPYIARIY7MiJ83KfYdTTGvyNFZNA30aL06zv\n",
       "dWyqwp3qeVQQHKXQPDQP15sqqNx9iKM6mWwEDkCQbM/QSMl9g3+6ObYWQBg5XVuK5UCC2ytF8+bM\n",
       "wx+5yRUZCDuCM8RpM9C7mRjl5LzJySVC/E7Py8zYhu6Uf7/7vKyJ1XNC4SxvBfnZ9DVeqw0uUE2R\n",
       "kL5aX0IGyhM2B1lXgVbee/nVgezbHbacnN7UrjiWIRpa2Yyu6zyKD16rjLvpBXK0aeMFLEj9g2O0\n",
       "lDm1I2B+wEjVpjmvnLRF+lDv1xVGF7wOUemxzdJyK5QRmFe2RnwbVQ35m0gR2qaX7gODIe8Wmh5n\n",
       "n+MqHSLrm7pjbVLqdhLPtC4A7f90pbRXepeeCuAFLByk7EJHOpWWQfAwAIm3Cjt44exgE0Y7o0La\n",
       "tr490wk4zPUX1NxbOL+1/Q1l7FmWGt4LzGJmU22r0elxs4HLL7dUx64eA2Q0QbLP3BbGyVJmuS3e\n",
       "8CFbs1f1PCggt7plsSVtlIQbjTOb5zcFO8JYd4f5CT/jrSq/aPt927hVcmRbRfx/vP+SNycDyeij\n",
       "WyvtlNkZrRZxVz79gh+e/cnHCbEPkbe41R+AaKLH4BvK2Ld0w3YCbvAjE9P6Y6IPt9u45Fv+RrdQ\n",
       "SmSreClGsgoAAABtQZ7kRRUsEP8AJo3btKuRn0BIK/BVGIGs621SDk8RzHx9zwge5WhYycKObSAH\n",
       "FT3WMztbUpJQuD7efuDR3gGNH1CSq211LyzZJnr5WxiaTv6WXXqf/SdZN7IDpbav1t8dvXwY/1iT\n",
       "epH0Xj6LEwAAAE0BnwN0Q/8AVYb76UKcE2wLYIXhhIVohPbEE67dmneACZABdU02azPhzF869uoQ\n",
       "Bs5YbLdEP4dJZqddWjOJ//QeA9z7owXrPSgAGBBZwQAAACkBnwVqQ/8AVZMOiUKc4Y1FtCjxWH/n\n",
       "vhgauQqbNk/DWb6H7BULiGR1wQAAA81BmwpJqEFsmUwIKf/+1oywAcdDttujEfADLneRy40fRddX\n",
       "tIQYCZ2L//shztZQNR3X8oYKobVSwsaqPA9gwaY7kw6iofoXEFSrTmQs1tcivmPs5jhfQlLFn29W\n",
       "qEXFCFjtAyav9dQIkfzylDj8wP8ZOIj0xBw9KKCXlMBiguPaTxl987oLJtxE8lXLpXuP/aCnJr9i\n",
       "7NAvZbrKZVkbWvU+Bve8qixHWJxncbq55AfIzGF9QmrHGvNSLzhzsFYerK6TTKdKK6HNYYqy7xtE\n",
       "4oWNwAhxRa1pQRwXRj8KT21slGnkzOPc2S2pcQRglFbbiWj8rVRZnxxWMkkJoPG7GDOuXVpVrBX7\n",
       "mCYt8Qb++7RvEUiOgJ+NR+HfE6nbyx3qXba1i1vO3a6OW70TJrFeOa53zsgfMqx/YY/XRvsSHPEY\n",
       "STfjHC8symV4SE57SrImFnfLpe049uTNCqYIhyGVB6X0q4K5hk1GR25ZOnthSvxi30iTyyUJ5NTv\n",
       "mpW46nOwSkl0h+A9StaDyOSRhPmeFnAF6LB8GCthMn0myy8gMbsNsR4AdMe7FgwC7kcroN2o2joX\n",
       "dWwYzAoHLrNwez4vmXNEJtZPBVwldJc7mRSqy8tx/ewuInrP5bKql5pypaQBdv3y1bTHtBAT/YnP\n",
       "aDx0OLVEAcxw0WyrHsCiwkhS1jXATfAc4avWh24AAD3GxiZI0sl9N6Ah3NvdfuSEdNfR4vp+ASkA\n",
       "kqbpFiNlbyeuFrhhZu0eKr64Y4V1RNWxL+cpZ/dGri+m/k6zWWUFy4592qTpA038dqAhBUQM69bR\n",
       "FKXR5AhuSXHMUG2K2uLPglsg/Y/XFqsvDex9lBudK+G3zxuirYDT797MtX0WznJgC2KyTB4U/iQA\n",
       "B23nZHbZRBh0AVPYNaiYZ/BD3BiTAcU85ng0DMRVNaelDL39kkitNuJdX4b6wcGNw3YtHLp0jq7o\n",
       "vkBrle8y/U5FMGa8xgsRqeaen1QDR0BQxqKgS3+Ch+y6WK8pMBRXznUesDD7hW/igN5CdoxR+EZq\n",
       "f8kR/X3o4Wvp1h4yshx429mW5M3dvN4oFknvbmC0bfm7DVy3Z9TMYBseSbTy4haxdtEbE0Q3TiZ8\n",
       "wKRHWpkal1IDHvqycPR7YZtzG7bMV4jdFgnO2jt+H+X1cnCid5rdp8z1THPbY6V3pubb9DiVYcK8\n",
       "qjlIJhX1SsBA3AAlNB2QSGzskpd4pSvRxxlvABD3U6ahHvyNfe/EjnRP5nkDYjq1M2TcoRw5/s3s\n",
       "P6K8TdHBePTAy5aBV7toaLaNyQYn+F2TvAtpAAAAZ0GfKEUVLBD/ACaN27SrkZmX38u1IABMh7Nu\n",
       "NNc5xlE/fTJrCUXxMUemq2kAd23mqc9ifVodta5fxUkREVo9mIaOw5xGoK5vbPdQr45Q9R/2CFZW\n",
       "IpD4G+46BXYl208pi5irJq1SuzgAAAA4AZ9HdEP/AFWG++k+XoDxQQg4j74KKmIKuDb3n0k6MnTz\n",
       "l3V/kWrrvuMSY/IOjo/3UKOx75+1wYAAAABbAZ9JakP/AFWTDok/axy6bXAprBuBha8tKl05hBtM\n",
       "i5V0RtOLUie7OwAtzXulj+LrKb22AsEgVFTYiny8jB7P0dwhO3L2kuIM/V/96v8E7wA4pSBGPZn5\n",
       "KYBPCwAAAydBm05JqEFsmUwIKf/+1oywAcm1NDs8bszF6rVJ0KAQTKcKRi89gcoDuOmmKnQcMNGc\n",
       "7N6XxnoBrNK1gjjTOisuGy5ImdXbAx5MLQ2exbcqArJhQ3XBNZur24Z8PxmTFzHUoJInxV00e9P3\n",
       "3/kk4ROnhya8zQuml59jXiKm9gsHKJuJU29TVezi/KGlMw8TBl/jG4zAR3bpWk5+hq2/QyGc0uAd\n",
       "15d+f9pGrRz/6FigLQHJIAH+/agfTX474KunOtXRViLC05G4vNk5EUrpM4ZLeZT8opRj708v+Gex\n",
       "Sb7iTGcl6J4GlP1g4so3b2jlu3ahAcRztpPOcrAVl1fS3fL8VjnuHd9VWp02XUnJbY5MMEY3V5+d\n",
       "OVFUXddWYVJSzcd5g6i12RLKYipVeN0sSGyEZdJGN4//0tlDSAOshn4CQLSdDto6DRdl0X+QpKXz\n",
       "vNGjoe032GO9xmpOw1G1Fxi1KDPlNFCljLr521LSPPavrNtC+tZ8H0tY+PEyEfsOHdOL7LPvAIKE\n",
       "ZE83UNC3h/cUaSzJ0MGbZvWBMn2YdiVy+lHbu4lQrhD4UHLN1RUud0Fj+YPriA+X0yMzbIcfuhEG\n",
       "1g9SgEJ8Z7f9wzueKh6lYtqBNKd99PWTdegxjBCV1rrp9CICfoH7MO3M7QCSIjwFIFxu9fOrO5S6\n",
       "co+1nHyfOAR5A8qKWNvJ+La39pW/4Nhl41OuLzcUeu49Jo6RU69vOquGZDqoG3wMUF5cF8qcHBYI\n",
       "342m5XgIK3U8e+z9THDx1QS2j/YhhUYW+s7q1qYvfLYe3kRLNlkt58DwNAwsz7k1IsGhnTCa89F+\n",
       "BHbV0Q3xkyJLcAgYpOuwkO8t16AMlLJ3pV5UmDAFFvKumIaTquSg1qA78qVe7Fvh2pSo288/BKFU\n",
       "6e6KazVxivdVmGohJyehf/cByb3ca6mfifxhPna1UdVN9S+6Rrq3VRvwtmrSlHdx0yhnfweZsrxt\n",
       "35c4TNdOqpDtyRHopgvXMSFMykHe0u0Mv3Y5TAcS1ltz6b1BwHfCzhf1ixh3th4QObiCVSUAS0F/\n",
       "T/0FVsROErptKqhuDPoPWrgAAABKQZ9sRRUsEP8AJo3btKuBZvQt7yYMGEgc+rRho+cCJwSqYZZI\n",
       "rn2p40ANmIIMxv4Ouwtqlc8CVpvu8f6ulCAgSYwn5tFMMjMPCwUAAAAzAZ+LdEP/AFWG++lCma61\n",
       "ssV5TFpQ7WHvE8WmjpRkhEvWBR656N61g5AF/LbmZbun9KzhAAAAQAGfjWpD/wBVkw6JQZ2eZJGc\n",
       "NqjDO1IA5/QgAuYpX38yacE49qULO5l0zZhuXPLL34eSJEv+3o/r/uBH5gEklncAAAMfQZuSSahB\n",
       "bJlMCCn//taMsAHIwPeQ1gBGya0muheB2nYIwaThDO2OfYDjgr+Uv/Uo7RgsaS39rrsMPYo9yMDH\n",
       "0JvhNb5ZbUTITovfPjQ5ZF36YD+/1FBkcd0tiBph7LBeF1aQrPR/ZAOYystr8Wo74pWu4OeeMnMM\n",
       "614ZbkvczA8QB2SHpqQdMAW930RC1mt8ifJxG5ZXoE8BWxXOfwR39VBWIF+h3OgiVruVqfaPOdlt\n",
       "/Im5yO6RTmx/Bv8NRPvvi1Le5BaLsCbYwFNdEg+vr7tgqw9nXe+mmB9GnzXfZyyGkcuWAtpx41gS\n",
       "dggJF9cR8uagtz2S5Y//WO3TaKF+0VgzbVU1mJs/yTwO1jl5yf+CQmHRY/3eWXP3GYwFbNNhYIwt\n",
       "Es7BX0QVmwPUs59AT1ny5Bs4MFuDubRz2gez/WmCuvi36bfgJ8yaz+igQ1ijkchTq1k5njpvvF/7\n",
       "yHb0+rHMkVZFPs5PX+VH+kxRptKBzZEFOGdYUs+1EXewHXllpjxzlDIXjZwjKP6KUBkBySHd7IWz\n",
       "5jh7v4tIyJCjfy1M05GpRwiNzWwmKXFP6O/pirDLFGqyOePvlrRSLhA7FRwu8XkCa/Id6G8pg+bf\n",
       "3Alt5p6ETl9bmItpSG6t7hcYMOY20yBaYYSe3melFO8qsq9EzpZ043iBZyJBYOYNMq/1sYbJu7Hj\n",
       "pbEGmsVvl98QrO+ThztYWPuNSMlQlsGgQ0pSANW/RRZ6iY/WkT3v2RByAEwBjna/CS0iQYnanvB7\n",
       "8pyNgrLDKVacQ3Irl4RriMG8CeuECmJQZznuIIBG0TYDgOb+c/+dWNLC6HQXomA16bg6b7a7vWmL\n",
       "spYkOxrhFGcgtXze4i2yvm5y69RoUBzNxDlC61COpuPBpGu/z2WsoC9ZzW8BaBLjMYeDedWmZ32s\n",
       "aAXE0BykkhAqOYc/Hclg9/dStknzmWGSNeutEotMLxfRPMPSsTn3TnjPvvQR4mIe3/NxcQ9UQ20q\n",
       "6nU25MKiIXpAcgkNzzkrDA9WQObQ5h1zDK1gT21/v6VG7aooaKCdgmDLjVKyNrNoJxMFbQAAAE9B\n",
       "n7BFFSwQ/wAmjdu0q18QK31yP1nJ+NrxJ7esAHDOAVAbHmxPxBB3/+WcE/3bJQR+B6FcB8UVChdT\n",
       "qM/Jiz7R3Ex+MiQggE22yKphaw/gAAAARAGfz3RD/wBVhvvpQpmwE9ZYnK9V/ZSoRkqAEhQW3270\n",
       "xer+wk8MB53lM3IhtgrQuito7pSTX7rsTwO4fh+MwCNY/3WMAAAAOQGf0WpD/wBVkw6JQh0292t9\n",
       "2W7mBwWCI7nNDYucrYwcQEI7EMyNamtRZj8axvlTPq+cInedUSOYwQAAAzdBm9ZJqEFsmUwIKf/+\n",
       "1oywA5PtHDPdrGYCrf02fUZis4CzkWsY9Odj9vPXwgaIypyO7fIla44oKd2tcbgCGnuJzRa1aZHX\n",
       "YPX/P43JOBMiMSuF/wYg5hflX9ylnupjD0O8ZRm+lg/MY+6gU2vPtjR2f5le3QSSdLuCFPQ6lJNh\n",
       "3rL2L5ZSqcGBm4s8RgJTO/LQncYJhWTkiDXz3rkboSNz7lw0ZcZ5keITELUhZ37fpDCbfvnj96mO\n",
       "6GI+BiUECQmrO6D9wur3n0TjxP56B6xzqjWG/4Iz/qd8V6MY+pYaiiUuvn1iu9JnwThI45I94PmL\n",
       "eA4gQoPCJQ20N3GJFhCWdDGAqdvUOhjwf44vM5082Xz7Ul2rGIiWx6Mu7L/r2PH5nMM5VVOWYxML\n",
       "/2DcejbuTt7vYdE7IfTHQmJyJi/siQGOpXLBnutId+uZtf7q+fcZ1M777M6FFrLrKCAunaYXmedW\n",
       "pHbaLC1sbYwmDtzhapHWOWrROWrh0mhIILwtlKVjUPSAU+HkH72RrwcML2DLJA9ooDucozMk+37L\n",
       "OTJohQhC95e5Lafm8EJCWjk0SofZHNQF96VE87yHG5YvK0Fcyf7uftw26uCHJ0Y10igqP+QOLkFn\n",
       "LQ4sQtDW8wwNmKXjrb3le+sIKZ0QtnJYAduKWaxyd4YIcbzUIKZoQP8uDbiTO+z3SUMHZ8maxQab\n",
       "fUHoFChIiQqa3y5eFqFuqb5FATP5DXGSxZ9ytSVRhvQ+w8ETA8Y8zVP2CXQSVRYr5QsP69R8S+Od\n",
       "DQPET+NdxFTGdvLqlDxPUT7i00uIPiO6i6PtH4P5vmb9IAP4w84ugFhswcsHSoy1uefuAA5ASXjA\n",
       "s/JzbuKA969AQ/aRo/OhxWxKWBn+FYgOCEc21NLXgZHfINGM5FMbI+Noe43MCH5KufCwW635QDeP\n",
       "2bBkv95r2u0LtYo0MU0gOepbAzdLJ+RG19ZSx7c5SgueksL/+MbCRkwfGyf1y4bStLkDkvmvYcJx\n",
       "5Bgg5DHDiOIJZ+TC+89U0tNRSDHSAY3rDqNnpLbHsTwveGv4dqbD69OmxaEiwCrlzwjVxJRoOWCL\n",
       "jAs//PAAl7LhMOuAAAAAWUGf9EUVLBD/ACaN27T8c1WL9D6d7EyuCzpUGVaK/A5bJKH2EARHDEuz\n",
       "fBcOnFlM2u7QCcq0CxRUiCzbptWVSc9/Re46k6oXMid3/PiubmpZTZyGzkT/keEgAAAAQQGeE3RD\n",
       "/wBVhvvtYgSRCwKzud3ygEoy0l3znOwSxP4oaqLqVRJmnaKKwqx3lx5dZVRBM/Vmqe0BjNVKYgnt\n",
       "AwzZAAAANwGeFWpD/wBVkw6JQh029rhXAHncWYIxup4bbSApYbgAmHKl9RIFX+2U0fex8L+k4r7V\n",
       "qPBGiFwAAAMsQZoaSahBbJlMCCn//taMsAOOikFgzLAG2z1L8QWUkjolnYegtXzOxTHWp6dLkQ6A\n",
       "8LmVkoy1NpkuNP1q5pT6wtslMX8C+00sHAsWCZwlpKZvsJZpLLK7WN4RpgIHij664Gr+zGJja51j\n",
       "eruvdNmoz+1kBCe3sQo7zb3Gfhwg4hjCmWEKG1Ox/XtjHJPVi2NJ+hPeSznSxvXENN0mb1b+S+jb\n",
       "bZcQdY/mdP3PVsKya9GgLN+dRkfFaayKrDHNGrBIhpB9MLF7sJAZ+N2mwPruPyf2mXvoBeb/dj93\n",
       "juHRauRLvKLtNxfYd+sH/1nbgc79dN4v83G+m/dkW5vJoGlRDepmNQEbwN9KEiryMkcBWa7yjOzN\n",
       "ItQq6+7BgwSFEuPGjXRV6oc7Wja//fSDq49lFWG8TFcSz835ApksFGzgf5T+Cx2juB4Gd8kqzG15\n",
       "Ok74bvYex1K5qt35pdTy+F6F9f+SjcCSXYwWzlGKuMmo8tIOUkDUaCvP3TMG6qPyRXv/GmtX/7oB\n",
       "iH572EnBBZmNdnRw//Afd9L29FkgFSAGeBHzfP2fg8Mf+uq0Y0lgH6OFhCs5RSv0/ExDG5+cYWNQ\n",
       "5XpWFrRlPmy/93xKjuzo7COqFdApO3Fdd6AxrDtTvh9/miayirI2CvR6l2mGAiweANyLpQMz/oDt\n",
       "DDEhmED2U7xV6KsDbC1TONHSBURrJS12KxDL+KIAW/jGm2gzmFGoQT0B/sy0ufTnqafnFGyVqjfs\n",
       "x3EaKX9W2loaXy3ErAXxnTPveCALTKS8Y9BVtJlaW0uxW0SSy0TWlOO/pno9ATEsz1umkJ6Kgvfm\n",
       "8L3DzAIfuDEnB2IMLFHS8Wr98Hbf9+YTGe2yoxq+noKZCgbLRsfRWT80454TeSjDocZanXcCYkr2\n",
       "E/Mj3t1h2oJfY4WVZJ7HSChWC6OO7HHn9piKUSy/fL2cZrqbzUvLiERDP/VeyKfX/TwvvLjdhVBR\n",
       "ZYMvFwbf9GPvA+dCB3XDdm3RWMd9BgrUUZTPtp9RqwCM706AfkIEetXc/QlzAEvWZoDkVzHVPBqZ\n",
       "gRVmwshuKytvYezOVbDnh1IPxe977dEAAABhQZ44RRUsEP8AJo3btPzxDAJkP2NtcEzOfu3MFHIU\n",
       "uO45VAYz5nNozvZtSVtjafXDBjvHwpx8z2luXAR6f39OF+NW1/X0/6J05hRn8vUwsj+gqK/WXUCN\n",
       "dWCFuRPgVkwkIQAAADcBnld0Q/8AVYb76Ty2wa4V+/cvozp7Ega3jFHAABc7cw5f0wOgaM8QH4iX\n",
       "UtKFKNEXCpG8wwyfAAAAPwGeWWpD/wBVkw6IDiY3Fb7t/n7fx+7awz2B9jwL5c9NBMP7bAEHjDGs\n",
       "/IxHyltraCvVid0yyEhf/fjVNvt/UQAAA0hBml5JqEFsmUwIKf/+1oywA46KQUkQtgBG65p+O2jM\n",
       "KFGVXgkZPDtddQ/jMiXzaHuCFs7KiXo1EeUc4c4Czk+seouU0LOomPET9ft/C+Bg0dkHAz72AbCg\n",
       "zhrU10+kTeShRMu3d7tKyn5rliab8ib54CuqJpewgP27Cn18NRghh7KJ+8Lvq59Va4h6rNis5wDu\n",
       "N83hbUkF6mKgSCiuLIFX10ISKawUeTFhAx8HkR1IGv9AKleJSNPeXCAWrEFZDwJiral1Crqvt8Fx\n",
       "C4uvt4U7BNTUC5E37MNX3sihlj5UtTebgnV9d4l1QjA1vokwKUfy3Uc7kyeotEn/9O/CkPzVX+cs\n",
       "5PohULmJw8znyoywSUJ2IT9hhP/n1dRWHiVus8kgHWc/+ie2x7V58YqGcp+09NoE4trBXob6gQ/1\n",
       "PsIAT5g2kUS6Y863VwkxuBPTyE4BvOOAp0LusDbOQ4ppo8gVF1/U9DZACqW5Jus3drQAttCiWWCv\n",
       "OuhXSVZ3dF3OzQjmEHQus37Qyum+FfdcmlH4ejc5p2oa/PJjH2nj7eXn68uDykjpJpPjeQiP56cw\n",
       "bTRFg63QtCebUQqB0tlNxjKlhoaijgIFJgI9FpBl5jVXY3SXHf60m8o3spqsVu25ddXIL8igWmbM\n",
       "+D8/D7mLf2PLtkLDWMd1yTNpwP8HtuFjRsMoX+6rz1vtpLFJ/lfda2eCe2pmE+iWfpGpF+gD/t9L\n",
       "6vrpFYw/1Q0ywYPkr408XcX0KUBs3GYavUAMg4JFDj1YOS4BI72H9XPEBzzL8Uc0uudx4HwYTQci\n",
       "Y10moz3VgeH08oa1QKse8iYWDOt95zYru1RwjpjGbdJRdNhqfhMdROeOdJRGKwDOa+C0e1ADXbGa\n",
       "y7S/9UgghWVX1Ql7UfPwV8x70KIOOO/imgpGKzpAuucVqhJdbpCW5lPoYuZxgKL48lsyQ5tCObcT\n",
       "vkTwxbMbRuYr7fu92o2lEl768JyfpHX+kyDorif0E+vuyUMn7kGWMhGPqopU02lFeUKThXxDVoXH\n",
       "FUgKLiPEb85JICrFCK3KqMYwdO/K3iaXSbz1JFEfggnHciD+hu3C9dsr6SjlLobfEtxYbxC6MRw9\n",
       "sQ0yQs2q8mHzoeAAAABfQZ58RRUsEP8AJo3btPwWVSKeAAV4WHScg8+rYaxM1YExNcV2bP8SZP0S\n",
       "4F5ObUrNa4bNUX+4QfliiL+ii3NZbBXoZjt5k1JDKr+ImQlngd/WTOBJNY9cqj+pZyXnqCEAAAAu\n",
       "AZ6bdEP/AFWG++0jQgvmm4I2K9wUBnsGSz2VK4N0iXcCOi6mFDF0mwP7cdGgSwAAADcBnp1qQ/8A\n",
       "VZMOh/wnA+qJicS8OmWaREvLi3ltFtFK7yb5s2G0cVyFsHm/y2s/Wnye1rAGyB1QAAADlEGagkmo\n",
       "QWyZTAgp//7WjLADjoc0aRLcABuWlvKV3R2kWncTPJDIum2vNJwXexaPDrxD8104k3tLheczHXDc\n",
       "JdzW+EoSF/kOxogb8uVXbLSGq50bZKcVWkcQMTEE/xTstXNhQYRGt0mqndJojzRAnilBezRL+RWt\n",
       "Vp+haE13DQXnl5FsdQ7bBlrtRBOut9rmFQtsjpuhyp3Y2bTui1RhrL8rE6mlqNtE5+akTUq67QV6\n",
       "yq6HgQL4jtpmTw6dy5EK/2SuVCtFYLN/u5pDCD5uEsj7ofnK4Lzsx9IJ90Fwm9dUSCZt2cPvd6lq\n",
       "uJ0j00j9/a0AmCbaJJWCwzpDQlL/+XaI+125MM9pXT6e42QUWBJGHRTxg+EvBqP0ZSrqk21p1SRT\n",
       "f1o7lwYai1dH5Bp7fg9lwctpAmXhMtZRDQnCotun5CV0ekRNTiH3GpdE9FR18/8qiIsH72NssOTo\n",
       "ewJxos+U6EUsM+W1NomFssq5IHeUbd32iW/3oy/3jnsvCKH4WbKt1xugcQIEhS/8DvBLqQN78lF1\n",
       "qDTnfgndnOWzp3IJEIsu5BjDMvettZ74uf97znTCDJderx6AJGmRNntccsI59HEFDOS4BGp3fKxF\n",
       "40Gs8f5R6QPcXmERb+G9wswLI3g9PIBabQjpp9MvevmgkA5sY6a/hkF/paEpLrT2RWjCR2bQFYEO\n",
       "Q5jcYb6TQTfufzCVujAwBrlfEOKPwXvCmdx7RoP9tHJDIYo/7zLYu3Ur76GLQlDCWmSXeC9OChhI\n",
       "+jP5+E1PVXdSxyEORAgIoY8dd6Q9zPJ2C0dm1BbgQ5kp/cQurnTBtjgvLG/gnZnDlP5xzdb8x9nJ\n",
       "X0RKBqjrGiiNFdDIS4G2Z0p0CCMstyXUCSBi7Bwwx6FHdOJCqzauiTKIbuB7ZkuwAnsiWjXP0dop\n",
       "sBHuGcf/6I5iAsG7zMh4SsKQLboXjKTxp57J2EU8MT573+WV0HMPQOWRPWfTIu7bKaoazxDfDt59\n",
       "Jl4Ddhod3U+UMjHS0ooZhfQObSl5H5LE4P9Nr/NcjzdfPfRRzVckDuY5+2XPbUM2Yg7r42z+PhvP\n",
       "8fAKYq9FvryW6c5U7wna7IQPfKd2CYM1slE6WVyYEzENBePhUF/lZ7Fa25e1sSav3NKj7upyYwrU\n",
       "R/tj5ApFSA5kHRo4Jtnz09PCinHtyrovrdKgPSBrHaygeyRmTRzJatsF7SWUAOlV2SH2vvTMO6AA\n",
       "AABdQZ6gRRUsEP8AJo3btPpdnqwwYAiKnVNrmv7/r8Iu3I9c+3+XGOA3ScxodHK/lw2H6oLi5CLJ\n",
       "5Tm7hmdq4ILi530rzC7v0VbQZxEpsxf0sJm7O/kYwkMFI1XNxWoNAAAALQGe33RD/wBVhvvnYSHy\n",
       "Wtpb0AAcbKWU/5VEJ6OjocovkyxlQ4ovcblGprzE6AAAAEIBnsFqQ/8AVZMOjV9/v97QQB9huxbS\n",
       "C8QJ9w8unojub1afHkB9S/igACzOCHuzyF8jGKJDup8XUABPCn5dtOrLS10AAAMvQZrGSahBbJlM\n",
       "CCf//rUqgA3vkxUNADpXpQXcvk/RGTPE5SUA8FLTQ4F4pgzXAn3YCTzMWQqfrN8NzQY6ih/GtG1c\n",
       "kptEL5N2gSnRWZMAgYlui3M440DoJBujyuomHyzss75Qq6cdxM/nzlfTQ5S39qsZ65+RZWXmiq+G\n",
       "u8KZ1AbIGmBpp5kvv/3tYw1MLrY4Lk/McbZwKqacG614DcNKdSFFDNbN6an5fzhuD66Grc7mBN2g\n",
       "y/mQqmQLOj0Dj/SoBoxwTS8CWIfOfz4Qi/uAD8x83frIlBP7uO+agNLBVXw7nRaGT6YnueLzVgck\n",
       "uA28d5TdeIx0LhvvBnNhzHfOZu5QZvz0L2B4OU15xYygc4islrL2n5uJmaE4CAXFAjDYKGry7USC\n",
       "UmTgGP0heU7AlUCz02rzInDs784m7QqxQy6GR5Z44Y0x2kOmCLHChSMNZC1PuJ9yzenp8HfkZGrY\n",
       "VdISlwEppcVHdcZ+pRKnFXcglIH+1i4JurwwyO9A/noc5EA8reGhRPWup4wKWUM3s4liCAekMLY8\n",
       "e8MDTh+jxR9RzaSBNEdazl+4ZD0wbn0rJuMLyYmYsSYjjwkwtRleMV0AyieK62gxb7BmB+y5xbUX\n",
       "xY3TWNHxXslVQs4+SlocpF9GYkezpZl7CVkvADMZB6Kn7n6DnHCcc+XuW0BLSPOm5iTfo6oxkf7Q\n",
       "b5lgmWRHdXGQG9zGlLxs+JsjCZLIw7LK+udDYNAkiP2B2+n9iAQXCZj9GSt1PPA/6RN+0AXJmu8M\n",
       "n+caeeSS3jjlxCYF24w5hFLz56qqsBEo2TNavpfhyHT5PjbjNfyKA5Rmp+qwZfc6Y7fXsGPpC7t6\n",
       "iMf54CAfyfmtf7MwnPlyRkqm/gnNRuJk1fMJAs0ep5kLUU1GvIdNAdy/1xIoxAdULO7araHLfJ9J\n",
       "PfWRCArglNb0EfjlC/YY4H60nXkc0o4QasdVEEUQofIz5682u92glp6e4a0wXSyMGAX9zOjcfcBw\n",
       "4vUaEsmPnxQDSe3hIJHkMMTgM3C5pAXBNvTSlnWAUFVgMySYZ13tgAc8E9c4vLwJeaEMlNa3+6ji\n",
       "FwiPc3LyA0EAAACCQZ7kRRUsEP8AJo3btPpZbjIwAzRnIp6A2o25eVa9YCxovqW3vhPwOCWFZ1ZT\n",
       "K4b95vo2h52a5/kGwLXRzJyqS1GzdVUvyUT6L6mQWKH55MyimkZ/5UABpsYut7d4rhQ6TdTkwi1p\n",
       "DRplP8ZfJ7wcWc+JQ+5Jf/NVyCqsKiBaZpLSUQAAADMBnwN0Q/8AVYb77WkSwA2NLchqIYoTXf76\n",
       "l76f41BiH/n5ywQI8yKF2Fc1zT4X22noXUEAAAA2AZ8FakP/AFWTDo1EgBaUQPE7+Rm5V9UlcFeK\n",
       "a9e0UMBL6ppDvgX5GhdmykjICnF8gEVLEJAFAAACHEGbCUmoQWyZTAgp//7WjLADka44juAAjBSs\n",
       "a4B1dN0vqPGs3lyrXDGbEEqyXdEY10BmeEQl+96z9y6FNvyx75kI7b8DVCEit4AOPiWi9fGevbh6\n",
       "r5HepGjXIIve7xBw49kG8jzr8Ix0GYtS5vh0yHJNbH6494+O6Ec5pNoWCgVK1G6qTdnSnCs/YBQg\n",
       "lI/4qP+efrvWS1RZbOc0N+soAidpnT1WOXBynHHnFQrnELmuhGDY/JLRn4J3Ok8Uc60GIBjRK37E\n",
       "V4/7LPUo9jR3VVKXS+uF2MjWVVLpXm84iQs6chKHVj3UjUwBql3AZdMu2I7EEcKxbKN2cmcgz03e\n",
       "7/S/NtmTS32V52FlKc6jVm5s84icZPkloK/FYeDccY3gW4laFCDoe61mj2n8A1IR0PcmP8iAyNb8\n",
       "HiIt28N5npm0jh1IyyCluxZEtqQrXu6IoGmtnAPzcJCXMFLQ10GOaeK6YcPROXWM0N0iCyH0Ln9x\n",
       "AMQ6s8JaCEkg5l+qColobjQ+KGwjWHLN15y8MECVjlcgvIjKOIAH5FhBV3pJJ9fG+TYdzkYZGyKv\n",
       "IIoxzCfUTofSKDIG+0vVyeSouP/JaWJDsP35Rz4nxozvbOiBlZKQt3aEP+Fcfq8UyGodirYqka1o\n",
       "YxLgtoxMWPR4qYeXtWYfwzLEoCXsbLzSHxgtcFpWYSucXGV5Hu9B2Uzu5mH1LEMiLODkC5SZo5oV\n",
       "DwAAAHtBnydFFSwQ/wAmjdu0/DGOhEwA3DCivlR+bn2lbQNsh9N0yKP0Wqx3+kMEK7A8I9i3Zjxz\n",
       "R4wAIHLjxZPiJ/Eh+t9SOwKQiuX5zYzDJzVyWgh/bY+EcotX4brZe6TXyArQevBgZFZVY+DaL6yg\n",
       "hxbT/MomHBN9Urp8GpkAAACBAZ9IakP/AFWTDo1j0xi0DaFygT4qTc5b+Wg5a7MyxeacTFEYX/WC\n",
       "LUtEHXMCMogBY+g/06kyg2Rz/3k1+BQafr1uUdc0BbtJdBCrTRGDlZl8p+/EQWjEFGerJx8EtTuk\n",
       "jm8ee7GyodVA0a1ERaun2mp5cbw5lPeUSd+UE5QG2BE+AAAC5UGbTUmoQWyZTAgp//7WjLADka5I\n",
       "DEADRtTrebWRQmA49QZzw7gL8v4LodLITuQxM9s+1VMzHIGPyKhXri6z/qhd2ZANz8m1Y6cDeMPq\n",
       "Fdq9HPTJpHG6XuoAsoyPGEyWCTKli8lpmZa2F/QdlNIsqvMvW8M5weGPBvMpGsvv9N/bbaauW1iJ\n",
       "4A1ZQtIvKtWH+2QbpvQF33ne+tbsVVoCgBKWe4N+7zvxK9wLhgETTI6nNZNuqec2CoBKnm3b8G8K\n",
       "dkiKsKJ7VmTLr85NkY0IqvyvDxIW6v0/dCkFPiYFIrT5LmBFocxiRPsWM0rOgKTtgRgrpddHaeah\n",
       "ZSLCkajoEUHt71FvrmvsGC60ydTkXm7BHjhEXc/3o/JuIgqDuZ8Zgncr1vVsvkkYoIno3pMR1QTT\n",
       "6UR2/LNJU48hjanw6/kSFkdqUT96bWw+Fx2+34wXVFrJh1S9gweL1zAy9ayyFHiYmdP6+tnyAQCd\n",
       "UI16ARv9NHdt1w+g+bamlwcet6H9pLT5YWqRu9R8QA5Ye2Uu1LE3sBmvPxGKSfM48d1qWwhn/UVc\n",
       "GawngZdqRNJSFUtsH8frjCg8sA6R0OL30HHBO5V5A5z3HUEQKRdAMwya6BA2QYABFqLfboHg2a+w\n",
       "9hh3e05dUaq3tnbSMErwV9fi5o7VgJ7fDmf5IdoP5OI6qXUg96tN1muNCUv9KaTD7iSvDLEjP0D6\n",
       "FpPWjGqmkLIxITTb89/mvGK/GFBy0T+Rjxb6wNKAyqI850L+33FoY5hoBOaGJGpvfb+qmfzrH1OA\n",
       "Y5ehvUl2IiSIOYEcyf1CXGfZ+jlbCgbWr0paJic9SxpYj8ZPJ4ghbQWZCwN/d5sR7trYnhDmjL00\n",
       "7fz/nj6OEu+aGiIirZ28+MEcTA4JRdpdYbQ5ABtSBIruhXlbiWHwPILAu+QAiaIBaVpqm3fQ38M5\n",
       "Ii1JqOiXCzIZ8vyX9teOsOgh0pLg3n8EiKT5WGH4KwkA9OODCQAAAHxBn2tFFSwQ/wAmjdu0+lnf\n",
       "2hfEANlguqgK5YxP8SW/ZXhLAjKqIe50sLkp/+bGnU6VHfJtHqawHteCyUKKhw65xi48vUJCf/pT\n",
       "/UBG/mr68JpPrmd73A/NJ2dJuRVq1JV/gItGXuwgOVqfBm6u2p90+msYu4WdDjSQ8LyAAAAAbgGf\n",
       "inRD/wBVhvvtXyLPhZF9LMXa7K9ZB3sjSCoGlGNyZuOwh59BVW8xlmKnQemDi1RRizx0X1rvE0NT\n",
       "hMqqUKbkTRn7cBp5Y+vTd0fdV6uh2YlV9vRzs+WQqAAumyR4E/r8ZncFnl/Hyi7Il4P8AAAAaAGf\n",
       "jGpD/wBVkw6JIeqGBnw99b+ZIiwhTwStqjyUE33WAC5xtMHqLdIHe14kn+5aqLsw6gzp+GCazPjM\n",
       "bbiAeamdQ9STtTJ69jZXRO1Y1ihKqA3ApYRYqfGd2Wv6Ln33oFA7H16KjHvBAAACz0GbkUmoQWyZ\n",
       "TAgn//61KoAhGYm/xwh1ALU47wTcF3FH8OqYTLJLCpe5nh8lLEstHOjma3/J2fVkHmyKPTJ1cw4z\n",
       "lfcSAOct7FWUY+ZbVq9Fpc0EFx9VD4tatkBaGMeovRNfcpHc8zT/MfDTLYjQe398PbQi4W3DB1aZ\n",
       "2mJUbaYGHwzBNrJyJf/bmhQmZ/a3n3jDnS1vaz/RX3iS7FWePf4pXnjCOgfq+wI7qEjueW/o1dsU\n",
       "hlbcLn/2oO2V4Auxt9AUSHjByIduBZFjvrJVNOCxoJuIeRBq+yGD4JkZFum5gNded0oQkmE+SCGf\n",
       "9MdIbyK4Sj6JZYLvKnOF6b5lKoNn5dbT9zsHzX/3vvxImhjuplAyJwu6T7uj2GIJqq/N9anIqOTE\n",
       "+JG9Fyx+rqCJzV9Q9eVr+HIx5NtSY3IDA+oqwp2JQcK/6OLvQNHRoExACaug2P9RZXgLGCjOfcVe\n",
       "ATgEhDZOhvFSTOJE3RyBK7WEAQMhAS++xW7+cVILJ5Z7Me3LL85mT/4TUUuTWg4X0ekdpL9cu223\n",
       "QMAtJlsmeZoHh64zxIcib/p5hSijneCYxaGpIArg6LcwHHW0cmePxniWdFSrwjZjGk3WTXxT1DQl\n",
       "TulP5AHopaS9Mqs+nUq8Y62CN3/9oZL1/UIEWVSBOBmk8WSIbd9xEsEtaPakCdHFBYFaKvaZAmat\n",
       "T5rgD0E97ujEgKXn8R2dRjiPMOgLXIe1suUgGZp3S9tdEFdiOyhBxAIo9hLkUUe5DgRqGEAmAe2d\n",
       "9yE7hUkdu3vwaiNmffMrFQWNVyQmXrtSa/kpIDHlnCukS+wg14VPSRXPk1tLe7zCaq0Vs8FYkZj0\n",
       "aNpu9VG4ZU129iv06zx7z5NZVaxfOwb3/YvAOzHPdcJ07pgJJMcbXfhzjF9hY8w8azlPBTKmi2cC\n",
       "XGkXm5idFvUJhMirh/NfIUt24c31GnF5/WtBAAAAWEGfr0UVLBD/ACaN27nDpRZyCV5o10FGyvMk\n",
       "UtX4LGdibRIUeYU19/s1FezYw5HlQ2YwLumJJNuFrbnDP1rn9l1lE5Nj95y35edv/q4AcoqUUpTS\n",
       "xqUBucUAAAA8AZ/OdEP/AFWG++1c1EiH4xVx9NY4sitlrsacyJDM1GzVlQmtGouYQR/PrVyOUaoW\n",
       "cM3UTQ41zGlBDBIwAAAAVgGf0GpD/wBVkw6NXlXemPH4Amllee2H1l2C906vzZMkDVl1gr8mewtz\n",
       "J/yrqO+OYvANnEZqnRQ/vgrvvTFhQJrzRDo6ALjjtiNOWgMuRbCsr/M/rBiQAAACuEGb1UmoQWyZ\n",
       "TAgn//61KoAhEm1JLgA5jDO3ZIR5N0gmA4xuG/g6kwxYb6N4gXNUDsBg7jluVGfdEVLsj7FLCy7W\n",
       "Ykgacd53s4I4rS2EIwebZpAxhpnSRUi6M+2O412rkI6U4+h+lV42vxDpvMfiibfHPYFkAN7f+XOy\n",
       "W0ZgL2vq0JqPslsyaBD197xDfCKSIzYcCBTp0Ia9bMYHZntacXZ2ZdbfsbU4ROSQjVzYq8f/PVXM\n",
       "3zurAmZ6L4XLqwveqrEkIrIhjXszdTVdnUjlJYZ4ciYTB9CrCFlr6NwX/hNonR8zpBRQn/30SBS0\n",
       "iM3qLwrqlH+b9LPwnLaGt0bAe7ZXopdn8H8SDZWMYsWfwxIyOPtl1I3NuPPgQuT5wRGOyvi6331Q\n",
       "H2mbypC7qbFKmOKH7k23qpa6F2C/nIXam2ze8NMTA/3a2wuuo25oZzOyJSy0qjRd8OcvDMgpZg8E\n",
       "xo2vonHVMb9PySgRyqV22nb8Sn8+6RYYh342ReElKgFyhrJlwKWRt2UiHabCOuL5FNLTgVaUMv7x\n",
       "g4pfqnXnAwGc5kx5feo0TNkoLG/n/JYhEZw87/ijGXfF4nnlggOmHhyhI0F8I6KaGQP1Rbbd+Ki1\n",
       "D4Gx/uzmzRwPB8ALJxukx9VB9FLlFqjNhvfnR4CZJZN48JycYeWctAn7/oaEEvfQK1G7DevEyNUX\n",
       "QM4sGsGPuYsvCKM1yvCEQSmhri0cEBkV71QNaLp3Fby3eWnubW02tOIus27ApBuZFXgnJeY6mu6H\n",
       "GzK8fUBCdo4djhzAMmdtGe94tBQn5ePG9KVijxy4LkFYDpKn/99XBhE8eoxPHAU0dd3yWuHzoEkb\n",
       "DRIwxNMtevK/BnU7vkRnmrr+jMtbjBMI4/B7ao/9AEX11aOp9ivf428WzeY/Gfwibk9MfMbJ2MlQ\n",
       "2mtxwQAAAFNBn/NFFSwQ/wAmjdu5uAiU0MWm+1AAg8pgmlbss0d4WkV5dacLM52Hqo/RtDwEmQe8\n",
       "gDib3tmbWwP5Fu1kOUL8fJ/f6BxU/8LZ1L3jC8V7qssBdQAAAF0BnhJ0Q/8AVYb8JdY79wQQfTJ/\n",
       "9+RJG+J+2/UM4xJ/vQQ6w979fb5nNhvJ/8gtFpD0Hs8STOMN27YgBs02JmbCmF4UAErT+22fTIsX\n",
       "FpMGEtNC1MIiz1H5f30QdEAAAABEAZ4UakP/AFWTDsW9BnPSonECcguoDCNAn86Y83k4u3YaozJd\n",
       "jqcwLIIEO6QAGyzahJ6tVE8TOXEw4H87gCEKCarIUeUAAAHNQZoZSahBbJlMCCf//rUqgCESc84s\n",
       "6cwtQAi9iJ5/dmUiKXq3phCHIe/dc1/X7Zb+kyqeVhszt/DXZ0koLd9TBMgUoY5SHW2aJCOnxh3r\n",
       "p7pbFmmhWiZdIcUitBKdH47/F3Ew4qZC0clfc3J16hUaBeOhN6Uj3ZX/16PQSrPHgiMMv+F1YWy1\n",
       "pWFSHhL4tZAyJ6J6yLyVqgYNuDM9zhVvsXB317mxWPtfaHyawW4evPQLVJlyMiQGxZE9QrwzJ/YJ\n",
       "xfZBH5X8IXroJi9Wi0001ovqZLyD/QGGVH9JgFqsdvhM+WlQI1NiGqD+/lSHoGL4QPQhdUTp4OZT\n",
       "hIgKBw0fr5nBEZpQWiP1IEM1gq9WY9yRhSu9vjCA/SY+DKmH7+Z7z6nhyaEvjCtr4u3HHUPwnWTN\n",
       "DHkpI9SzNjspvDy86QiXp2nqh5ktILcOPSlinDszWxgWuZvJKvT0OMnBIBdSv1y1nVALXYdlpqeO\n",
       "GwSdlKN1zrMnDkcH4VlbcvEDcFqqgCH7xCJR6XlZB8XexR2xDg+xXUXZufm9gBfFH4Sil+b8o5lj\n",
       "SnItRENHU103HIJBTUQj12xWPU4GcDt54XtSd79cLq3+7m0APQlGIBwAAABiQZ43RRUsEP8AJo3b\n",
       "ubgJHIg0D/wd7ltygntgIsrh1KKYbBBceJvAJqrjzA2uKLTQJ5LfeibM1+gE6fK5HxoxLfdav87a\n",
       "GwURBdhb9sPSsEJWjs41eLuf8BfO+0oxFkkzQ8EAAACIAZ5WdEP/AFWG++r9dNLU4WYYkUggaG3Y\n",
       "/lZINLpmi9eEl8dhZ2XLRL1wwZ9pD+RwZbnnAALT07stBVQkSPWN09e4Z2S0dKVRSvykGGUZHlPy\n",
       "WZBplV4xpN4tfi4HyKuVU/1UwLPOWTNr+6vaXwqT+xoKKadIPekpxJc21U+a2RJhWkMMha8eKQAA\n",
       "ADIBnlhqQ/8AVZMOhkB6kZQWIIjdTxjB/UJL1VS2r3tEqgYDytr+6vZjojGErv6kxoXz0AAAAgVB\n",
       "ml1JqEFsmUwIJf/+tSqAIQp04lIpGZdgCL2HaEmMpnEAkwZb8uvJWDd27IC7uvYwhUmiTVuJKe2u\n",
       "nkxzO4/HPiuybjlmuOtRPFRb+9WU9U31rAyT8AVfL+ZHrZxltTREwW+SuiEN5qQ+eVzG1kKGqX9X\n",
       "DXOGRA7UJncdoA5lnvl9s4ZyR5SuCWeQQt356W4XJTsM/2ffFonpEIwgWpIkVbNYeykExz0XjF1J\n",
       "2DsH8awe3zLteHkxdtMZ4U7jgOOs1fss814hgCI2LxIFpNyhkIE0EjKimWXs6VkKhu0ZKSUJU/YK\n",
       "ZWe+LAbY5dooGsX6frCrkbk1sHPkNG8FL61fcya0Rnq8GGrcgoJUoD9jNhs+Dr1/kTS8egrriqlg\n",
       "3EPMVVzqJ6MMchilDsh2OZMzJpGFmvlvR3rXLWbhjcKjwh1QoJbOs0BH6NUwVqmHn7vgPNEpaat8\n",
       "4Q4QkeANcCHQ6XC3oDY/i1PFOqEVL6X5X3nZ6fCItuO9xWTb85pJZgavfermIkSzechcGMwYnUGG\n",
       "B4ngdsGeEeBSXYchYhCeGfE+XX9MG+5nQo/PyQPhQp/j4ctKvzMApAjyr+d2ZrGUqUa4JhdBeIvx\n",
       "9IDcWBY2On2CkGd51E9CY5sl3NcU+eP8V0DZsxRITroQh9t62+MM/HixQqC9NMALVtdutOB2ao2c\n",
       "0e2BAAAAhEGee0UVLBD/ACaN27m0MBFwxVifQz6Xcp9z+TJLOkKToAVl5a9/mVSPeCEtYtxiMmSz\n",
       "v7CxcILJH+E6xbnHqm7ciT6xZ5pWFmloX3UZR/SzW94xmcbyZp84jxtVRZh8BPtVunQQbJboQup5\n",
       "pjMnFME8ouaSIBpNX74GDBGHfnQ+YYc+4AAAAFYBnpp0Q/8AVYb76UCdgoMrup5Zanu2z8HTBc2F\n",
       "SUDS71WkRlmsQAtKp/x5YjHTG6mncnTXbBWwlhchry6e/8TxhXU0Kwz31e4YjWzluwigqj8zuKwk\n",
       "4QAAAC0BnpxqQ/8AVZMOhj1EMUBL1/BRuyJR/c73Nwx+DbGvzAbDivfKrdTVapbRvycAAAEQQZqA\n",
       "SahBbJlMCCX//rUqgCCxqfyvqAFcUAwZkJYbRE5bYJMGHZDUDclDoQy/88f0spjFZ9rpY+pXGFdi\n",
       "q2Sq4Eu3TzEpS682IFi44D3F3fXEHclDgysIhlgVHok1ib3pbygxVWMRXJZ07seUr4XoqPYicp4L\n",
       "tywCMbnLdo3QqK8bYrprBQcmEclStSlQNmE/9MebUR7OmaTjyay4C9YFK9h4JClCOytgf0u6gPRn\n",
       "9bQoryBrbDEKdmLcCFGpAhALvJdaPdoKn6ruJys7i/0y1IF66rYUmxBt36f0+gR//nU8/3vKV9UX\n",
       "WNngEiNBDO5r5MRKi/8kFXdsXg6WIAHXISFigCAF3wwXZVUeN5dkmHgAAAA5QZ6+RRUsEP8AJo3b\n",
       "uaFI9NPbXF2dlxi/rT/syTUeN30aOT0V5v3OGfrXXv8sr7MlB+rVfUc0F854AAAANAGe32pD/wBV\n",
       "kw7GGDo4M9y/9P7tdcpuOJKLwF8lneNtcOT88JESA+CJlISZ9QRAUQNXIeEAAADWQZrDSahBbJlM\n",
       "CH///qmWAPnBZd3QAWk9O6EqRpWuF7LtOOfgfNgHWza7BwuQOTtnjiIr7e570QyEO+PFqsHns/oH\n",
       "ZmTGGV+2tVIlsFs0RvcxNppTEprHnpL5wBTzKflq3CIdyINJoYtpzn9zQqnO6n5GCokv6YrOsHcq\n",
       "rXwBW3Pz0oR7/RCldIP/UcoXn2AcxqwSI1mmAiK7eIoND2AF/IOG9EEY2I01LyoTYjVNpAdzGwiT\n",
       "2ZOPfRhOXOtEdVOz6Y0KnOjkU8d1PwFhlfdeYQayXg/zpgAAAEhBnuFFFSwQ/wAmjdu5f58JiABI\n",
       "8wshNIPcBoD0wc/LnFb6arR2Q4gBO/lARh9rGdT4lcepbu1wwfgHLMGJRnrBOhUWm44IzYEAAAAy\n",
       "AZ8CakP/AFWTDoY9RDF6i09yZw3x5es6q/4ykMUAB5dJSLSOfXZACkxIEVDw0Sj0Ie8AAAeWbW9v\n",
       "dgAAAGxtdmhkAAAAAAAAAAAAAAAAAAAD6AAATiAAAQAAAQAAAAAAAAAAAAAAAAEAAAAAAAAAAAAA\n",
       "AAAAAAABAAAAAAAAAAAAAAAAAABAAAAAAAAAAAAAAAAAAAAAAAAAAAAAAAAAAAAAAAAAAgAABsB0\n",
       "cmFrAAAAXHRraGQAAAADAAAAAAAAAAAAAAABAAAAAAAATiAAAAAAAAAAAAAAAAAAAAAAAAEAAAAA\n",
       "AAAAAAAAAAAAAAABAAAAAAAAAAAAAAAAAABAAAAAAbAAAAEgAAAAAAAkZWR0cwAAABxlbHN0AAAA\n",
       "AAAAAAEAAE4gAAAQAAABAAAAAAY4bWRpYQAAACBtZGhkAAAAAAAAAAAAAAAAAAAoAAADIABVxAAA\n",
       "AAAALWhkbHIAAAAAAAAAAHZpZGUAAAAAAAAAAAAAAABWaWRlb0hhbmRsZXIAAAAF421pbmYAAAAU\n",
       "dm1oZAAAAAEAAAAAAAAAAAAAACRkaW5mAAAAHGRyZWYAAAAAAAAAAQAAAAx1cmwgAAAAAQAABaNz\n",
       "dGJsAAAAs3N0c2QAAAAAAAAAAQAAAKNhdmMxAAAAAAAAAAEAAAAAAAAAAAAAAAAAAAAAAbABIABI\n",
       "AAAASAAAAAAAAAABAAAAAAAAAAAAAAAAAAAAAAAAAAAAAAAAAAAAAAAAAAAAGP//AAAAMWF2Y0MB\n",
       "ZAAV/+EAGGdkABWs2UGwloQAAAMABAAAAwAoPFi2WAEABmjr48siwAAAABx1dWlka2hA8l8kT8W6\n",
       "OaUbzwMj8wAAAAAAAAAYc3R0cwAAAAAAAAABAAAAZAAACAAAAAAUc3RzcwAAAAAAAAABAAAAAQAA\n",
       "AuhjdHRzAAAAAAAAAFsAAAAEAAAQAAAAAAEAACAAAAAAAgAACAAAAAABAAAQAAAAAAEAABgAAAAA\n",
       "AQAACAAAAAACAAAQAAAAAAEAABgAAAAAAQAACAAAAAABAAAYAAAAAAEAAAgAAAAAAQAAIAAAAAAC\n",
       "AAAIAAAAAAEAACgAAAAAAQAAEAAAAAABAAAAAAAAAAEAAAgAAAAAAQAAKAAAAAABAAAQAAAAAAEA\n",
       "AAAAAAAAAQAACAAAAAABAAAoAAAAAAEAABAAAAAAAQAAAAAAAAABAAAIAAAAAAEAACgAAAAAAQAA\n",
       "EAAAAAABAAAAAAAAAAEAAAgAAAAAAQAAKAAAAAABAAAQAAAAAAEAAAAAAAAAAQAACAAAAAABAAAo\n",
       "AAAAAAEAABAAAAAAAQAAAAAAAAABAAAIAAAAAAEAACgAAAAAAQAAEAAAAAABAAAAAAAAAAEAAAgA\n",
       "AAAAAQAAKAAAAAABAAAQAAAAAAEAAAAAAAAAAQAACAAAAAABAAAoAAAAAAEAABAAAAAAAQAAAAAA\n",
       "AAABAAAIAAAAAAEAACgAAAAAAQAAEAAAAAABAAAAAAAAAAEAAAgAAAAAAQAAKAAAAAABAAAQAAAA\n",
       "AAEAAAAAAAAAAQAACAAAAAABAAAoAAAAAAEAABAAAAAAAQAAAAAAAAABAAAIAAAAAAEAACgAAAAA\n",
       "AQAAEAAAAAABAAAAAAAAAAEAAAgAAAAAAQAAIAAAAAACAAAIAAAAAAEAACgAAAAAAQAAEAAAAAAB\n",
       "AAAAAAAAAAEAAAgAAAAAAQAAKAAAAAABAAAQAAAAAAEAAAAAAAAAAQAACAAAAAABAAAoAAAAAAEA\n",
       "ABAAAAAAAQAAAAAAAAABAAAIAAAAAAEAACgAAAAAAQAAEAAAAAABAAAAAAAAAAEAAAgAAAAAAQAA\n",
       "KAAAAAABAAAQAAAAAAEAAAAAAAAAAQAACAAAAAABAAAgAAAAAAIAAAgAAAAAAQAAIAAAAAACAAAI\n",
       "AAAAABxzdHNjAAAAAAAAAAEAAAABAAAAZAAAAAEAAAGkc3RzegAAAAAAAAAAAAAAZAAAFogAAAPE\n",
       "AAADbAAAA0cAAAR6AAAAuwAAAKMAAAIiAAACyQAAAHkAAAIiAAAChwAAAtIAAABxAAADeQAAAEcA\n",
       "AAMkAAAAiQAAAEkAAAQZAAAAowAAADcAAAA9AAADoAAAAIsAAABGAAAAWQAAAz4AAACHAAAAcgAA\n",
       "ADoAAANzAAAAkgAAAEAAAABsAAAD8AAAAHEAAABRAAAALQAAA9EAAABrAAAAPAAAAF8AAAMrAAAA\n",
       "TgAAADcAAABEAAADIwAAAFMAAABIAAAAPQAAAzsAAABdAAAARQAAADsAAAMwAAAAZQAAADsAAABD\n",
       "AAADTAAAAGMAAAAyAAAAOwAAA5gAAABhAAAAMQAAAEYAAAMzAAAAhgAAADcAAAA6AAACIAAAAH8A\n",
       "AACFAAAC6QAAAIAAAAByAAAAbAAAAtMAAABcAAAAQAAAAFoAAAK8AAAAVwAAAGEAAABIAAAB0QAA\n",
       "AGYAAACMAAAANgAAAgkAAACIAAAAWgAAADEAAAEUAAAAPQAAADgAAADaAAAATAAAADYAAAAUc3Rj\n",
       "bwAAAAAAAAABAAAALAAAAGJ1ZHRhAAAAWm1ldGEAAAAAAAAAIWhkbHIAAAAAAAAAAG1kaXJhcHBs\n",
       "AAAAAAAAAAAAAAAALWlsc3QAAAAlqXRvbwAAAB1kYXRhAAAAAQAAAABMYXZmNTcuODMuMTAw\n",
       "\">\n",
       "  Your browser does not support the video tag.\n",
       "</video>"
      ],
      "text/plain": [
       "<IPython.core.display.HTML object>"
      ]
     },
     "execution_count": 272,
     "metadata": {
      "tags": []
     },
     "output_type": "execute_result"
    }
   ],
   "source": [
    "HTML(anim.to_html5_video())"
   ]
  },
  {
   "cell_type": "code",
   "execution_count": 0,
   "metadata": {
    "colab": {},
    "colab_type": "code",
    "id": "yn5T09raeUgg"
   },
   "outputs": [],
   "source": []
  }
 ],
 "metadata": {
  "colab": {
   "collapsed_sections": [
    "d1QtwZTHiwYa",
    "bw1X-kC7i6en",
    "9QOupOWcrfdM",
    "_k95SGx_xWrI",
    "3zCd2TGhBNPg"
   ],
   "name": "MP_Neuron_And_Perceptron.ipynb",
   "provenance": [],
   "version": "0.3.2"
  },
  "kernelspec": {
   "display_name": "Python 3",
   "language": "python",
   "name": "python3"
  },
  "language_info": {
   "codemirror_mode": {
    "name": "ipython",
    "version": 3
   },
   "file_extension": ".py",
   "mimetype": "text/x-python",
   "name": "python",
   "nbconvert_exporter": "python",
   "pygments_lexer": "ipython3",
   "version": "3.6.7"
  }
 },
 "nbformat": 4,
 "nbformat_minor": 1
}
